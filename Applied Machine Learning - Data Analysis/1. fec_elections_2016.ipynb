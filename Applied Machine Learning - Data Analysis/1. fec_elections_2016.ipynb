{
 "cells": [
  {
   "cell_type": "markdown",
   "metadata": {
    "slideshow": {
     "slide_type": "slide"
    }
   },
   "source": [
    "# First Assignment \n",
    "* Each exercise is distinquished from the other using a h2 header.\n",
    "* All datasets are downloaded via URL, except one for which instructions will be offered.\n",
    "\n",
    ">Themelina Kouzoumpasi\n",
    ">p3170076"
   ]
  },
  {
   "cell_type": "markdown",
   "metadata": {
    "slideshow": {
     "slide_type": "fragment"
    }
   },
   "source": [
    "* All libraries used in this assignment are imported below."
   ]
  },
  {
   "cell_type": "code",
   "execution_count": 1,
   "metadata": {
    "scrolled": true,
    "slideshow": {
     "slide_type": "fragment"
    }
   },
   "outputs": [],
   "source": [
    "# libraries' imports\n",
    "import pandas as pd\n",
    "import numpy as np\n",
    "import matplotlib.pyplot as plt\n",
    "from collections import defaultdict\n",
    "\n",
    "# If max_cols is exceeded, switch to truncate view\n",
    "pd.set_option('display.max_columns', None)\n",
    "\n",
    "# to open a graph on same slide\n",
    "%matplotlib inline\n"
   ]
  },
  {
   "cell_type": "markdown",
   "metadata": {
    "slideshow": {
     "slide_type": "slide"
    }
   },
   "source": [
    "## Exercise 1\n",
    "* The dataset containing all information about all candidates is located at https://www.fec.gov/files/bulk-downloads/2016/cn16.zip and its header file at https://www.fec.gov/data/browse-data/files/bulk-downloads/data_dictionaries/cn_header_file.csv.\n",
    "\n",
    "* The dataset containing all information about all committees is located at https://www.fec.gov/files/bulk-downloads/2016/cm16.zip and its header file at http://www.fec.gov/files//bulk-downloads/data_dictionaries/cm_header_file.csv\n",
    "\n",
    "* The dataset containing all information about all contributions from committees to candidates is located at https://www.fec.gov/files/bulk-downloads/2016/pas216.zip and its header file at http://www.fec.gov/files/bulk-downloads/data_dictionaries/pas2_header_file.csv"
   ]
  },
  {
   "cell_type": "markdown",
   "metadata": {
    "slideshow": {
     "slide_type": "slide"
    }
   },
   "source": [
    "* Regarding the candidates dataset, firstly the header file is read.\n",
    "* The DataFrame `headers_can` is then converted into a list so as to be used in reading the actual data."
   ]
  },
  {
   "cell_type": "code",
   "execution_count": 2,
   "metadata": {
    "scrolled": true,
    "slideshow": {
     "slide_type": "fragment"
    }
   },
   "outputs": [],
   "source": [
    "headers_can = pd.read_csv('https://www.fec.gov/data/browse-data/files/bulk-downloads/data_dictionaries/cn_header_file.csv')\n",
    "\n",
    "headers_can = headers_can.columns.tolist()"
   ]
  },
  {
   "cell_type": "markdown",
   "metadata": {
    "slideshow": {
     "slide_type": "fragment"
    }
   },
   "source": [
    "* Then the actual data is read. "
   ]
  },
  {
   "cell_type": "code",
   "execution_count": 3,
   "metadata": {
    "scrolled": true,
    "slideshow": {
     "slide_type": "fragment"
    }
   },
   "outputs": [],
   "source": [
    "candidates = pd.read_csv('https://www.fec.gov/files/bulk-downloads/2016/cn16.zip',\n",
    "                          sep=\"|\",\n",
    "                          index_col=False,\n",
    "                          names=headers_can)"
   ]
  },
  {
   "cell_type": "markdown",
   "metadata": {
    "slideshow": {
     "slide_type": "slide"
    }
   },
   "source": [
    "* Same goes for the committees dataset."
   ]
  },
  {
   "cell_type": "code",
   "execution_count": 4,
   "metadata": {
    "scrolled": true,
    "slideshow": {
     "slide_type": "fragment"
    }
   },
   "outputs": [],
   "source": [
    "headers_com = pd.read_csv('http://www.fec.gov/files//bulk-downloads/data_dictionaries/cm_header_file.csv')\n",
    "\n",
    "headers_com = headers_com.columns.tolist()"
   ]
  },
  {
   "cell_type": "markdown",
   "metadata": {
    "slideshow": {
     "slide_type": "fragment"
    }
   },
   "source": [
    "* Then the actual data is read."
   ]
  },
  {
   "cell_type": "code",
   "execution_count": 5,
   "metadata": {
    "scrolled": true,
    "slideshow": {
     "slide_type": "fragment"
    }
   },
   "outputs": [],
   "source": [
    "committees = pd.read_csv('https://www.fec.gov/files/bulk-downloads/2016/cm16.zip',\n",
    "                          sep=\"|\",\n",
    "                          index_col=False,\n",
    "                          names=headers_com)"
   ]
  },
  {
   "cell_type": "markdown",
   "metadata": {
    "slideshow": {
     "slide_type": "slide"
    }
   },
   "source": [
    "* Same goes for the contributions from committees to candidates dataset.\n",
    "* In this dataset, all columns but one are defined as strings, while `TRANSACTION_AMT` column is defined as float."
   ]
  },
  {
   "cell_type": "code",
   "execution_count": 6,
   "metadata": {
    "scrolled": true,
    "slideshow": {
     "slide_type": "fragment"
    }
   },
   "outputs": [],
   "source": [
    "headers_contr = pd.read_csv('http://www.fec.gov/files/bulk-downloads/data_dictionaries/pas2_header_file.csv')\n",
    "\n",
    "headers_contr = headers_contr.columns.tolist()\n",
    "\n",
    "dtype_contr = {h: np.str for h in headers_contr}\n",
    "dtype_contr['TRANSACTION_AMT'] = np.float"
   ]
  },
  {
   "cell_type": "markdown",
   "metadata": {
    "slideshow": {
     "slide_type": "fragment"
    }
   },
   "source": [
    "* Then the actual data is read."
   ]
  },
  {
   "cell_type": "code",
   "execution_count": 7,
   "metadata": {
    "scrolled": true,
    "slideshow": {
     "slide_type": "fragment"
    }
   },
   "outputs": [],
   "source": [
    "contributions = pd.read_csv('https://www.fec.gov/files/bulk-downloads/2016/pas216.zip',\n",
    "                          sep=\"|\",\n",
    "                          index_col=False,\n",
    "                          names=headers_contr,\n",
    "                          parse_dates=['TRANSACTION_DT'],\n",
    "                          dtype=dtype_contr)"
   ]
  },
  {
   "cell_type": "markdown",
   "metadata": {
    "slideshow": {
     "slide_type": "slide"
    }
   },
   "source": [
    "* We are interested only for the contributions made by PACs\n",
    "* So, an inner join has to be executed in order to connect all contributions' committees to their type."
   ]
  },
  {
   "cell_type": "code",
   "execution_count": 8,
   "metadata": {
    "scrolled": true,
    "slideshow": {
     "slide_type": "fragment"
    }
   },
   "outputs": [
    {
     "data": {
      "text/plain": [
       "Index(['CMTE_ID', 'AMNDT_IND', 'RPT_TP', 'TRANSACTION_PGI', 'IMAGE_NUM',\n",
       "       'TRANSACTION_TP', 'ENTITY_TP', 'NAME', 'CITY', 'STATE', 'ZIP_CODE',\n",
       "       'EMPLOYER', 'OCCUPATION', 'TRANSACTION_DT', 'TRANSACTION_AMT',\n",
       "       'OTHER_ID', 'CAND_ID', 'TRAN_ID', 'FILE_NUM', 'MEMO_CD', 'MEMO_TEXT',\n",
       "       'SUB_ID', 'CMTE_TP', 'CMTE_NM'],\n",
       "      dtype='object')"
      ]
     },
     "execution_count": 8,
     "metadata": {},
     "output_type": "execute_result"
    }
   ],
   "source": [
    "contributions_TP = pd.merge(contributions,\n",
    "                             committees[['CMTE_TP','CMTE_ID', 'CMTE_NM']],\n",
    "                             on='CMTE_ID',\n",
    "                             how='inner')\n",
    "contributions_TP.columns"
   ]
  },
  {
   "cell_type": "markdown",
   "metadata": {
    "slideshow": {
     "slide_type": "fragment"
    }
   },
   "source": [
    "* In addition, we are interested only for Donald Trump and Hillary Clinton.\n",
    "* So, another inner join has to executed in order to find all contributions connected to the candidate's name they support, and afterwards to find of these contributions only those made for D.Trump or H.Clinton."
   ]
  },
  {
   "cell_type": "code",
   "execution_count": 9,
   "metadata": {
    "scrolled": true,
    "slideshow": {
     "slide_type": "fragment"
    }
   },
   "outputs": [
    {
     "data": {
      "text/plain": [
       "Index(['CMTE_ID', 'AMNDT_IND', 'RPT_TP', 'TRANSACTION_PGI', 'IMAGE_NUM',\n",
       "       'TRANSACTION_TP', 'ENTITY_TP', 'NAME', 'CITY', 'STATE', 'ZIP_CODE',\n",
       "       'EMPLOYER', 'OCCUPATION', 'TRANSACTION_DT', 'TRANSACTION_AMT',\n",
       "       'OTHER_ID', 'CAND_ID', 'TRAN_ID', 'FILE_NUM', 'MEMO_CD', 'MEMO_TEXT',\n",
       "       'SUB_ID', 'CMTE_TP', 'CMTE_NM', 'CAND_NAME'],\n",
       "      dtype='object')"
      ]
     },
     "execution_count": 9,
     "metadata": {},
     "output_type": "execute_result"
    }
   ],
   "source": [
    "contr_TP_can = pd.merge(contributions_TP,\n",
    "                       candidates[['CAND_ID', 'CAND_NAME']],\n",
    "                       on='CAND_ID',\n",
    "                       how='inner')\n",
    "contr_TP_can.columns"
   ]
  },
  {
   "cell_type": "markdown",
   "metadata": {
    "slideshow": {
     "slide_type": "slide"
    }
   },
   "source": [
    "* To isolate the contributions for D.Trump and H.Clinton, we need to check the entries of both of them in the `candidates` DataFrame, so as to be able to find their IDs, and therefore the PACs that support them. "
   ]
  },
  {
   "cell_type": "code",
   "execution_count": 10,
   "metadata": {
    "scrolled": true,
    "slideshow": {
     "slide_type": "fragment"
    }
   },
   "outputs": [
    {
     "data": {
      "text/plain": [
       "array(['COX, JOHN R.', 'ROBY, MARTHA', 'JOHN, ROBERT E JR', ...,\n",
       "       'CANTWELL, MARIA', 'FEINGOLD, RUSSELL DANA', 'NEUMANN, MARK W'],\n",
       "      dtype=object)"
      ]
     },
     "execution_count": 10,
     "metadata": {},
     "output_type": "execute_result"
    }
   ],
   "source": [
    "candidates['CAND_NAME'].unique()"
   ]
  },
  {
   "cell_type": "markdown",
   "metadata": {
    "slideshow": {
     "slide_type": "fragment"
    }
   },
   "source": [
    "* Having found the two names, `CLINTON, HILLARY RODHAM / TIMOTHY MICHAEL KAINE` and `TRUMP, DONALD J. / MICHAEL R. PENCE `, all contributions made specifically for D.Trump or H.Clinton can be found"
   ]
  },
  {
   "cell_type": "code",
   "execution_count": 11,
   "metadata": {
    "scrolled": true,
    "slideshow": {
     "slide_type": "fragment"
    }
   },
   "outputs": [],
   "source": [
    "trump = 'TRUMP, DONALD J. / MICHAEL R. PENCE '\n",
    "hillary = 'CLINTON, HILLARY RODHAM / TIMOTHY MICHAEL KAINE'\n",
    "\n",
    "contr_TP_2 = contr_TP_can.loc[contr_TP_can['CAND_NAME'].isin([hillary, trump])]"
   ]
  },
  {
   "cell_type": "markdown",
   "metadata": {
    "slideshow": {
     "slide_type": "slide"
    }
   },
   "source": [
    "* Based on the `\"Committee type code descriptions\" Table`, located at https://www.fec.gov/campaign-finance-data/committee-type-code-descriptions/, all PACs have committee type of the subset {N,O,Q,V,W}. \n",
    "* Therefore, getting all entries having one of these values will assure us that the `contr_PAC_2` DataFrame will have only contributions made by PACs."
   ]
  },
  {
   "cell_type": "code",
   "execution_count": 12,
   "metadata": {
    "scrolled": true,
    "slideshow": {
     "slide_type": "fragment"
    }
   },
   "outputs": [],
   "source": [
    "contr_PAC_2 = contr_TP_2[contr_TP_2['CMTE_TP'].isin(['N','O','Q','V','W'])]"
   ]
  },
  {
   "cell_type": "markdown",
   "metadata": {
    "slideshow": {
     "slide_type": "slide"
    }
   },
   "source": [
    "* As seen with the output of the command below, `contr_TP_2` DataFrame contains both contributions and refunds. "
   ]
  },
  {
   "cell_type": "code",
   "execution_count": 13,
   "metadata": {
    "scrolled": true,
    "slideshow": {
     "slide_type": "fragment"
    }
   },
   "outputs": [
    {
     "data": {
      "text/plain": [
       "True     12885\n",
       "False      189\n",
       "Name: TRANSACTION_AMT, dtype: int64"
      ]
     },
     "execution_count": 13,
     "metadata": {},
     "output_type": "execute_result"
    }
   ],
   "source": [
    "(contr_PAC_2['TRANSACTION_AMT'] > 0).value_counts()"
   ]
  },
  {
   "cell_type": "markdown",
   "metadata": {
    "slideshow": {
     "slide_type": "fragment"
    }
   },
   "source": [
    "* So, in order to isolate the contributions, only the poisitive values of `TRANSACTION_AMT` are kept in the DataFrame"
   ]
  },
  {
   "cell_type": "code",
   "execution_count": 14,
   "metadata": {
    "scrolled": true,
    "slideshow": {
     "slide_type": "fragment"
    }
   },
   "outputs": [],
   "source": [
    "contr_PAC_2 = contr_PAC_2[contr_PAC_2['TRANSACTION_AMT']>0]"
   ]
  },
  {
   "cell_type": "markdown",
   "metadata": {
    "slideshow": {
     "slide_type": "slide"
    }
   },
   "source": [
    "* Now we can find the **Top 5 PACs that supported each of the two presidential candidates**."
   ]
  },
  {
   "cell_type": "code",
   "execution_count": 15,
   "metadata": {
    "scrolled": true,
    "slideshow": {
     "slide_type": "fragment"
    }
   },
   "outputs": [
    {
     "data": {
      "text/html": [
       "<div>\n",
       "<style scoped>\n",
       "    .dataframe tbody tr th:only-of-type {\n",
       "        vertical-align: middle;\n",
       "    }\n",
       "\n",
       "    .dataframe tbody tr th {\n",
       "        vertical-align: top;\n",
       "    }\n",
       "\n",
       "    .dataframe thead th {\n",
       "        text-align: right;\n",
       "    }\n",
       "</style>\n",
       "<table border=\"1\" class=\"dataframe\">\n",
       "  <thead>\n",
       "    <tr style=\"text-align: right;\">\n",
       "      <th></th>\n",
       "      <th></th>\n",
       "      <th>TRANSACTION_AMT</th>\n",
       "    </tr>\n",
       "    <tr>\n",
       "      <th>CMTE_NM</th>\n",
       "      <th>CMTE_ID</th>\n",
       "      <th></th>\n",
       "    </tr>\n",
       "  </thead>\n",
       "  <tbody>\n",
       "    <tr>\n",
       "      <th>PRIORITIES USA ACTION</th>\n",
       "      <th>C00495861</th>\n",
       "      <td>132535920.0</td>\n",
       "    </tr>\n",
       "    <tr>\n",
       "      <th>FUTURE45</th>\n",
       "      <th>C00574533</th>\n",
       "      <td>24219101.0</td>\n",
       "    </tr>\n",
       "    <tr>\n",
       "      <th>GREAT AMERICA PAC</th>\n",
       "      <th>C00608489</th>\n",
       "      <td>23885769.0</td>\n",
       "    </tr>\n",
       "    <tr>\n",
       "      <th>REBUILDING AMERICA NOW</th>\n",
       "      <th>C00618876</th>\n",
       "      <td>21280098.0</td>\n",
       "    </tr>\n",
       "    <tr>\n",
       "      <th>OUR PRINCIPLES PAC</th>\n",
       "      <th>C00603621</th>\n",
       "      <td>16353117.0</td>\n",
       "    </tr>\n",
       "  </tbody>\n",
       "</table>\n",
       "</div>"
      ],
      "text/plain": [
       "                                  TRANSACTION_AMT\n",
       "CMTE_NM                CMTE_ID                   \n",
       "PRIORITIES USA ACTION  C00495861      132535920.0\n",
       "FUTURE45               C00574533       24219101.0\n",
       "GREAT AMERICA PAC      C00608489       23885769.0\n",
       "REBUILDING AMERICA NOW C00618876       21280098.0\n",
       "OUR PRINCIPLES PAC     C00603621       16353117.0"
      ]
     },
     "execution_count": 15,
     "metadata": {},
     "output_type": "execute_result"
    }
   ],
   "source": [
    "contr_PAC_2.groupby(['CMTE_NM','CMTE_ID'])\\\n",
    "           .sum('TRANSACTION_AMT')\\\n",
    "           .sort_values(by='TRANSACTION_AMT', ascending=False)\\\n",
    "           .head(5)"
   ]
  },
  {
   "cell_type": "markdown",
   "metadata": {},
   "source": [
    "* The **Top 5 PACs that supported H.Clinton** are shown below."
   ]
  },
  {
   "cell_type": "code",
   "execution_count": 16,
   "metadata": {
    "scrolled": true
   },
   "outputs": [
    {
     "data": {
      "text/html": [
       "<div>\n",
       "<style scoped>\n",
       "    .dataframe tbody tr th:only-of-type {\n",
       "        vertical-align: middle;\n",
       "    }\n",
       "\n",
       "    .dataframe tbody tr th {\n",
       "        vertical-align: top;\n",
       "    }\n",
       "\n",
       "    .dataframe thead th {\n",
       "        text-align: right;\n",
       "    }\n",
       "</style>\n",
       "<table border=\"1\" class=\"dataframe\">\n",
       "  <thead>\n",
       "    <tr style=\"text-align: right;\">\n",
       "      <th></th>\n",
       "      <th></th>\n",
       "      <th>TRANSACTION_AMT</th>\n",
       "    </tr>\n",
       "    <tr>\n",
       "      <th>CMTE_NM</th>\n",
       "      <th>CMTE_ID</th>\n",
       "      <th></th>\n",
       "    </tr>\n",
       "  </thead>\n",
       "  <tbody>\n",
       "    <tr>\n",
       "      <th>FUTURE45</th>\n",
       "      <th>C00574533</th>\n",
       "      <td>24195670.0</td>\n",
       "    </tr>\n",
       "    <tr>\n",
       "      <th>REBUILDING AMERICA NOW</th>\n",
       "      <th>C00618876</th>\n",
       "      <td>17184458.0</td>\n",
       "    </tr>\n",
       "    <tr>\n",
       "      <th>NATIONAL RIFLE ASSOCIATION OF AMERICA POLITICAL VICTORY FUND</th>\n",
       "      <th>C00053553</th>\n",
       "      <td>7448440.0</td>\n",
       "    </tr>\n",
       "    <tr>\n",
       "      <th>PRIORITIES USA ACTION</th>\n",
       "      <th>C00495861</th>\n",
       "      <td>6473727.0</td>\n",
       "    </tr>\n",
       "    <tr>\n",
       "      <th>LCV VICTORY FUND</th>\n",
       "      <th>C00486845</th>\n",
       "      <td>6283002.0</td>\n",
       "    </tr>\n",
       "  </tbody>\n",
       "</table>\n",
       "</div>"
      ],
      "text/plain": [
       "                                                              TRANSACTION_AMT\n",
       "CMTE_NM                                            CMTE_ID                   \n",
       "FUTURE45                                           C00574533       24195670.0\n",
       "REBUILDING AMERICA NOW                             C00618876       17184458.0\n",
       "NATIONAL RIFLE ASSOCIATION OF AMERICA POLITICAL... C00053553        7448440.0\n",
       "PRIORITIES USA ACTION                              C00495861        6473727.0\n",
       "LCV VICTORY FUND                                   C00486845        6283002.0"
      ]
     },
     "execution_count": 16,
     "metadata": {},
     "output_type": "execute_result"
    }
   ],
   "source": [
    "contr_PAC_2[contr_PAC_2['CAND_NAME']== hillary]\\\n",
    "           .groupby(['CMTE_NM','CMTE_ID'])\\\n",
    "           .sum('TRANSACTION_AMT')\\\n",
    "           .sort_values(by='TRANSACTION_AMT', ascending=False)\\\n",
    "           .head(5)"
   ]
  },
  {
   "cell_type": "markdown",
   "metadata": {},
   "source": [
    "* The **Top 5 PACs that supported D.Trump** are shown below."
   ]
  },
  {
   "cell_type": "code",
   "execution_count": 17,
   "metadata": {
    "scrolled": true
   },
   "outputs": [
    {
     "data": {
      "text/html": [
       "<div>\n",
       "<style scoped>\n",
       "    .dataframe tbody tr th:only-of-type {\n",
       "        vertical-align: middle;\n",
       "    }\n",
       "\n",
       "    .dataframe tbody tr th {\n",
       "        vertical-align: top;\n",
       "    }\n",
       "\n",
       "    .dataframe thead th {\n",
       "        text-align: right;\n",
       "    }\n",
       "</style>\n",
       "<table border=\"1\" class=\"dataframe\">\n",
       "  <thead>\n",
       "    <tr style=\"text-align: right;\">\n",
       "      <th></th>\n",
       "      <th></th>\n",
       "      <th>TRANSACTION_AMT</th>\n",
       "    </tr>\n",
       "    <tr>\n",
       "      <th>CMTE_NM</th>\n",
       "      <th>CMTE_ID</th>\n",
       "      <th></th>\n",
       "    </tr>\n",
       "  </thead>\n",
       "  <tbody>\n",
       "    <tr>\n",
       "      <th>PRIORITIES USA ACTION</th>\n",
       "      <th>C00495861</th>\n",
       "      <td>126062193.0</td>\n",
       "    </tr>\n",
       "    <tr>\n",
       "      <th>GREAT AMERICA PAC</th>\n",
       "      <th>C00608489</th>\n",
       "      <td>23881256.0</td>\n",
       "    </tr>\n",
       "    <tr>\n",
       "      <th>OUR PRINCIPLES PAC</th>\n",
       "      <th>C00603621</th>\n",
       "      <td>16353117.0</td>\n",
       "    </tr>\n",
       "    <tr>\n",
       "      <th>NEXTGEN CALIFORNIA ACTION COMMITTEE</th>\n",
       "      <th>C00615815</th>\n",
       "      <td>13240861.0</td>\n",
       "    </tr>\n",
       "    <tr>\n",
       "      <th>LIFT LEADING ILLINOIS FOR TOMORROW</th>\n",
       "      <th>C00625525</th>\n",
       "      <td>9922027.0</td>\n",
       "    </tr>\n",
       "  </tbody>\n",
       "</table>\n",
       "</div>"
      ],
      "text/plain": [
       "                                               TRANSACTION_AMT\n",
       "CMTE_NM                             CMTE_ID                   \n",
       "PRIORITIES USA ACTION               C00495861      126062193.0\n",
       "GREAT AMERICA PAC                   C00608489       23881256.0\n",
       "OUR PRINCIPLES PAC                  C00603621       16353117.0\n",
       "NEXTGEN CALIFORNIA ACTION COMMITTEE C00615815       13240861.0\n",
       "LIFT LEADING ILLINOIS FOR TOMORROW  C00625525        9922027.0"
      ]
     },
     "execution_count": 17,
     "metadata": {},
     "output_type": "execute_result"
    }
   ],
   "source": [
    "contr_PAC_2[contr_PAC_2['CAND_NAME']== trump]\\\n",
    "           .groupby(['CMTE_NM','CMTE_ID'])\\\n",
    "           .sum('TRANSACTION_AMT')\\\n",
    "           .sort_values(by='TRANSACTION_AMT', ascending=False)\\\n",
    "           .head(5)"
   ]
  },
  {
   "cell_type": "markdown",
   "metadata": {
    "slideshow": {
     "slide_type": "slide"
    }
   },
   "source": [
    "## Exercise 2\n",
    "* The dataset containing all information about the individuals' contributions is located at https://www.fec.gov/files/bulk-downloads/2016/indiv16.zip and its header at https://www.fec.gov/files/bulk-downloads/data_dictionaries/indiv_header_file.csv\n",
    "* Due to the file's size, the data is converted into a DataFrame after it's been downloaded and unzipped on the same path of the assignment's file."
   ]
  },
  {
   "cell_type": "markdown",
   "metadata": {
    "slideshow": {
     "slide_type": "slide"
    }
   },
   "source": [
    "* Regarding the contributions by individuals dataset, firstly the header file is read.\n",
    "* The DataFrame `headers_indiv` is then converted into a list so as to be used in reading the actual data."
   ]
  },
  {
   "cell_type": "code",
   "execution_count": 18,
   "metadata": {
    "scrolled": true,
    "slideshow": {
     "slide_type": "fragment"
    }
   },
   "outputs": [
    {
     "data": {
      "text/plain": [
       "['CMTE_ID',\n",
       " 'AMNDT_IND',\n",
       " 'RPT_TP',\n",
       " 'TRANSACTION_PGI',\n",
       " 'IMAGE_NUM',\n",
       " 'TRANSACTION_TP',\n",
       " 'ENTITY_TP',\n",
       " 'NAME',\n",
       " 'CITY',\n",
       " 'STATE',\n",
       " 'ZIP_CODE',\n",
       " 'EMPLOYER',\n",
       " 'OCCUPATION',\n",
       " 'TRANSACTION_DT',\n",
       " 'TRANSACTION_AMT',\n",
       " 'OTHER_ID',\n",
       " 'TRAN_ID',\n",
       " 'FILE_NUM',\n",
       " 'MEMO_CD',\n",
       " 'MEMO_TEXT',\n",
       " 'SUB_ID']"
      ]
     },
     "execution_count": 18,
     "metadata": {},
     "output_type": "execute_result"
    }
   ],
   "source": [
    "headers_indiv = pd.read_csv('https://www.fec.gov/files/bulk-downloads/data_dictionaries/indiv_header_file.csv')\n",
    "\n",
    "headers_indiv = headers_indiv.columns.tolist()\n",
    "headers_indiv"
   ]
  },
  {
   "cell_type": "markdown",
   "metadata": {
    "slideshow": {
     "slide_type": "slide"
    }
   },
   "source": [
    "* As this dataset is very big, columns `AMNDT_IND`_(index:1)_, `RPT_TP`_(index:2)_, `TRANSACTION_PGI`_(index:3)_, `IMAGE_NUM`_(index:4)_, `FILE_NUM`_(index:17)_, `MEMO_CD`_(index:18)_, `MEMO_TEXT`_(index:19)_ are not included in the DataFrame. This step is to eliminate any possibility of a `MemoryError` due to lack of memory because of the size of the file.\n",
    "* In order to do that, the `headers_indiv` list should also not contain these columns."
   ]
  },
  {
   "cell_type": "code",
   "execution_count": 19,
   "metadata": {
    "scrolled": true,
    "slideshow": {
     "slide_type": "fragment"
    }
   },
   "outputs": [
    {
     "data": {
      "text/plain": [
       "['CMTE_ID',\n",
       " 'TRANSACTION_TP',\n",
       " 'ENTITY_TP',\n",
       " 'NAME',\n",
       " 'CITY',\n",
       " 'STATE',\n",
       " 'ZIP_CODE',\n",
       " 'EMPLOYER',\n",
       " 'OCCUPATION',\n",
       " 'TRANSACTION_DT',\n",
       " 'TRANSACTION_AMT',\n",
       " 'OTHER_ID',\n",
       " 'TRAN_ID',\n",
       " 'SUB_ID']"
      ]
     },
     "execution_count": 19,
     "metadata": {},
     "output_type": "execute_result"
    }
   ],
   "source": [
    "# list of columns to be removed from headers_indiv\n",
    "remove_col = ['AMNDT_IND', 'RPT_TP', 'TRANSACTION_PGI', 'IMAGE_NUM', 'FILE_NUM', 'MEMO_CD', 'MEMO_TEXT']\n",
    "\n",
    "for c in remove_col:\n",
    "    headers_indiv.remove(c)\n",
    "    \n",
    "headers_indiv"
   ]
  },
  {
   "cell_type": "markdown",
   "metadata": {
    "slideshow": {
     "slide_type": "fragment"
    }
   },
   "source": [
    "* All columns but one are defined as strings, while `TRANSACTION_AMT` column is defined as float"
   ]
  },
  {
   "cell_type": "code",
   "execution_count": 20,
   "metadata": {
    "scrolled": true,
    "slideshow": {
     "slide_type": "fragment"
    }
   },
   "outputs": [],
   "source": [
    "dtype_indiv = {h: np.str for h in headers_indiv}\n",
    "dtype_indiv['TRANSACTION_AMT'] = np.float"
   ]
  },
  {
   "cell_type": "markdown",
   "metadata": {
    "slideshow": {
     "slide_type": "slide"
    }
   },
   "source": [
    "* The actual data is read through a local path. Specifically, on the same folder of the assignment's file in folder `indiv16`. \n",
    "* Data is divided into two parts to make the process more efficient.\n",
    "* Only columns not ignored in the `headers_indiv` list are used."
   ]
  },
  {
   "cell_type": "code",
   "execution_count": 22,
   "metadata": {
    "scrolled": true,
    "slideshow": {
     "slide_type": "fragment"
    }
   },
   "outputs": [],
   "source": [
    "# Part One of the dataset\n",
    "individuals_1 = pd.read_csv('indiv16/itcont.txt',\n",
    "                          sep=\"|\",\n",
    "                          index_col=False,\n",
    "                          nrows=10000000,\n",
    "                          usecols=[0,5,6,7,8,9,10,11,12,13,14,15,16,20],\n",
    "                          names=headers_indiv,\n",
    "                          parse_dates=['TRANSACTION_DT'],\n",
    "                          dtype=dtype_indiv)\n",
    "\n",
    "# Part Two of the dataset\n",
    "individuals_2 = pd.read_csv('indiv16/itcont.txt',\n",
    "                          sep=\"|\",\n",
    "                          index_col=False,\n",
    "                          skiprows=10000000,\n",
    "                          usecols=[0,5,6,7,8,9,10,11,12,13,14,15,16,20],\n",
    "                          names=headers_indiv,\n",
    "                          parse_dates=['TRANSACTION_DT'],\n",
    "                          dtype=dtype_indiv)"
   ]
  },
  {
   "cell_type": "markdown",
   "metadata": {
    "slideshow": {
     "slide_type": "fragment"
    }
   },
   "source": [
    "* As shown below, this dataset contains both contributions and refunds, but we are only interested in contributions _(testing only one of the two parts of the dataset is enough to know that there are refunds across the dataset)._"
   ]
  },
  {
   "cell_type": "code",
   "execution_count": 23,
   "metadata": {
    "scrolled": true,
    "slideshow": {
     "slide_type": "fragment"
    }
   },
   "outputs": [
    {
     "data": {
      "text/plain": [
       "True     9824580\n",
       "False     175420\n",
       "Name: TRANSACTION_AMT, dtype: int64"
      ]
     },
     "execution_count": 23,
     "metadata": {},
     "output_type": "execute_result"
    }
   ],
   "source": [
    "(individuals_1['TRANSACTION_AMT'] > 0).value_counts()"
   ]
  },
  {
   "cell_type": "markdown",
   "metadata": {
    "slideshow": {
     "slide_type": "fragment"
    }
   },
   "source": [
    "* So, to remove all refunds, we keep only the positive values of `TRANSACTION_AMT`."
   ]
  },
  {
   "cell_type": "code",
   "execution_count": 25,
   "metadata": {
    "scrolled": true,
    "slideshow": {
     "slide_type": "fragment"
    }
   },
   "outputs": [
    {
     "name": "stdout",
     "output_type": "stream",
     "text": [
      "(9824580, 14) \n",
      " (10260230, 14)\n"
     ]
    }
   ],
   "source": [
    "individuals_1 = individuals_1[individuals_1['TRANSACTION_AMT'] > 0]\n",
    "individuals_2 = individuals_2[individuals_2['TRANSACTION_AMT'] > 0]\n",
    "print(individuals_1.shape,'\\n',individuals_2.shape)"
   ]
  },
  {
   "cell_type": "markdown",
   "metadata": {
    "slideshow": {
     "slide_type": "slide"
    }
   },
   "source": [
    "* We are interested only for the two presidential candidates.\n",
    "* First, we need to connect the committees to the candidate's name they support."
   ]
  },
  {
   "cell_type": "code",
   "execution_count": 26,
   "metadata": {
    "scrolled": true,
    "slideshow": {
     "slide_type": "fragment"
    }
   },
   "outputs": [],
   "source": [
    "committees_can = pd.merge(committees,\n",
    "                          candidates[['CAND_ID','CAND_NAME']],\n",
    "                          on='CAND_ID',\n",
    "                          how='inner')"
   ]
  },
  {
   "cell_type": "markdown",
   "metadata": {
    "slideshow": {
     "slide_type": "fragment"
    }
   },
   "source": [
    "* Then, to find all contributions made to committees that directly support D.Trump or H.Clinton, an inner join between `individuals` _(individuals_1 + individuals_2)_ and `committees` DataFrames is needed. \n",
    "* `committees` DataFrame was defined in Exercise 1"
   ]
  },
  {
   "cell_type": "code",
   "execution_count": 28,
   "metadata": {
    "scrolled": true,
    "slideshow": {
     "slide_type": "fragment"
    }
   },
   "outputs": [],
   "source": [
    "# Part One of the dataset\n",
    "indiv_1_can = pd.merge(individuals_1,\n",
    "                       committees_can[['CMTE_ID','CAND_ID', 'CAND_NAME']],\n",
    "                       on='CMTE_ID',\n",
    "                       how='inner')\n",
    "\n",
    "# Part Two of the dataset\n",
    "indiv_2_can = pd.merge(individuals_2,\n",
    "                       committees_can[['CMTE_ID','CAND_ID', 'CAND_NAME']],\n",
    "                       on='CMTE_ID',\n",
    "                       how='inner')"
   ]
  },
  {
   "cell_type": "markdown",
   "metadata": {
    "slideshow": {
     "slide_type": "fragment"
    }
   },
   "source": [
    "* Finally, we isolate the contributions that directly supported D.Trump or H.Clinton."
   ]
  },
  {
   "cell_type": "code",
   "execution_count": 30,
   "metadata": {
    "scrolled": true,
    "slideshow": {
     "slide_type": "fragment"
    }
   },
   "outputs": [
    {
     "name": "stdout",
     "output_type": "stream",
     "text": [
      "(1438717, 16) \n",
      " (1223324, 16)\n"
     ]
    }
   ],
   "source": [
    "indiv_1_2 = indiv_1_can[indiv_1_can['CAND_NAME'].isin([trump, hillary])].copy()\n",
    "indiv_2_2 = indiv_2_can[indiv_2_can['CAND_NAME'].isin([trump, hillary])].copy()\n",
    "print(indiv_1_2.shape,'\\n',indiv_2_2.shape)"
   ]
  },
  {
   "cell_type": "markdown",
   "metadata": {
    "slideshow": {
     "slide_type": "slide"
    }
   },
   "source": [
    "* We are interested only in finding contributions made by individuals, **specifically persons**, so using the `ENTITY_TP` column we isolate those contributions.\n",
    "* This column is only valid for electronic filings, so before we use it, we need to check if there is any entry that doesn't have a valid value in this column.\n",
    "* `axes[0]` returns all rows of the DataFrame caller, and `len(axes[0])` returns the number of rows of the DataFrame caller"
   ]
  },
  {
   "cell_type": "code",
   "execution_count": 31,
   "metadata": {
    "scrolled": true,
    "slideshow": {
     "slide_type": "fragment"
    }
   },
   "outputs": [
    {
     "name": "stdout",
     "output_type": "stream",
     "text": [
      "IND    1438609\n",
      "CAN         98\n",
      "ORG          9\n",
      "PAC          1\n",
      "Name: ENTITY_TP, dtype: int64 \n",
      " entries with non-Null ENTITY_TP = number of entries -> True \n",
      "\n",
      " IND    1223173\n",
      "CAN         99\n",
      "ORG         47\n",
      "COM          4\n",
      "PAC          1\n",
      "Name: ENTITY_TP, dtype: int64 \n",
      " entries with non-Null ENTITY_TP = number of entries -> True\n"
     ]
    }
   ],
   "source": [
    "a = indiv_1_2['ENTITY_TP'].value_counts()\n",
    "b = indiv_2_2['ENTITY_TP'].value_counts()\n",
    "print(a,'\\n',\n",
    "      'entries with non-Null ENTITY_TP = number of entries ->',len(indiv_1_2.axes[0])==a.sum(),'\\n\\n',\n",
    "      b,'\\n',\n",
    "      'entries with non-Null ENTITY_TP = number of entries ->',len(indiv_2_2.axes[0])==b.sum())"
   ]
  },
  {
   "cell_type": "markdown",
   "metadata": {
    "slideshow": {
     "slide_type": "fragment"
    }
   },
   "source": [
    "* As proved above, there are no invalid entries in column `ENTITY_TP`, so we can isolate all contributions made by persons."
   ]
  },
  {
   "cell_type": "code",
   "execution_count": 33,
   "metadata": {
    "scrolled": true,
    "slideshow": {
     "slide_type": "fragment"
    }
   },
   "outputs": [],
   "source": [
    "indiv_1_2 = indiv_1_2[indiv_1_2['ENTITY_TP'].isin(['IND','CAN'])]\n",
    "indiv_2_2 = indiv_2_2[indiv_2_2['ENTITY_TP'].isin(['IND','CAN'])]"
   ]
  },
  {
   "cell_type": "markdown",
   "metadata": {
    "slideshow": {
     "slide_type": "slide"
    }
   },
   "source": [
    "* Now that `indiv_1_2` and `indiv_2_2` have all contributions made for D.Trump or H.Clinton and the sum of their sizes is much smaller than the initial size, we can combine the two DataFrames into one.\n",
    "* This process is done by the command `append`. The parameter `ignore_index` is set to `True` so as to maintain the index of `indiv_1_2` DataFrame continuous."
   ]
  },
  {
   "cell_type": "code",
   "execution_count": 34,
   "metadata": {
    "scrolled": true,
    "slideshow": {
     "slide_type": "fragment"
    }
   },
   "outputs": [
    {
     "name": "stdout",
     "output_type": "stream",
     "text": [
      "(2661979, 16)\n"
     ]
    }
   ],
   "source": [
    "indiv_2 = indiv_1_2.append(indiv_2_2, ignore_index=True)\n",
    "print(indiv_2.shape)"
   ]
  },
  {
   "cell_type": "markdown",
   "metadata": {
    "slideshow": {
     "slide_type": "fragment"
    }
   },
   "source": [
    "* DataFrame `indiv_2` has all contributions made by individuals for committees that are **directly** linked to one of the two candidates.\n",
    "\n",
    "* An individual can support a candidate **indirectly** by donating an amount of money to an entity (committee, PAC etc), which connects to the candidate via another entity. \n",
    "            \n"
   ]
  },
  {
   "cell_type": "markdown",
   "metadata": {
    "slideshow": {
     "slide_type": "slide"
    }
   },
   "source": [
    "* `indiv_1_indirect` DataFrame contains all contributions of the 1st part of the dataset, where the entities that these contributions were donated at were not connected directly to a candidate. Same goes for the `indiv_2_indirect` for the 2nd part of the dataset.\n",
    "* Column `SUB_ID` is a unique value that identifies each of entries of the dataset.\n",
    "  \n",
    "_As a verification of the output, the 1st initial dataset's part (`individuals_1`) contains 9824580 entries, and 3089146 of them were connected to a candidate (`indiv_1_can`). That means that the rest of them,9824580-3089146=6735434 in number,are not connected directly to a candidate. Same goes for the 2nd dataset's part._"
   ]
  },
  {
   "cell_type": "code",
   "execution_count": 36,
   "metadata": {
    "scrolled": true,
    "slideshow": {
     "slide_type": "fragment"
    }
   },
   "outputs": [
    {
     "name": "stdout",
     "output_type": "stream",
     "text": [
      "(6735434, 14) \n",
      " (6289997, 14)\n"
     ]
    }
   ],
   "source": [
    "#indiv_1_indirect = individuals_1[~individuals_1['SUB_ID'].isin(indiv_1_can['SUB_ID'])]\n",
    "indiv_2_indirect = individuals_2[~individuals_2['SUB_ID'].isin(indiv_2_can['SUB_ID'])]\n",
    "print(indiv_1_indirect.shape,'\\n',indiv_2_indirect.shape)"
   ]
  },
  {
   "cell_type": "markdown",
   "metadata": {
    "slideshow": {
     "slide_type": "fragment"
    }
   },
   "source": [
    "* Since we are looking for indirect contributions, we are interested in earmarked controbutions, that is contributions with `TRANSACTION_TP` with codes `15C`, `15I`, `15T`, `24I`, `24T`, based on the [Transaction Type Code Desciption Table](https://www.fec.gov/campaign-finance-data/transaction-type-code-descriptions/)"
   ]
  },
  {
   "cell_type": "code",
   "execution_count": 38,
   "metadata": {
    "scrolled": true,
    "slideshow": {
     "slide_type": "fragment"
    }
   },
   "outputs": [
    {
     "name": "stdout",
     "output_type": "stream",
     "text": [
      "(2308227, 14) \n",
      " (1724551, 14)\n"
     ]
    }
   ],
   "source": [
    "#indiv_1_indirect = indiv_1_indirect[indiv_1_indirect['TRANSACTION_TP'].isin(['15C','15I','15T','24I','24T'])].copy()\n",
    "indiv_2_indirect = indiv_2_indirect[indiv_2_indirect['TRANSACTION_TP'].isin(['15C','15I','15T','24I','24T'])].copy()\n",
    "print(indiv_1_indirect.shape,'\\n',indiv_2_indirect.shape)"
   ]
  },
  {
   "cell_type": "markdown",
   "metadata": {
    "slideshow": {
     "slide_type": "fragment"
    }
   },
   "source": [
    "* Now that `indiv_1_indirect` and `indiv_2_indirect` DataFrames have manageable sizes, we can combine the two into one DataFrame."
   ]
  },
  {
   "cell_type": "code",
   "execution_count": 39,
   "metadata": {
    "scrolled": true,
    "slideshow": {
     "slide_type": "fragment"
    }
   },
   "outputs": [
    {
     "name": "stdout",
     "output_type": "stream",
     "text": [
      "(4032778, 14)\n"
     ]
    }
   ],
   "source": [
    "indiv_indirect = indiv_1_indirect.append(indiv_2_indirect, ignore_index=True)\n",
    "print(indiv_indirect.shape)"
   ]
  },
  {
   "cell_type": "markdown",
   "metadata": {
    "slideshow": {
     "slide_type": "slide"
    }
   },
   "source": [
    "* Since `indiv_indirect` DataFrame contains all **indirect** contributions by individuals, these contributions were sent from the entities that initially received them to another entity _(intermediary committee)_.\n",
    "* That means that we need the data found at https://www.fec.gov/files/bulk-downloads/2016/oth16.zip with its header https://www.fec.gov/files/bulk-downloads/data_dictionaries/oth_header_file.csv, which contains all committee-to-committee transactions.\n",
    "* [fec.gov](https://www.fec.gov/campaign-finance-data/contributions-committees-candidates-file-description/) refers that contributions from committees to candidates dataset (seen in Exercise 1,`contributions`) is a subset of this dataset (`ctc`), so it isn't neccessary to check both datasets."
   ]
  },
  {
   "cell_type": "markdown",
   "metadata": {
    "slideshow": {
     "slide_type": "fragment"
    }
   },
   "source": [
    "* Firstly the header file is read.\n",
    "* The DataFrame `headers_ctc` is then converted into a list so as to be used in reading the actual data."
   ]
  },
  {
   "cell_type": "code",
   "execution_count": 40,
   "metadata": {
    "scrolled": true,
    "slideshow": {
     "slide_type": "fragment"
    }
   },
   "outputs": [
    {
     "data": {
      "text/plain": [
       "['CMTE_ID',\n",
       " 'AMNDT_IND',\n",
       " 'RPT_TP',\n",
       " 'TRANSACTION_PGI',\n",
       " 'IMAGE_NUM',\n",
       " 'TRANSACTION_TP',\n",
       " 'ENTITY_TP',\n",
       " 'NAME',\n",
       " 'CITY',\n",
       " 'STATE',\n",
       " 'ZIP_CODE',\n",
       " 'EMPLOYER',\n",
       " 'OCCUPATION',\n",
       " 'TRANSACTION_DT',\n",
       " 'TRANSACTION_AMT',\n",
       " 'OTHER_ID',\n",
       " 'TRAN_ID',\n",
       " 'FILE_NUM',\n",
       " 'MEMO_CD',\n",
       " 'MEMO_TEXT',\n",
       " 'SUB_ID']"
      ]
     },
     "execution_count": 40,
     "metadata": {},
     "output_type": "execute_result"
    }
   ],
   "source": [
    "headers_ctc = pd.read_csv('https://www.fec.gov/files/bulk-downloads/data_dictionaries/oth_header_file.csv')\n",
    "\n",
    "headers_ctc = headers_ctc.columns.tolist()\n",
    "headers_ctc"
   ]
  },
  {
   "cell_type": "markdown",
   "metadata": {
    "slideshow": {
     "slide_type": "fragment"
    }
   },
   "source": [
    "* As this dataset will be connected to `indiv_indirect` DataFrame, which has a big size, columns `AMNDT_IND`_(index:1)_, `RPT_TP`_(index:2)_, `TRANSACTION_PGI`_(index:3)_, `IMAGE_NUM`_(index:4)_, `ENTITY_TP`_(index:6)_, `CITY`_(index:8)_, `ZIP_CODE`_index(10)_, `EMPLOYER`_(index:11)_, `OCCUPATION`_(index:12)_, `MEMO_CD`_(index:18)_, `MEMO_TEXT`_(index:19)_ are not included in the DataFrame. This step is to eliminate any possibility of a `MemoryError` due to lack of memory because of the size of the file.\n",
    "* In order to do that, the `headers_ctc` list should also not contain these columns."
   ]
  },
  {
   "cell_type": "code",
   "execution_count": 41,
   "metadata": {
    "scrolled": false,
    "slideshow": {
     "slide_type": "fragment"
    }
   },
   "outputs": [
    {
     "data": {
      "text/plain": [
       "['CMTE_ID',\n",
       " 'TRANSACTION_TP',\n",
       " 'NAME',\n",
       " 'STATE',\n",
       " 'TRANSACTION_DT',\n",
       " 'TRANSACTION_AMT',\n",
       " 'OTHER_ID',\n",
       " 'TRAN_ID',\n",
       " 'FILE_NUM',\n",
       " 'SUB_ID']"
      ]
     },
     "execution_count": 41,
     "metadata": {},
     "output_type": "execute_result"
    }
   ],
   "source": [
    "# list of columns to be removed from headers_ctc\n",
    "remove_col = ['AMNDT_IND', 'RPT_TP', 'ENTITY_TP','TRANSACTION_PGI', 'IMAGE_NUM', 'CITY', 'ZIP_CODE', 'EMPLOYER', 'OCCUPATION','MEMO_CD', 'MEMO_TEXT']\n",
    "\n",
    "for c in remove_col:\n",
    "    headers_ctc.remove(c)\n",
    "    \n",
    "headers_ctc"
   ]
  },
  {
   "cell_type": "markdown",
   "metadata": {
    "slideshow": {
     "slide_type": "slide"
    }
   },
   "source": [
    "* All columns but one are defined as strings, while `TRANSACTION_AMT` column is defined as float"
   ]
  },
  {
   "cell_type": "code",
   "execution_count": 42,
   "metadata": {
    "scrolled": true,
    "slideshow": {
     "slide_type": "fragment"
    }
   },
   "outputs": [],
   "source": [
    "dtype_ctc = {h: np.str for h in headers_ctc}\n",
    "dtype_ctc['TRANSACTION_AMT'] = np.float"
   ]
  },
  {
   "cell_type": "markdown",
   "metadata": {
    "slideshow": {
     "slide_type": "fragment"
    }
   },
   "source": [
    "* Then the actual data is read"
   ]
  },
  {
   "cell_type": "code",
   "execution_count": 43,
   "metadata": {
    "scrolled": true,
    "slideshow": {
     "slide_type": "fragment"
    }
   },
   "outputs": [],
   "source": [
    "ctc = pd.read_csv('https://www.fec.gov/files/bulk-downloads/2016/oth16.zip',\n",
    "                   sep=\"|\",\n",
    "                   index_col=False,\n",
    "                   usecols=[0,5,7,9,13,14,15,16,17,20],\n",
    "                   names=headers_ctc,\n",
    "                   parse_dates = ['TRANSACTION_DT'],\n",
    "                   dtype=dtype_ctc)"
   ]
  },
  {
   "cell_type": "markdown",
   "metadata": {
    "slideshow": {
     "slide_type": "slide"
    }
   },
   "source": [
    "* The receivers of these contributions should be directly linked to at least one candidate, so an inner join of the `candidates` and the `ctc` DataFrames should be executed."
   ]
  },
  {
   "cell_type": "code",
   "execution_count": 44,
   "metadata": {
    "scrolled": true,
    "slideshow": {
     "slide_type": "fragment"
    }
   },
   "outputs": [
    {
     "name": "stdout",
     "output_type": "stream",
     "text": [
      "(1084216, 12)\n"
     ]
    }
   ],
   "source": [
    "ctc_can = pd.merge(ctc,\n",
    "                   committees_can[['CMTE_ID','CAND_ID','CAND_NAME']],\n",
    "                   on='CMTE_ID',\n",
    "                   how='inner')\n",
    "print(ctc_can.shape)"
   ]
  },
  {
   "cell_type": "markdown",
   "metadata": {
    "slideshow": {
     "slide_type": "fragment"
    }
   },
   "source": [
    "* We are interested only for contributions for the two candidates, D.Trump and H.Clinton."
   ]
  },
  {
   "cell_type": "code",
   "execution_count": 45,
   "metadata": {
    "scrolled": true,
    "slideshow": {
     "slide_type": "fragment"
    }
   },
   "outputs": [
    {
     "name": "stdout",
     "output_type": "stream",
     "text": [
      "(956784, 12)\n"
     ]
    }
   ],
   "source": [
    "ctc_2 = ctc_can[ctc_can['CAND_NAME'].isin([hillary,trump])]\n",
    "print(ctc_2.shape)"
   ]
  },
  {
   "cell_type": "markdown",
   "metadata": {
    "slideshow": {
     "slide_type": "slide"
    }
   },
   "source": [
    "* We are interested only for earmarked contributions, that is contributions with TRANSACTION_TP with codes `18K`,`18J`,`15J`,`24Z`,`24K`,`24G` based on the `Transaction type code desciption` Table located at https://www.fec.gov/campaign-finance-data/transaction-type-code-descriptions/"
   ]
  },
  {
   "cell_type": "code",
   "execution_count": 46,
   "metadata": {
    "scrolled": true,
    "slideshow": {
     "slide_type": "fragment"
    }
   },
   "outputs": [
    {
     "data": {
      "text/plain": [
       "(956532, 12)"
      ]
     },
     "execution_count": 46,
     "metadata": {},
     "output_type": "execute_result"
    }
   ],
   "source": [
    "ctc_2 = ctc_2[ctc_2['TRANSACTION_TP'].isin(['18K','18J','15J','24Z','24K','24G'])]\n",
    "ctc_2.shape"
   ]
  },
  {
   "cell_type": "markdown",
   "metadata": {
    "slideshow": {
     "slide_type": "fragment"
    }
   },
   "source": [
    "* We are looking for only for positive contributions."
   ]
  },
  {
   "cell_type": "code",
   "execution_count": 47,
   "metadata": {
    "scrolled": true,
    "slideshow": {
     "slide_type": "fragment"
    }
   },
   "outputs": [
    {
     "data": {
      "text/plain": [
       "True     949369\n",
       "False      7163\n",
       "Name: TRANSACTION_AMT, dtype: int64"
      ]
     },
     "execution_count": 47,
     "metadata": {},
     "output_type": "execute_result"
    }
   ],
   "source": [
    "(ctc_2['TRANSACTION_AMT'] > 0).value_counts()"
   ]
  },
  {
   "cell_type": "markdown",
   "metadata": {
    "slideshow": {
     "slide_type": "slide"
    }
   },
   "source": [
    "* All the committees that received an amount of money from individuals and that they aren't directly linked to at least one of the two candidates, having id `CMTE_ID` in DataFrame `indiv_indirect`, send this amount of money to a committee that is directly linked "
   ]
  },
  {
   "cell_type": "code",
   "execution_count": 48,
   "metadata": {
    "scrolled": true,
    "slideshow": {
     "slide_type": "fragment"
    }
   },
   "outputs": [
    {
     "data": {
      "text/plain": [
       "(843, 12)"
      ]
     },
     "execution_count": 48,
     "metadata": {},
     "output_type": "execute_result"
    }
   ],
   "source": [
    "ctc_2 = ctc_2[~(ctc_2['OTHER_ID'].isnull())]\n",
    "ctc_2.shape"
   ]
  },
  {
   "cell_type": "markdown",
   "metadata": {
    "slideshow": {
     "slide_type": "fragment"
    }
   },
   "source": [
    "* Finally, all indirect contributions made by people for each of the two candidates are found."
   ]
  },
  {
   "cell_type": "code",
   "execution_count": 49,
   "metadata": {
    "scrolled": true,
    "slideshow": {
     "slide_type": "fragment"
    }
   },
   "outputs": [],
   "source": [
    "indiv_indirect_2 = pd.merge(ctc_2[['OTHER_ID','CAND_NAME','TRANSACTION_AMT']],\n",
    "                            indiv_indirect[['CMTE_ID', 'TRANSACTION_TP', 'ENTITY_TP', 'NAME', 'STATE', 'ZIP_CODE','EMPLOYER', 'OCCUPATION', 'TRANSACTION_DT', 'TRANSACTION_AMT']],\n",
    "                            left_on=['OTHER_ID','TRANSACTION_AMT'],\n",
    "                            right_on=['CMTE_ID','TRANSACTION_AMT'],\n",
    "                            how='inner')"
   ]
  },
  {
   "cell_type": "markdown",
   "metadata": {
    "slideshow": {
     "slide_type": "fragment"
    }
   },
   "source": [
    "* Having collected all direct and indirect contributions by people for D.Trump and H.Clinton, we combine the two DataFrames into one."
   ]
  },
  {
   "cell_type": "code",
   "execution_count": 50,
   "metadata": {
    "scrolled": true,
    "slideshow": {
     "slide_type": "fragment"
    }
   },
   "outputs": [
    {
     "data": {
      "text/plain": [
       "(2663103, 11)"
      ]
     },
     "execution_count": 50,
     "metadata": {},
     "output_type": "execute_result"
    }
   ],
   "source": [
    "indiv_all = indiv_2[['CMTE_ID','TRANSACTION_TP','NAME','STATE','ZIP_CODE','EMPLOYER','OCCUPATION','TRANSACTION_DT','TRANSACTION_AMT','OTHER_ID','CAND_NAME']].append(indiv_indirect_2[['CMTE_ID','TRANSACTION_TP','NAME','STATE','ZIP_CODE','EMPLOYER','OCCUPATION','TRANSACTION_DT','TRANSACTION_AMT','OTHER_ID','CAND_NAME']],ignore_index=True)\n",
    "indiv_all.shape"
   ]
  },
  {
   "cell_type": "markdown",
   "metadata": {
    "slideshow": {
     "slide_type": "slide"
    }
   },
   "source": [
    "* The **Top 10 individual donors for each of the two candidates** are displayed below."
   ]
  },
  {
   "cell_type": "code",
   "execution_count": 51,
   "metadata": {
    "scrolled": true,
    "slideshow": {
     "slide_type": "fragment"
    }
   },
   "outputs": [
    {
     "data": {
      "text/html": [
       "<div>\n",
       "<style scoped>\n",
       "    .dataframe tbody tr th:only-of-type {\n",
       "        vertical-align: middle;\n",
       "    }\n",
       "\n",
       "    .dataframe tbody tr th {\n",
       "        vertical-align: top;\n",
       "    }\n",
       "\n",
       "    .dataframe thead th {\n",
       "        text-align: right;\n",
       "    }\n",
       "</style>\n",
       "<table border=\"1\" class=\"dataframe\">\n",
       "  <thead>\n",
       "    <tr style=\"text-align: right;\">\n",
       "      <th></th>\n",
       "      <th></th>\n",
       "      <th>TRANSACTION_AMT</th>\n",
       "    </tr>\n",
       "    <tr>\n",
       "      <th>NAME</th>\n",
       "      <th>STATE</th>\n",
       "      <th></th>\n",
       "    </tr>\n",
       "  </thead>\n",
       "  <tbody>\n",
       "    <tr>\n",
       "      <th>TRUMP, DONALD J</th>\n",
       "      <th>NY</th>\n",
       "      <td>10033637.0</td>\n",
       "    </tr>\n",
       "    <tr>\n",
       "      <th>TRUMP, DONALD J.</th>\n",
       "      <th>NY</th>\n",
       "      <td>6532038.0</td>\n",
       "    </tr>\n",
       "    <tr>\n",
       "      <th>TRUMP, DONALD J J.</th>\n",
       "      <th>NY</th>\n",
       "      <td>2067482.0</td>\n",
       "    </tr>\n",
       "    <tr>\n",
       "      <th>CLINTON, HILLARY RODHAM</th>\n",
       "      <th>NY</th>\n",
       "      <td>1450306.0</td>\n",
       "    </tr>\n",
       "    <tr>\n",
       "      <th>BOCH, ERNIE</th>\n",
       "      <th>MA</th>\n",
       "      <td>171172.0</td>\n",
       "    </tr>\n",
       "    <tr>\n",
       "      <th>TREIBEL, RANDY</th>\n",
       "      <th>WA</th>\n",
       "      <td>52352.0</td>\n",
       "    </tr>\n",
       "    <tr>\n",
       "      <th>HOME DEPOT INC, PAC</th>\n",
       "      <th>DC</th>\n",
       "      <td>40000.0</td>\n",
       "    </tr>\n",
       "    <tr>\n",
       "      <th>NATIONAL BEER WHOLESALERS ASSOCIATION PAC</th>\n",
       "      <th>VA</th>\n",
       "      <td>40000.0</td>\n",
       "    </tr>\n",
       "    <tr>\n",
       "      <th>HAMLIN, TRISH</th>\n",
       "      <th>NY</th>\n",
       "      <td>38400.0</td>\n",
       "    </tr>\n",
       "    <tr>\n",
       "      <th>RUNYAN, R. BRADLEY</th>\n",
       "      <th>DC</th>\n",
       "      <td>35100.0</td>\n",
       "    </tr>\n",
       "  </tbody>\n",
       "</table>\n",
       "</div>"
      ],
      "text/plain": [
       "                                                 TRANSACTION_AMT\n",
       "NAME                                      STATE                 \n",
       "TRUMP, DONALD J                           NY          10033637.0\n",
       "TRUMP, DONALD J.                          NY           6532038.0\n",
       "TRUMP, DONALD J J.                        NY           2067482.0\n",
       "CLINTON, HILLARY RODHAM                   NY           1450306.0\n",
       "BOCH, ERNIE                               MA            171172.0\n",
       "TREIBEL, RANDY                            WA             52352.0\n",
       "HOME DEPOT INC, PAC                       DC             40000.0\n",
       "NATIONAL BEER WHOLESALERS ASSOCIATION PAC VA             40000.0\n",
       "HAMLIN, TRISH                             NY             38400.0\n",
       "RUNYAN, R. BRADLEY                        DC             35100.0"
      ]
     },
     "execution_count": 51,
     "metadata": {},
     "output_type": "execute_result"
    }
   ],
   "source": [
    "indiv_all.groupby(['NAME','STATE'])\\\n",
    "         .sum('TRANSACTION_AMT')\\\n",
    "         .sort_values(by='TRANSACTION_AMT', ascending=False)\\\n",
    "         .head(10)"
   ]
  },
  {
   "cell_type": "markdown",
   "metadata": {
    "slideshow": {
     "slide_type": "slide"
    }
   },
   "source": [
    "* The **Top 10 individual donors for H.Clinton** are displayed below."
   ]
  },
  {
   "cell_type": "code",
   "execution_count": 52,
   "metadata": {
    "scrolled": true,
    "slideshow": {
     "slide_type": "fragment"
    }
   },
   "outputs": [
    {
     "data": {
      "text/html": [
       "<div>\n",
       "<style scoped>\n",
       "    .dataframe tbody tr th:only-of-type {\n",
       "        vertical-align: middle;\n",
       "    }\n",
       "\n",
       "    .dataframe tbody tr th {\n",
       "        vertical-align: top;\n",
       "    }\n",
       "\n",
       "    .dataframe thead th {\n",
       "        text-align: right;\n",
       "    }\n",
       "</style>\n",
       "<table border=\"1\" class=\"dataframe\">\n",
       "  <thead>\n",
       "    <tr style=\"text-align: right;\">\n",
       "      <th></th>\n",
       "      <th></th>\n",
       "      <th>TRANSACTION_AMT</th>\n",
       "    </tr>\n",
       "    <tr>\n",
       "      <th>NAME</th>\n",
       "      <th>STATE</th>\n",
       "      <th></th>\n",
       "    </tr>\n",
       "  </thead>\n",
       "  <tbody>\n",
       "    <tr>\n",
       "      <th>CLINTON, HILLARY RODHAM</th>\n",
       "      <th>NY</th>\n",
       "      <td>1450306.0</td>\n",
       "    </tr>\n",
       "    <tr>\n",
       "      <th>NATIONAL BEER WHOLESALERS ASSOCIATION PAC</th>\n",
       "      <th>VA</th>\n",
       "      <td>40000.0</td>\n",
       "    </tr>\n",
       "    <tr>\n",
       "      <th>HOME DEPOT INC, PAC</th>\n",
       "      <th>DC</th>\n",
       "      <td>40000.0</td>\n",
       "    </tr>\n",
       "    <tr>\n",
       "      <th>RUNYAN, R. BRADLEY</th>\n",
       "      <th>DC</th>\n",
       "      <td>35100.0</td>\n",
       "    </tr>\n",
       "    <tr>\n",
       "      <th>BURNS, URSULA</th>\n",
       "      <th>CT</th>\n",
       "      <td>32400.0</td>\n",
       "    </tr>\n",
       "    <tr>\n",
       "      <th>FRIEDMAN, JANELLE</th>\n",
       "      <th>TX</th>\n",
       "      <td>32400.0</td>\n",
       "    </tr>\n",
       "    <tr>\n",
       "      <th>ELLING, MARTIN</th>\n",
       "      <th>NY</th>\n",
       "      <td>32399.0</td>\n",
       "    </tr>\n",
       "    <tr>\n",
       "      <th>BADGER PAC</th>\n",
       "      <th>DC</th>\n",
       "      <td>30000.0</td>\n",
       "    </tr>\n",
       "    <tr>\n",
       "      <th>BERLEKAMP, ELWYN</th>\n",
       "      <th>CA</th>\n",
       "      <td>24500.0</td>\n",
       "    </tr>\n",
       "    <tr>\n",
       "      <th>CANDEE, HAMILTON</th>\n",
       "      <th>CA</th>\n",
       "      <td>22700.0</td>\n",
       "    </tr>\n",
       "  </tbody>\n",
       "</table>\n",
       "</div>"
      ],
      "text/plain": [
       "                                                 TRANSACTION_AMT\n",
       "NAME                                      STATE                 \n",
       "CLINTON, HILLARY RODHAM                   NY           1450306.0\n",
       "NATIONAL BEER WHOLESALERS ASSOCIATION PAC VA             40000.0\n",
       "HOME DEPOT INC, PAC                       DC             40000.0\n",
       "RUNYAN, R. BRADLEY                        DC             35100.0\n",
       "BURNS, URSULA                             CT             32400.0\n",
       "FRIEDMAN, JANELLE                         TX             32400.0\n",
       "ELLING, MARTIN                            NY             32399.0\n",
       "BADGER PAC                                DC             30000.0\n",
       "BERLEKAMP, ELWYN                          CA             24500.0\n",
       "CANDEE, HAMILTON                          CA             22700.0"
      ]
     },
     "execution_count": 52,
     "metadata": {},
     "output_type": "execute_result"
    }
   ],
   "source": [
    "indiv_all[indiv_all['CAND_NAME']==hillary].groupby(['NAME','STATE'])\\\n",
    "         .sum('TRANSACTION_AMT').sort_values(by='TRANSACTION_AMT', ascending=False)\\\n",
    "         .head(10)"
   ]
  },
  {
   "cell_type": "markdown",
   "metadata": {
    "slideshow": {
     "slide_type": "slide"
    }
   },
   "source": [
    "* The **Top 10 individual donors for H.Clinton** are displayed below."
   ]
  },
  {
   "cell_type": "code",
   "execution_count": 53,
   "metadata": {
    "scrolled": true,
    "slideshow": {
     "slide_type": "fragment"
    }
   },
   "outputs": [
    {
     "data": {
      "text/html": [
       "<div>\n",
       "<style scoped>\n",
       "    .dataframe tbody tr th:only-of-type {\n",
       "        vertical-align: middle;\n",
       "    }\n",
       "\n",
       "    .dataframe tbody tr th {\n",
       "        vertical-align: top;\n",
       "    }\n",
       "\n",
       "    .dataframe thead th {\n",
       "        text-align: right;\n",
       "    }\n",
       "</style>\n",
       "<table border=\"1\" class=\"dataframe\">\n",
       "  <thead>\n",
       "    <tr style=\"text-align: right;\">\n",
       "      <th></th>\n",
       "      <th></th>\n",
       "      <th>TRANSACTION_AMT</th>\n",
       "    </tr>\n",
       "    <tr>\n",
       "      <th>NAME</th>\n",
       "      <th>STATE</th>\n",
       "      <th></th>\n",
       "    </tr>\n",
       "  </thead>\n",
       "  <tbody>\n",
       "    <tr>\n",
       "      <th>TRUMP, DONALD J</th>\n",
       "      <th>NY</th>\n",
       "      <td>10033637.0</td>\n",
       "    </tr>\n",
       "    <tr>\n",
       "      <th>TRUMP, DONALD J.</th>\n",
       "      <th>NY</th>\n",
       "      <td>6532038.0</td>\n",
       "    </tr>\n",
       "    <tr>\n",
       "      <th>TRUMP, DONALD J J.</th>\n",
       "      <th>NY</th>\n",
       "      <td>2067482.0</td>\n",
       "    </tr>\n",
       "    <tr>\n",
       "      <th>BOCH, ERNIE</th>\n",
       "      <th>MA</th>\n",
       "      <td>171172.0</td>\n",
       "    </tr>\n",
       "    <tr>\n",
       "      <th>TREIBEL, RANDY</th>\n",
       "      <th>WA</th>\n",
       "      <td>52352.0</td>\n",
       "    </tr>\n",
       "    <tr>\n",
       "      <th>HAMLIN, TRISH</th>\n",
       "      <th>NY</th>\n",
       "      <td>38400.0</td>\n",
       "    </tr>\n",
       "    <tr>\n",
       "      <th>HYDE, ROBERT</th>\n",
       "      <th>CT</th>\n",
       "      <td>34085.0</td>\n",
       "    </tr>\n",
       "    <tr>\n",
       "      <th>GIGANTE, PETER</th>\n",
       "      <th>WA</th>\n",
       "      <td>26300.0</td>\n",
       "    </tr>\n",
       "    <tr>\n",
       "      <th>BARRETT, NOEL</th>\n",
       "      <th>MS</th>\n",
       "      <td>24300.0</td>\n",
       "    </tr>\n",
       "    <tr>\n",
       "      <th>PALATCHI, ROBERT</th>\n",
       "      <th>OH</th>\n",
       "      <td>24132.0</td>\n",
       "    </tr>\n",
       "  </tbody>\n",
       "</table>\n",
       "</div>"
      ],
      "text/plain": [
       "                          TRANSACTION_AMT\n",
       "NAME               STATE                 \n",
       "TRUMP, DONALD J    NY          10033637.0\n",
       "TRUMP, DONALD J.   NY           6532038.0\n",
       "TRUMP, DONALD J J. NY           2067482.0\n",
       "BOCH, ERNIE        MA            171172.0\n",
       "TREIBEL, RANDY     WA             52352.0\n",
       "HAMLIN, TRISH      NY             38400.0\n",
       "HYDE, ROBERT       CT             34085.0\n",
       "GIGANTE, PETER     WA             26300.0\n",
       "BARRETT, NOEL      MS             24300.0\n",
       "PALATCHI, ROBERT   OH             24132.0"
      ]
     },
     "execution_count": 53,
     "metadata": {},
     "output_type": "execute_result"
    }
   ],
   "source": [
    "indiv_all[indiv_all['CAND_NAME']==trump].groupby(['NAME','STATE'])\\\n",
    "         .sum('TRANSACTION_AMT').sort_values(by='TRANSACTION_AMT', ascending=False)\\\n",
    "         .head(10)"
   ]
  },
  {
   "cell_type": "markdown",
   "metadata": {
    "slideshow": {
     "slide_type": "slide"
    }
   },
   "source": [
    "### Exercise 3\n",
    "* The dataset containing all information about the operating expenditures is located at https://www.fec.gov/files/bulk-downloads/2016/oppexp16.zip and its header at https://www.fec.gov/files/bulk-downloads/data_dictionaries/oppexp_header_file.csv"
   ]
  },
  {
   "cell_type": "markdown",
   "metadata": {
    "slideshow": {
     "slide_type": "fragment"
    }
   },
   "source": [
    "* Firstly the header file is read.\n",
    "* The DataFrame `headers_opex` is then converted into a list so as to be used in reading the actual data."
   ]
  },
  {
   "cell_type": "code",
   "execution_count": 54,
   "metadata": {
    "scrolled": true,
    "slideshow": {
     "slide_type": "fragment"
    }
   },
   "outputs": [
    {
     "data": {
      "text/plain": [
       "['CMTE_ID',\n",
       " 'AMNDT_IND',\n",
       " 'RPT_YR',\n",
       " 'RPT_TP',\n",
       " 'IMAGE_NUM',\n",
       " 'LINE_NUM',\n",
       " 'FORM_TP_CD',\n",
       " 'SCHED_TP_CD',\n",
       " 'NAME',\n",
       " 'CITY',\n",
       " 'STATE',\n",
       " 'ZIP_CODE',\n",
       " 'TRANSACTION_DT',\n",
       " 'TRANSACTION_AMT',\n",
       " 'TRANSACTION_PGI',\n",
       " 'PURPOSE',\n",
       " 'CATEGORY',\n",
       " 'CATEGORY_DESC',\n",
       " 'MEMO_CD',\n",
       " 'MEMO_TEXT',\n",
       " 'ENTITY_TP',\n",
       " 'SUB_ID',\n",
       " 'FILE_NUM',\n",
       " 'TRAN_ID',\n",
       " 'BACK_REF_TRAN_ID']"
      ]
     },
     "execution_count": 54,
     "metadata": {},
     "output_type": "execute_result"
    }
   ],
   "source": [
    "headers_opex = pd.read_csv('https://www.fec.gov/files/bulk-downloads/data_dictionaries/oppexp_header_file.csv')\n",
    "\n",
    "headers_opex = headers_opex.columns.tolist()\n",
    "headers_opex"
   ]
  },
  {
   "cell_type": "markdown",
   "metadata": {
    "slideshow": {
     "slide_type": "fragment"
    }
   },
   "source": [
    "* All columns but one are defined as strings, while `TRANSACTION_AMT` column is defined as float"
   ]
  },
  {
   "cell_type": "code",
   "execution_count": 55,
   "metadata": {
    "scrolled": true,
    "slideshow": {
     "slide_type": "fragment"
    }
   },
   "outputs": [],
   "source": [
    "dtype_opex = {h: np.str for h in headers_opex}\n",
    "dtype_opex['TRANSACTION_AMT'] = np.float\n"
   ]
  },
  {
   "cell_type": "markdown",
   "metadata": {
    "slideshow": {
     "slide_type": "fragment"
    }
   },
   "source": [
    "* Then the actual data is read"
   ]
  },
  {
   "cell_type": "code",
   "execution_count": 56,
   "metadata": {
    "scrolled": true,
    "slideshow": {
     "slide_type": "fragment"
    }
   },
   "outputs": [],
   "source": [
    "opex = pd.read_csv('https://www.fec.gov/files/bulk-downloads/2016/oppexp16.zip',\n",
    "                   sep=\"|\",\n",
    "                   index_col=False,\n",
    "                   names=headers_opex,\n",
    "                   parse_dates = ['TRANSACTION_DT'],\n",
    "                   dtype=dtype_opex)"
   ]
  },
  {
   "cell_type": "markdown",
   "metadata": {
    "slideshow": {
     "slide_type": "slide"
    }
   },
   "source": [
    "* Expenditures with `TRANSACTION_AMT` having negative value are considered to be voided, so they will not be included in the total amount of expenditures."
   ]
  },
  {
   "cell_type": "code",
   "execution_count": 57,
   "metadata": {
    "scrolled": true,
    "slideshow": {
     "slide_type": "fragment"
    }
   },
   "outputs": [],
   "source": [
    "opex = opex[opex['TRANSACTION_AMT']>0]"
   ]
  },
  {
   "cell_type": "markdown",
   "metadata": {
    "slideshow": {
     "slide_type": "slide"
    }
   },
   "source": [
    "* The chronological evolution will be by month. So, in the `TRANSACTION_DT` column, there's no need to have day values.\n",
    "* As we are interested only for 2015-2016 dates, we should check whether all values are valid or not."
   ]
  },
  {
   "cell_type": "code",
   "execution_count": 58,
   "metadata": {
    "scrolled": true,
    "slideshow": {
     "slide_type": "fragment"
    }
   },
   "outputs": [
    {
     "data": {
      "text/plain": [
       "False    1729612\n",
       "True           6\n",
       "Name: TRANSACTION_DT, dtype: int64"
      ]
     },
     "execution_count": 58,
     "metadata": {},
     "output_type": "execute_result"
    }
   ],
   "source": [
    "((opex['TRANSACTION_DT']>'12/31/2016') | (opex['TRANSACTION_DT']<'01/01/2015')).value_counts()"
   ]
  },
  {
   "cell_type": "markdown",
   "metadata": {
    "slideshow": {
     "slide_type": "fragment"
    }
   },
   "source": [
    "* There are 6 invalid values.\n",
    "* To remove all invalid values, all values should be converted into datetime type, as it is easier to spot these values this way.\n",
    "* [to_datetime](https://pandas.pydata.org/pandas-docs/stable/reference/api/pandas.to_datetime.html) is used, with `errors=coerce` capturing all invalid for Pandas values and replacing them with a `NaT` value."
   ]
  },
  {
   "cell_type": "code",
   "execution_count": 59,
   "metadata": {
    "scrolled": true,
    "slideshow": {
     "slide_type": "fragment"
    }
   },
   "outputs": [],
   "source": [
    "opex.loc[:,'TRANSACTION_DT'] = pd.to_datetime(opex['TRANSACTION_DT'], errors='coerce')"
   ]
  },
  {
   "cell_type": "markdown",
   "metadata": {
    "slideshow": {
     "slide_type": "fragment"
    }
   },
   "source": [
    "* As said before, only dates between 2015-2016 are of our interest, so any dates beyond these should not be included."
   ]
  },
  {
   "cell_type": "code",
   "execution_count": 60,
   "metadata": {
    "scrolled": true,
    "slideshow": {
     "slide_type": "fragment"
    }
   },
   "outputs": [],
   "source": [
    "opex = opex[(opex['TRANSACTION_DT']>='2015-01-01') & (opex['TRANSACTION_DT']<='2016-12-31')]"
   ]
  },
  {
   "cell_type": "markdown",
   "metadata": {
    "slideshow": {
     "slide_type": "slide"
    }
   },
   "source": [
    "* To find all operating expenditures made by the two campaigns, we need to know the campaigns' names and ids.\n",
    "* `committees_can` DataFrame was defined in Exercise 2, and it contains all committees directly linked to a candidate.\n",
    "* `CMTE_TP` column defines the type of the committee, and by selecting all entries with \"P\" type, we define that we only want the campaign committees for the two presindential candidates (based on the [Committee Type Code Description Table](https://www.fec.gov/campaign-finance-data/committee-type-code-descriptions/))"
   ]
  },
  {
   "cell_type": "code",
   "execution_count": 61,
   "metadata": {
    "scrolled": true,
    "slideshow": {
     "slide_type": "fragment"
    }
   },
   "outputs": [
    {
     "data": {
      "text/html": [
       "<div>\n",
       "<style scoped>\n",
       "    .dataframe tbody tr th:only-of-type {\n",
       "        vertical-align: middle;\n",
       "    }\n",
       "\n",
       "    .dataframe tbody tr th {\n",
       "        vertical-align: top;\n",
       "    }\n",
       "\n",
       "    .dataframe thead th {\n",
       "        text-align: right;\n",
       "    }\n",
       "</style>\n",
       "<table border=\"1\" class=\"dataframe\">\n",
       "  <thead>\n",
       "    <tr style=\"text-align: right;\">\n",
       "      <th></th>\n",
       "      <th>CMTE_ID</th>\n",
       "      <th>CMTE_NM</th>\n",
       "      <th>TRES_NM</th>\n",
       "      <th>CMTE_ST1</th>\n",
       "      <th>CMTE_ST2</th>\n",
       "      <th>CMTE_CITY</th>\n",
       "      <th>CMTE_ST</th>\n",
       "      <th>CMTE_ZIP</th>\n",
       "      <th>CMTE_DSGN</th>\n",
       "      <th>CMTE_TP</th>\n",
       "      <th>CMTE_PTY_AFFILIATION</th>\n",
       "      <th>CMTE_FILING_FREQ</th>\n",
       "      <th>ORG_TP</th>\n",
       "      <th>CONNECTED_ORG_NM</th>\n",
       "      <th>CAND_ID</th>\n",
       "      <th>CAND_NAME</th>\n",
       "    </tr>\n",
       "  </thead>\n",
       "  <tbody>\n",
       "    <tr>\n",
       "      <th>3925</th>\n",
       "      <td>C00575795</td>\n",
       "      <td>HILLARY FOR AMERICA</td>\n",
       "      <td>VILLARREAL, JOSE H.</td>\n",
       "      <td>P.O. BOX 5256</td>\n",
       "      <td>NaN</td>\n",
       "      <td>NEW YORK</td>\n",
       "      <td>NY</td>\n",
       "      <td>101855256</td>\n",
       "      <td>P</td>\n",
       "      <td>P</td>\n",
       "      <td>DEM</td>\n",
       "      <td>M</td>\n",
       "      <td>NaN</td>\n",
       "      <td>NaN</td>\n",
       "      <td>P00003392</td>\n",
       "      <td>CLINTON, HILLARY RODHAM / TIMOTHY MICHAEL KAINE</td>\n",
       "    </tr>\n",
       "    <tr>\n",
       "      <th>4286</th>\n",
       "      <td>C00580100</td>\n",
       "      <td>DONALD J. TRUMP FOR PRESIDENT, INC.</td>\n",
       "      <td>JOST, TIMOTHY</td>\n",
       "      <td>725 FIFTH AVENUE</td>\n",
       "      <td>NaN</td>\n",
       "      <td>NEW YORK</td>\n",
       "      <td>NY</td>\n",
       "      <td>10022</td>\n",
       "      <td>P</td>\n",
       "      <td>P</td>\n",
       "      <td>REP</td>\n",
       "      <td>M</td>\n",
       "      <td>NaN</td>\n",
       "      <td>TRUMP VICTORY</td>\n",
       "      <td>P80001571</td>\n",
       "      <td>TRUMP, DONALD J. / MICHAEL R. PENCE</td>\n",
       "    </tr>\n",
       "  </tbody>\n",
       "</table>\n",
       "</div>"
      ],
      "text/plain": [
       "        CMTE_ID                              CMTE_NM              TRES_NM  \\\n",
       "3925  C00575795                  HILLARY FOR AMERICA  VILLARREAL, JOSE H.   \n",
       "4286  C00580100  DONALD J. TRUMP FOR PRESIDENT, INC.        JOST, TIMOTHY   \n",
       "\n",
       "              CMTE_ST1 CMTE_ST2 CMTE_CITY CMTE_ST   CMTE_ZIP CMTE_DSGN  \\\n",
       "3925     P.O. BOX 5256      NaN  NEW YORK      NY  101855256         P   \n",
       "4286  725 FIFTH AVENUE      NaN  NEW YORK      NY      10022         P   \n",
       "\n",
       "     CMTE_TP CMTE_PTY_AFFILIATION CMTE_FILING_FREQ ORG_TP CONNECTED_ORG_NM  \\\n",
       "3925       P                  DEM                M    NaN              NaN   \n",
       "4286       P                  REP                M    NaN    TRUMP VICTORY   \n",
       "\n",
       "        CAND_ID                                        CAND_NAME  \n",
       "3925  P00003392  CLINTON, HILLARY RODHAM / TIMOTHY MICHAEL KAINE  \n",
       "4286  P80001571             TRUMP, DONALD J. / MICHAEL R. PENCE   "
      ]
     },
     "execution_count": 61,
     "metadata": {},
     "output_type": "execute_result"
    }
   ],
   "source": [
    "committees_can[(committees_can['CAND_NAME'].isin([trump,hillary])) & (committees_can['CMTE_TP']=='P')]"
   ]
  },
  {
   "cell_type": "markdown",
   "metadata": {
    "slideshow": {
     "slide_type": "fragment"
    }
   },
   "source": [
    "* Having found the two campaigns' needed information, we store them manually into two variables so as to easily use them.\n",
    "* Then we only keep the operating expendidutes of the two campaigns."
   ]
  },
  {
   "cell_type": "code",
   "execution_count": 62,
   "metadata": {
    "scrolled": true,
    "slideshow": {
     "slide_type": "fragment"
    }
   },
   "outputs": [
    {
     "data": {
      "text/plain": [
       "(171864, 25)"
      ]
     },
     "execution_count": 62,
     "metadata": {},
     "output_type": "execute_result"
    }
   ],
   "source": [
    "hillary_c = ['C00575795','HILLARY FOR AMERICA']\n",
    "trump_c = ['C00580100','DONALD J. TRUMP FOR PRESIDENT, INC.']\n",
    "\n",
    "opex = opex[opex['CMTE_ID'].isin([hillary_c[0],trump_c[0]])]\n",
    "\n",
    "opex.shape"
   ]
  },
  {
   "cell_type": "markdown",
   "metadata": {
    "slideshow": {
     "slide_type": "slide"
    }
   },
   "source": [
    "* So `opex` DataFrame contains all operating expenditures made by D.Trump's and H.Clinton's campaigns. \n",
    "* However, operating expenditures are not the only ones that each campaign has to pay.\n",
    "* `ctc` DatFrame was defined in Exercise 2, and it contains all committee-to-committee transactions. Based on whether one of the two campaigns of interest was the one who made the transaction or was the receiver of it, the `TRANSACTION_TP` codes are shown below."
   ]
  },
  {
   "cell_type": "code",
   "execution_count": 63,
   "metadata": {
    "scrolled": true,
    "slideshow": {
     "slide_type": "fragment"
    }
   },
   "outputs": [
    {
     "name": "stdout",
     "output_type": "stream",
     "text": [
      "MAKER OF TRANSACTION\n",
      " 24K    686\n",
      "18K    137\n",
      "24Z    113\n",
      "24G     62\n",
      "18G      9\n",
      "22Z      2\n",
      "30K      1\n",
      "15Z      1\n",
      "Name: TRANSACTION_TP, dtype: int64 \n",
      "\n",
      " RECEIVER OF TRANSACTION\n",
      " 15J    955689\n",
      "18K       543\n",
      "18J       204\n",
      "15Z       148\n",
      "18G        54\n",
      "24Z        51\n",
      "16C        29\n",
      "24K        28\n",
      "22Z        18\n",
      "24G        17\n",
      "11J         3\n",
      "Name: TRANSACTION_TP, dtype: int64\n"
     ]
    }
   ],
   "source": [
    "print('MAKER OF TRANSACTION\\n',((ctc.loc[ctc['OTHER_ID'].isin([hillary_c[0],trump_c[0]]),'TRANSACTION_TP']).value_counts()),'\\n\\n',\n",
    "      'RECEIVER OF TRANSACTION\\n',((ctc.loc[ctc['CMTE_ID'].isin([hillary_c[0],trump_c[0]]),'TRANSACTION_TP']).value_counts()))"
   ]
  },
  {
   "cell_type": "markdown",
   "metadata": {
    "slideshow": {
     "slide_type": "slide"
    }
   },
   "source": [
    "* Before extracting the data we need from the `ctc` DataFrame, we keep only transactions made between 2015-2016. To process is the same as before."
   ]
  },
  {
   "cell_type": "code",
   "execution_count": 64,
   "metadata": {
    "scrolled": true,
    "slideshow": {
     "slide_type": "fragment"
    }
   },
   "outputs": [
    {
     "data": {
      "text/plain": [
       "0         2015-02-10\n",
       "1         2015-02-11\n",
       "2         2015-02-27\n",
       "3         2015-02-27\n",
       "4         2015-02-27\n",
       "             ...    \n",
       "2147085   2016-08-22\n",
       "2147086   2016-08-16\n",
       "2147087   2016-08-16\n",
       "2147088   2016-08-12\n",
       "2147089   2016-08-16\n",
       "Name: TRANSACTION_DT, Length: 2143658, dtype: datetime64[ns]"
      ]
     },
     "execution_count": 64,
     "metadata": {},
     "output_type": "execute_result"
    }
   ],
   "source": [
    "ctc.loc[:,'TRANSACTION_DT'] = pd.to_datetime(ctc['TRANSACTION_DT'], format='%m%d%Y', errors='coerce')\n",
    "ctc = ctc[(ctc['TRANSACTION_DT']>='2015-01-01') & (ctc['TRANSACTION_DT']<='2016-12-31')]\n",
    "ctc['TRANSACTION_DT']"
   ]
  },
  {
   "cell_type": "markdown",
   "metadata": {
    "slideshow": {
     "slide_type": "slide"
    }
   },
   "source": [
    "* Of these codes, based on the [Transaction Type Code Description Table](https://www.fec.gov/campaign-finance-data/transaction-type-code-descriptions/), if the campaigns are the ones who :\n",
    "    - made the transaction (their IDs are in column `OTHER_ID`)  \n",
    "        * codes `24K`, `18K`, `24G`, `15Z` and `24Z` mean that the campaigns made an **expenditure** _(1st bullet)_\n",
    "        * codes `22Z` and `18G` mean that the campaigns had an **income** _(2nd bullet)_\n",
    "    * received the transaction (their IDs are in column `CMTE_ID`)\n",
    "        * codes `18G`, `22Z`, `15J`, `18J` and `11J` mean that the campaigns made an **expenditure** _(3rd bullet)_\n",
    "        * codes `24K`, `18K`, `24Z`, `24G` and `15Z` mean that a contribution was made to the campaigns (campaigns' **income**) _(4th bullet)_\n",
    "\n",
    "* As the exercise's instructions suggest, only contributions made to the campaigns are considered, so the _2nd bullet_ should not be included. "
   ]
  },
  {
   "cell_type": "markdown",
   "metadata": {
    "slideshow": {
     "slide_type": "fragment"
    }
   },
   "source": [
    "* All contributions by committees made to the two campaigns (based on the upper codes) are stored in DataFrame `com_contr`"
   ]
  },
  {
   "cell_type": "code",
   "execution_count": 65,
   "metadata": {
    "scrolled": true,
    "slideshow": {
     "slide_type": "fragment"
    }
   },
   "outputs": [
    {
     "data": {
      "text/plain": [
       "(787, 10)"
      ]
     },
     "execution_count": 65,
     "metadata": {},
     "output_type": "execute_result"
    }
   ],
   "source": [
    "com_contr = ctc.loc[(ctc['CMTE_ID'].isin([hillary_c[0],trump_c[0]])) & (ctc['TRANSACTION_TP'].isin(['24K','18K','24Z','24G','15Z']))]\n",
    "com_contr.shape"
   ]
  },
  {
   "cell_type": "markdown",
   "metadata": {
    "slideshow": {
     "slide_type": "slide"
    }
   },
   "source": [
    "* To collect all contributions made both by committees and individuals, we use `indiv_all` DataFrame which was defined in Exercise 2 and contains all contributions made by individuals to the two campaigns. \n",
    "* This DataFrame has only `CAND_NAME` as an link to the candidate and the campaign, so for this exercise it's better to store the campaigns ' IDs in the `CMTE_ID` column, as the data stored in this column won't be used.\n",
    "* To do this, first we have to delete the unecessary data stored in `CMTE_ID`, and the add the new column `CMTE_ID` containing the campaigns' IDs via an inner join with `committees_can` DataFrame on column `CAND_NAME`"
   ]
  },
  {
   "cell_type": "code",
   "execution_count": 67,
   "metadata": {
    "scrolled": true,
    "slideshow": {
     "slide_type": "fragment"
    }
   },
   "outputs": [
    {
     "data": {
      "text/plain": [
       "(7842332, 6)"
      ]
     },
     "execution_count": 67,
     "metadata": {},
     "output_type": "execute_result"
    }
   ],
   "source": [
    "# drop old column CMTE_ID\n",
    "indiv = indiv_all.drop('CMTE_ID',axis=1)\n",
    "\n",
    "# add new column CMTE_ID\n",
    "indiv = pd.merge(committees_can[['CMTE_ID','CAND_NAME']],\n",
    "                 indiv_all[['TRANSACTION_DT','TRANSACTION_AMT','NAME','STATE','CAND_NAME']],\n",
    "                 on='CAND_NAME',\n",
    "                 how='inner')\n",
    "\n",
    "indiv.shape"
   ]
  },
  {
   "cell_type": "markdown",
   "metadata": {
    "slideshow": {
     "slide_type": "slide"
    }
   },
   "source": [
    "* Before combining the two DataFrames into one, we should keep only transactions made between 2015-2016. To process is the same as before."
   ]
  },
  {
   "cell_type": "code",
   "execution_count": 69,
   "metadata": {
    "scrolled": true,
    "slideshow": {
     "slide_type": "fragment"
    }
   },
   "outputs": [
    {
     "data": {
      "text/plain": [
       "0         2015-06-11\n",
       "1         2015-06-15\n",
       "2         2015-04-12\n",
       "3         2015-06-13\n",
       "4         2015-06-12\n",
       "             ...    \n",
       "7842327   2016-10-20\n",
       "7842328   2016-10-27\n",
       "7842329   2016-10-07\n",
       "7842330   2016-10-03\n",
       "7842331   2016-10-07\n",
       "Name: TRANSACTION_DT, Length: 7842332, dtype: datetime64[ns]"
      ]
     },
     "execution_count": 69,
     "metadata": {},
     "output_type": "execute_result"
    }
   ],
   "source": [
    "indiv.loc[:,'TRANSACTION_DT'] = pd.to_datetime(indiv['TRANSACTION_DT'], format='%m%d%Y', errors='coerce')\n",
    "indiv = indiv[(indiv['TRANSACTION_DT']>='2015-01-01') & (indiv['TRANSACTION_DT']<='2016-12-31')]\n",
    "indiv['TRANSACTION_DT']"
   ]
  },
  {
   "cell_type": "markdown",
   "metadata": {
    "slideshow": {
     "slide_type": "fragment"
    }
   },
   "source": [
    "* Having contributions of committees and individuals in two different DataFrames isn't as useful as having them in one DataFrame, so we append the `com_contr` DataFrame to the `indiv` DataFrame "
   ]
  },
  {
   "cell_type": "code",
   "execution_count": 70,
   "metadata": {
    "scrolled": true,
    "slideshow": {
     "slide_type": "fragment"
    }
   },
   "outputs": [
    {
     "data": {
      "text/plain": [
       "(7843119, 11)"
      ]
     },
     "execution_count": 70,
     "metadata": {},
     "output_type": "execute_result"
    }
   ],
   "source": [
    "contributions = indiv.append(com_contr,ignore_index=True)\n",
    "contributions.shape"
   ]
  },
  {
   "cell_type": "markdown",
   "metadata": {
    "slideshow": {
     "slide_type": "slide"
    }
   },
   "source": [
    "* Apart from operating expenditures, expenditures that codes `24K`,`18K`,`24G`,`15Z`,`24Z`_(maker of transactions)_,`18G`,`22Z`,`15J`,`18J`,`11J`_(receiver of transaction)_ suggest as expenditures should be considered in the investigation.\n",
    "* So we isolate them in DataFrames `ex_maker` and `ex_receiver`."
   ]
  },
  {
   "cell_type": "code",
   "execution_count": 71,
   "metadata": {
    "scrolled": true,
    "slideshow": {
     "slide_type": "fragment"
    }
   },
   "outputs": [
    {
     "name": "stdout",
     "output_type": "stream",
     "text": [
      "(999, 10) \n",
      " (955967, 10)\n"
     ]
    }
   ],
   "source": [
    "ex_maker = ctc.loc[(ctc['OTHER_ID'].isin([hillary_c[0],trump_c[0]])) & (ctc['TRANSACTION_TP'].isin(['24K','18K','24G','15Z','24Z']))]\n",
    "ex_receiver = ctc.loc[(ctc['CMTE_ID'].isin([hillary_c[0],trump_c[0]])) & (ctc['TRANSACTION_TP'].isin(['18G','22Z','15J','18J','11J']))]\n",
    "print(ex_maker.shape,'\\n',ex_receiver.shape)"
   ]
  },
  {
   "cell_type": "markdown",
   "metadata": {
    "slideshow": {
     "slide_type": "fragment"
    }
   },
   "source": [
    "* The campaigns' IDs are in `CMTE_ID` column in both `opex` and `ex_receiver` DataFrames. So, it would be better to have only one DataFrame `total_ex_receiver`, so as to combine it later with the `ex_maker` DataFrame that the campaigns' IDs are in a different column."
   ]
  },
  {
   "cell_type": "code",
   "execution_count": 72,
   "metadata": {
    "scrolled": true,
    "slideshow": {
     "slide_type": "fragment"
    }
   },
   "outputs": [
    {
     "data": {
      "text/plain": [
       "(1127831, 10)"
      ]
     },
     "execution_count": 72,
     "metadata": {},
     "output_type": "execute_result"
    }
   ],
   "source": [
    "total_ex_receiver = ex_receiver.append(opex[['CMTE_ID','NAME','STATE','TRANSACTION_DT','TRANSACTION_AMT','TRAN_ID','FILE_NUM','SUB_ID']], ignore_index=True)\n",
    "total_ex_receiver.shape"
   ]
  },
  {
   "cell_type": "markdown",
   "metadata": {
    "slideshow": {
     "slide_type": "slide"
    }
   },
   "source": [
    "* Having `ex_maker` and `total_ex_receiver` DataFrames containing all the expenditures we want, it's time to combine them into one DataFrame. To do that, as the campaigns' IDs are in different columns in the two DataFrames, first we have to put all data in a distionary, where keys are the columns' names of the new DataFrame and values are the entries of the two DataFrames.\n",
    "* Column `CMTE_ID` has the campaign's ID, while column `TYPE` has the type of the transaction (_EXP_:expenditure, _CON_:contribution)"
   ]
  },
  {
   "cell_type": "code",
   "execution_count": 73,
   "metadata": {
    "scrolled": true,
    "slideshow": {
     "slide_type": "fragment"
    }
   },
   "outputs": [],
   "source": [
    "data = {'TRANSACTION_DT': total_ex_receiver['TRANSACTION_DT'].append(ex_maker['TRANSACTION_DT']),\n",
    "        'TRANSACTION_AMT': total_ex_receiver['TRANSACTION_AMT'].append(ex_maker['TRANSACTION_AMT']),\n",
    "        'NAME': total_ex_receiver['NAME'].append(ex_maker['NAME']),\n",
    "        'STATE': total_ex_receiver['STATE'].append(ex_maker['STATE']),\n",
    "        'CMTE_ID': total_ex_receiver['CMTE_ID'].append(ex_maker['OTHER_ID']),\n",
    "        'TYPE': 'EXP'}"
   ]
  },
  {
   "cell_type": "markdown",
   "metadata": {
    "slideshow": {
     "slide_type": "fragment"
    }
   },
   "source": [
    "* Then, we just insert the data into the new DataFrame, `data`, which will eventually have all contributions and expenditures"
   ]
  },
  {
   "cell_type": "code",
   "execution_count": 74,
   "metadata": {
    "scrolled": true,
    "slideshow": {
     "slide_type": "fragment"
    }
   },
   "outputs": [
    {
     "name": "stdout",
     "output_type": "stream",
     "text": [
      "(1128830, 6)\n"
     ]
    },
    {
     "data": {
      "text/html": [
       "<div>\n",
       "<style scoped>\n",
       "    .dataframe tbody tr th:only-of-type {\n",
       "        vertical-align: middle;\n",
       "    }\n",
       "\n",
       "    .dataframe tbody tr th {\n",
       "        vertical-align: top;\n",
       "    }\n",
       "\n",
       "    .dataframe thead th {\n",
       "        text-align: right;\n",
       "    }\n",
       "</style>\n",
       "<table border=\"1\" class=\"dataframe\">\n",
       "  <thead>\n",
       "    <tr style=\"text-align: right;\">\n",
       "      <th></th>\n",
       "      <th>TRANSACTION_DT</th>\n",
       "      <th>TRANSACTION_AMT</th>\n",
       "      <th>NAME</th>\n",
       "      <th>STATE</th>\n",
       "      <th>CMTE_ID</th>\n",
       "      <th>TYPE</th>\n",
       "    </tr>\n",
       "  </thead>\n",
       "  <tbody>\n",
       "    <tr>\n",
       "      <th>794743</th>\n",
       "      <td>2016-07-09</td>\n",
       "      <td>2.00</td>\n",
       "      <td>RYAN, SUZANNE</td>\n",
       "      <td>FL</td>\n",
       "      <td>C00580100</td>\n",
       "      <td>EXP</td>\n",
       "    </tr>\n",
       "    <tr>\n",
       "      <th>482725</th>\n",
       "      <td>2016-07-25</td>\n",
       "      <td>250.00</td>\n",
       "      <td>ZUNIGA, ANITA</td>\n",
       "      <td>CA</td>\n",
       "      <td>C00575795</td>\n",
       "      <td>EXP</td>\n",
       "    </tr>\n",
       "    <tr>\n",
       "      <th>609449</th>\n",
       "      <td>2016-05-20</td>\n",
       "      <td>96.00</td>\n",
       "      <td>TRACHINGER, MIA</td>\n",
       "      <td>CA</td>\n",
       "      <td>C00575795</td>\n",
       "      <td>EXP</td>\n",
       "    </tr>\n",
       "    <tr>\n",
       "      <th>858298</th>\n",
       "      <td>2016-06-01</td>\n",
       "      <td>28.00</td>\n",
       "      <td>MARSH, P W</td>\n",
       "      <td>GA</td>\n",
       "      <td>C00580100</td>\n",
       "      <td>EXP</td>\n",
       "    </tr>\n",
       "    <tr>\n",
       "      <th>1039177</th>\n",
       "      <td>2016-09-12</td>\n",
       "      <td>217.94</td>\n",
       "      <td>DELTA AIRLINES</td>\n",
       "      <td>GA</td>\n",
       "      <td>C00575795</td>\n",
       "      <td>EXP</td>\n",
       "    </tr>\n",
       "  </tbody>\n",
       "</table>\n",
       "</div>"
      ],
      "text/plain": [
       "        TRANSACTION_DT  TRANSACTION_AMT             NAME STATE    CMTE_ID TYPE\n",
       "794743      2016-07-09             2.00    RYAN, SUZANNE    FL  C00580100  EXP\n",
       "482725      2016-07-25           250.00    ZUNIGA, ANITA    CA  C00575795  EXP\n",
       "609449      2016-05-20            96.00  TRACHINGER, MIA    CA  C00575795  EXP\n",
       "858298      2016-06-01            28.00       MARSH, P W    GA  C00580100  EXP\n",
       "1039177     2016-09-12           217.94   DELTA AIRLINES    GA  C00575795  EXP"
      ]
     },
     "execution_count": 74,
     "metadata": {},
     "output_type": "execute_result"
    }
   ],
   "source": [
    "data = pd.DataFrame(data, columns=['TRANSACTION_DT','TRANSACTION_AMT','NAME','STATE','CMTE_ID','TYPE'])\n",
    "print(data.shape)\n",
    "data.sample(5)"
   ]
  },
  {
   "cell_type": "markdown",
   "metadata": {
    "slideshow": {
     "slide_type": "slide"
    }
   },
   "source": [
    "* Having collected all expenditures into one DataFrame, it's time to combine `expenditures` and `contributions` DataFrames.\n",
    "* First, we insert `TYPE` column in `contributions` with fixed value `CON`(_for contribution_)."
   ]
  },
  {
   "cell_type": "code",
   "execution_count": 75,
   "metadata": {
    "scrolled": true,
    "slideshow": {
     "slide_type": "fragment"
    }
   },
   "outputs": [
    {
     "data": {
      "text/html": [
       "<div>\n",
       "<style scoped>\n",
       "    .dataframe tbody tr th:only-of-type {\n",
       "        vertical-align: middle;\n",
       "    }\n",
       "\n",
       "    .dataframe tbody tr th {\n",
       "        vertical-align: top;\n",
       "    }\n",
       "\n",
       "    .dataframe thead th {\n",
       "        text-align: right;\n",
       "    }\n",
       "</style>\n",
       "<table border=\"1\" class=\"dataframe\">\n",
       "  <thead>\n",
       "    <tr style=\"text-align: right;\">\n",
       "      <th></th>\n",
       "      <th>CMTE_ID</th>\n",
       "      <th>CAND_NAME</th>\n",
       "      <th>TRANSACTION_DT</th>\n",
       "      <th>TRANSACTION_AMT</th>\n",
       "      <th>NAME</th>\n",
       "      <th>STATE</th>\n",
       "      <th>TRANSACTION_TP</th>\n",
       "      <th>OTHER_ID</th>\n",
       "      <th>TRAN_ID</th>\n",
       "      <th>FILE_NUM</th>\n",
       "      <th>TYPE</th>\n",
       "      <th>SUB_ID</th>\n",
       "    </tr>\n",
       "  </thead>\n",
       "  <tbody>\n",
       "    <tr>\n",
       "      <th>1525377</th>\n",
       "      <td>C00570978</td>\n",
       "      <td>CLINTON, HILLARY RODHAM / TIMOTHY MICHAEL KAINE</td>\n",
       "      <td>2016-08-26</td>\n",
       "      <td>19.0</td>\n",
       "      <td>GUILLIAMS, EMILY</td>\n",
       "      <td>PA</td>\n",
       "      <td>NaN</td>\n",
       "      <td>NaN</td>\n",
       "      <td>NaN</td>\n",
       "      <td>NaN</td>\n",
       "      <td>CON</td>\n",
       "      <td>NaN</td>\n",
       "    </tr>\n",
       "    <tr>\n",
       "      <th>3561619</th>\n",
       "      <td>C00575795</td>\n",
       "      <td>CLINTON, HILLARY RODHAM / TIMOTHY MICHAEL KAINE</td>\n",
       "      <td>2016-10-11</td>\n",
       "      <td>25.0</td>\n",
       "      <td>CARLSON, JENNIFER</td>\n",
       "      <td>NY</td>\n",
       "      <td>NaN</td>\n",
       "      <td>NaN</td>\n",
       "      <td>NaN</td>\n",
       "      <td>NaN</td>\n",
       "      <td>CON</td>\n",
       "      <td>NaN</td>\n",
       "    </tr>\n",
       "  </tbody>\n",
       "</table>\n",
       "</div>"
      ],
      "text/plain": [
       "           CMTE_ID                                        CAND_NAME  \\\n",
       "1525377  C00570978  CLINTON, HILLARY RODHAM / TIMOTHY MICHAEL KAINE   \n",
       "3561619  C00575795  CLINTON, HILLARY RODHAM / TIMOTHY MICHAEL KAINE   \n",
       "\n",
       "        TRANSACTION_DT  TRANSACTION_AMT               NAME STATE  \\\n",
       "1525377     2016-08-26             19.0   GUILLIAMS, EMILY    PA   \n",
       "3561619     2016-10-11             25.0  CARLSON, JENNIFER    NY   \n",
       "\n",
       "        TRANSACTION_TP OTHER_ID TRAN_ID FILE_NUM TYPE SUB_ID  \n",
       "1525377            NaN      NaN     NaN      NaN  CON    NaN  \n",
       "3561619            NaN      NaN     NaN      NaN  CON    NaN  "
      ]
     },
     "execution_count": 75,
     "metadata": {},
     "output_type": "execute_result"
    }
   ],
   "source": [
    "# insert column TYPE\n",
    "contributions.insert(10, 'TYPE', 'CON', allow_duplicates = False)\n",
    "contributions.sample(2)"
   ]
  },
  {
   "cell_type": "markdown",
   "metadata": {
    "slideshow": {
     "slide_type": "fragment"
    }
   },
   "source": [
    "* Then we combine the data."
   ]
  },
  {
   "cell_type": "code",
   "execution_count": 76,
   "metadata": {
    "scrolled": true,
    "slideshow": {
     "slide_type": "fragment"
    }
   },
   "outputs": [
    {
     "data": {
      "text/plain": [
       "(8971949, 6)"
      ]
     },
     "execution_count": 76,
     "metadata": {},
     "output_type": "execute_result"
    }
   ],
   "source": [
    "data = data.append(contributions[['TRANSACTION_DT','TRANSACTION_AMT','NAME','STATE','CMTE_ID','TYPE']])\n",
    "data.shape"
   ]
  },
  {
   "cell_type": "markdown",
   "metadata": {
    "slideshow": {
     "slide_type": "slide"
    }
   },
   "source": [
    "* Since the chronological evolution will be by month, `TRANSACTION_DT` must be fixed so as to be by month."
   ]
  },
  {
   "cell_type": "code",
   "execution_count": 77,
   "metadata": {
    "scrolled": true,
    "slideshow": {
     "slide_type": "fragment"
    }
   },
   "outputs": [
    {
     "data": {
      "text/plain": [
       "0          2015/07\n",
       "1          2015/10\n",
       "2          2015/09\n",
       "3          2015/09\n",
       "4          2015/11\n",
       "            ...   \n",
       "7843114    2016/11\n",
       "7843115    2016/11\n",
       "7843116    2016/11\n",
       "7843117    2016/10\n",
       "7843118    2016/11\n",
       "Name: TRANSACTION_DT, Length: 8971949, dtype: object"
      ]
     },
     "execution_count": 77,
     "metadata": {},
     "output_type": "execute_result"
    }
   ],
   "source": [
    "# make all dates with form month/Year\n",
    "data.loc[:,'TRANSACTION_DT'] = pd.DatetimeIndex(data['TRANSACTION_DT']).strftime('%Y/%m')\n",
    "data['TRANSACTION_DT']"
   ]
  },
  {
   "cell_type": "markdown",
   "metadata": {
    "slideshow": {
     "slide_type": "slide"
    }
   },
   "source": [
    "* To investigate the chronological evolution of the contributions and the expenditures of the campaigns, we create 3 [pivot tables](https://pandas.pydata.org/pandas-docs/stable/reference/api/pandas.pivot_table.html).\n",
    "* Pivot table `graph` contains all contributions and expenditures of the two campaigns, while `graph_trump` and `graph_hillary` contain contributions and expenditures of each campaign separately.\n",
    "* Later, these pivot tables will be used to create bar-graphs using Pandas's [plot](https://pandas.pydata.org/pandas-docs/stable/reference/api/pandas.DataFrame.plot.html) method"
   ]
  },
  {
   "cell_type": "code",
   "execution_count": 78,
   "metadata": {
    "scrolled": true,
    "slideshow": {
     "slide_type": "fragment"
    }
   },
   "outputs": [],
   "source": [
    "graph = data.pivot_table(index='TRANSACTION_DT', \n",
    "                         columns=['TYPE'],\n",
    "                         values='TRANSACTION_AMT',\n",
    "                         aggfunc='sum')\n",
    "\n",
    "# pivot table for D.Trump\n",
    "graph_trump = data[data['CMTE_ID']==trump_c[0]].pivot_table(index='TRANSACTION_DT', \n",
    "                                                            columns=['TYPE','CMTE_ID'],\n",
    "                                                            values='TRANSACTION_AMT',\n",
    "                                                            aggfunc='sum')\n",
    "\n",
    "# pivot table for H.Clinton\n",
    "graph_hillary = data[data['CMTE_ID']==hillary_c[0]].pivot_table(index='TRANSACTION_DT', \n",
    "                                                                columns=['TYPE','CMTE_ID'],\n",
    "                                                                values='TRANSACTION_AMT',\n",
    "                                                                aggfunc='sum')"
   ]
  },
  {
   "cell_type": "markdown",
   "metadata": {
    "slideshow": {
     "slide_type": "slide"
    }
   },
   "source": [
    "* The **chronological evolution of the contributions made to and the expenditures made by both of the campaigns** is shown in the gragh below. \n",
    "* Contributions _(TYPE:CON)_ are in green, while expenditures _(TYPE:EXP)_ are in red.\n",
    "* Analyzing this graph, it appears to be a rise of the amounts of money raised and spent dy the campaigns until November, that is when the presidential elections occured (November, 8th)."
   ]
  },
  {
   "cell_type": "code",
   "execution_count": 79,
   "metadata": {
    "slideshow": {
     "slide_type": "fragment"
    }
   },
   "outputs": [
    {
     "data": {
      "image/png": "[encoded data removed]",
      "text/plain": [
       "<Figure size 1080x720 with 1 Axes>"
      ]
     },
     "metadata": {
      "needs_background": "light"
     },
     "output_type": "display_data"
    }
   ],
   "source": [
    "g_both = graph.plot(xlabel='Time', \n",
    "                    ylabel='Money(in 100 millions)',\n",
    "                    title=\"Chronological evolution of contributions and expenditures of D.Trump's and H.Clinton's campaigns\",\n",
    "                    kind='bar', \n",
    "                    color=('green', 'red'), \n",
    "                    figsize=(15, 10))"
   ]
  },
  {
   "cell_type": "markdown",
   "metadata": {
    "slideshow": {
     "slide_type": "slide"
    }
   },
   "source": [
    "* The **chronological evolution of the contributions made to and the expenditures made by D.Trump's campaign** is shown in the gragh below. \n",
    "* Contributions _(TYPE:CON)_ are in green, while expenditures _(TYPE:EXP)_ are in red. `C00580100` is the ID of D.Trump's campaign.\n",
    "* Analyzing this graph, it appears to be a rise of the amounts of money raised and spent dy the campaign until November, that is when the elections occured (November, 8th)."
   ]
  },
  {
   "cell_type": "code",
   "execution_count": 80,
   "metadata": {
    "scrolled": false,
    "slideshow": {
     "slide_type": "fragment"
    }
   },
   "outputs": [
    {
     "data": {
      "image/png": "[encoded data removed]",
      "text/plain": [
       "<Figure size 1080x720 with 1 Axes>"
      ]
     },
     "metadata": {
      "needs_background": "light"
     },
     "output_type": "display_data"
    }
   ],
   "source": [
    "g_trump = graph_trump.plot(xlabel='Time', \n",
    "                           ylabel='Money(in 100 millions)',\n",
    "                           title=\"Chronological evolution of contributions and expenditures of D.Trump's campaign\",\n",
    "                           kind='bar', \n",
    "                           color=('green', 'red'), \n",
    "                           figsize=(15, 10))"
   ]
  },
  {
   "cell_type": "markdown",
   "metadata": {
    "slideshow": {
     "slide_type": "slide"
    }
   },
   "source": [
    "* The **chronological evolution of the contributions made to and the expenditures made by H.Clinton's campaign** is shown in the gragh below. \n",
    "* Contributions _(TYPE:CON)_ are in green, while expenditures _(TYPE:EXP)_ are in red. `C00575795` is the ID of H.Clinton's campaign.\n",
    "* Analyzing this graph, it appears to be a rise of the amounts of money raised and spent dy the campaign until November, that is when the elections occured (November, 8th).\n",
    "* In addition, it seems that H.Clinton's campaign raised more money of the contributions in comparison to D.Trump's graph."
   ]
  },
  {
   "cell_type": "code",
   "execution_count": 81,
   "metadata": {
    "scrolled": false,
    "slideshow": {
     "slide_type": "fragment"
    }
   },
   "outputs": [
    {
     "data": {
      "image/png": "[encoded data removed]",
      "text/plain": [
       "<Figure size 1080x720 with 1 Axes>"
      ]
     },
     "metadata": {
      "needs_background": "light"
     },
     "output_type": "display_data"
    }
   ],
   "source": [
    "g_hillary = graph_hillary.plot(xlabel='Time', \n",
    "                               ylabel='Money(in 100 millions)',\n",
    "                               title=\"Chronological evolution of contributions and expenditures of H.Clinton's campaign\",\n",
    "                               kind='bar', \n",
    "                               color=('green', 'red'), \n",
    "                               figsize=(15, 10))"
   ]
  },
  {
   "cell_type": "markdown",
   "metadata": {
    "slideshow": {
     "slide_type": "slide"
    }
   },
   "source": [
    "## Exercise 4\n",
    "* To find the biggest recipients of the two campaigns' expenditures, `total_ex_receiver` and `ex_maker` DataFrames will be used (defined in Exercise 3).\n",
    "* The recipients will be identified by Name and State.<br>\n",
    "<br>\n",
    "* As a reminder, `total_ex_receiver` DataFrame contains all expenditures made to the two campaigns, while `ex_maker` DataFrame contains all expenditures made by the two campaigns."
   ]
  },
  {
   "cell_type": "markdown",
   "metadata": {
    "slideshow": {
     "slide_type": "fragment"
    }
   },
   "source": [
    "* The ID of the recipient in `total_ex_receiver` is found at `OTHER_ID` column, while in `ex_maker` it's found at `CMTE_ID` column, so we create two DataFrames with all the needed data in columns with the same names.\n",
    "* `maker_fx` DataFrame contains all expenditures made by the campaigns.\n",
    "* `receiver_fx` DataFrame contains all expenditures made to the campaigns.<br>\n",
    "<br>\n",
    "* `REC_ID` column represents the ID of the recipient (in case of an individual it's Null)\n",
    "* `REC_NAME` column represents the name of the recipient\n",
    "* `CAMPAIGN` column represents the ID of D.Trump's or H.Clinton's campaign "
   ]
  },
  {
   "cell_type": "code",
   "execution_count": 82,
   "metadata": {
    "slideshow": {
     "slide_type": "fragment"
    }
   },
   "outputs": [
    {
     "name": "stdout",
     "output_type": "stream",
     "text": [
      "Index(['CAMPAIGN', 'TRANSACTION_AMT', 'REC_ID'], dtype='object') \n",
      " Index(['CAMPAIGN', 'TRANSACTION_AMT', 'REC_ID', 'REC_NAME'], dtype='object')\n"
     ]
    }
   ],
   "source": [
    "maker_fx = ex_maker[['OTHER_ID','TRANSACTION_AMT','CMTE_ID']]\\\n",
    "           .rename(columns={'CMTE_ID':'REC_ID',\n",
    "                            'OTHER_ID':'CAMPAIGN'}, inplace = False)\n",
    "\n",
    "receiver_fx = total_ex_receiver[['CMTE_ID','TRANSACTION_AMT','OTHER_ID','NAME']]\\\n",
    "              .rename(columns={'CMTE_ID':'CAMPAIGN',\n",
    "                               'NAME':'REC_NAME',\n",
    "                               'OTHER_ID':'REC_ID'}, inplace = False)\n",
    "\n",
    "print(maker_fx.columns,'\\n',receiver_fx.columns)"
   ]
  },
  {
   "cell_type": "markdown",
   "metadata": {
    "slideshow": {
     "slide_type": "slide"
    }
   },
   "source": [
    "* `maker_fx` doesn't initially have `REC_NAME` column, because an inner join with `committees` DataFrame is needed to have access to this information."
   ]
  },
  {
   "cell_type": "code",
   "execution_count": 83,
   "metadata": {
    "slideshow": {
     "slide_type": "fragment"
    }
   },
   "outputs": [
    {
     "data": {
      "text/plain": [
       "Index(['CAMPAIGN', 'TRANSACTION_AMT', 'REC_ID', 'CMTE_NM', 'CMTE_ID'], dtype='object')"
      ]
     },
     "execution_count": 83,
     "metadata": {},
     "output_type": "execute_result"
    }
   ],
   "source": [
    "# add REC_NAME on maker_fx\n",
    "maker_fx = pd.merge(maker_fx,\n",
    "                     committees[['CMTE_NM','CMTE_ID']],\n",
    "                     left_on='REC_ID',\n",
    "                     right_on='CMTE_ID',\n",
    "                     how='inner')\n",
    "\n",
    "maker_fx.columns"
   ]
  },
  {
   "cell_type": "markdown",
   "metadata": {
    "slideshow": {
     "slide_type": "fragment"
    }
   },
   "source": [
    "* `CMTE_ID` column added after the join is unnecessary so it is dropped from the DataFrame.\n",
    "* `CMTE_NM` contains the names of the recipients, so it is renamed as `REC_NAME`"
   ]
  },
  {
   "cell_type": "code",
   "execution_count": 84,
   "metadata": {
    "slideshow": {
     "slide_type": "fragment"
    }
   },
   "outputs": [
    {
     "data": {
      "text/html": [
       "<div>\n",
       "<style scoped>\n",
       "    .dataframe tbody tr th:only-of-type {\n",
       "        vertical-align: middle;\n",
       "    }\n",
       "\n",
       "    .dataframe tbody tr th {\n",
       "        vertical-align: top;\n",
       "    }\n",
       "\n",
       "    .dataframe thead th {\n",
       "        text-align: right;\n",
       "    }\n",
       "</style>\n",
       "<table border=\"1\" class=\"dataframe\">\n",
       "  <thead>\n",
       "    <tr style=\"text-align: right;\">\n",
       "      <th></th>\n",
       "      <th>CAMPAIGN</th>\n",
       "      <th>TRANSACTION_AMT</th>\n",
       "      <th>REC_ID</th>\n",
       "      <th>REC_NAME</th>\n",
       "    </tr>\n",
       "  </thead>\n",
       "  <tbody>\n",
       "    <tr>\n",
       "      <th>203</th>\n",
       "      <td>C00575795</td>\n",
       "      <td>1000.0</td>\n",
       "      <td>C00312777</td>\n",
       "      <td>COZEN O'CONNOR POLITICAL ACTION COMMITTEE</td>\n",
       "    </tr>\n",
       "    <tr>\n",
       "      <th>195</th>\n",
       "      <td>C00575795</td>\n",
       "      <td>2000.0</td>\n",
       "      <td>C00349506</td>\n",
       "      <td>FRIENDS OF MARIA</td>\n",
       "    </tr>\n",
       "    <tr>\n",
       "      <th>964</th>\n",
       "      <td>C00575795</td>\n",
       "      <td>1747.0</td>\n",
       "      <td>C00461251</td>\n",
       "      <td>MAC PAC</td>\n",
       "    </tr>\n",
       "    <tr>\n",
       "      <th>505</th>\n",
       "      <td>C00575795</td>\n",
       "      <td>5.0</td>\n",
       "      <td>C00450098</td>\n",
       "      <td>WOMENCOUNT PAC</td>\n",
       "    </tr>\n",
       "    <tr>\n",
       "      <th>709</th>\n",
       "      <td>C00575795</td>\n",
       "      <td>1556.0</td>\n",
       "      <td>C00577080</td>\n",
       "      <td>CALONE FOR CONGRESS</td>\n",
       "    </tr>\n",
       "  </tbody>\n",
       "</table>\n",
       "</div>"
      ],
      "text/plain": [
       "      CAMPAIGN  TRANSACTION_AMT     REC_ID  \\\n",
       "203  C00575795           1000.0  C00312777   \n",
       "195  C00575795           2000.0  C00349506   \n",
       "964  C00575795           1747.0  C00461251   \n",
       "505  C00575795              5.0  C00450098   \n",
       "709  C00575795           1556.0  C00577080   \n",
       "\n",
       "                                      REC_NAME  \n",
       "203  COZEN O'CONNOR POLITICAL ACTION COMMITTEE  \n",
       "195                           FRIENDS OF MARIA  \n",
       "964                                    MAC PAC  \n",
       "505                             WOMENCOUNT PAC  \n",
       "709                        CALONE FOR CONGRESS  "
      ]
     },
     "execution_count": 84,
     "metadata": {},
     "output_type": "execute_result"
    }
   ],
   "source": [
    "# drop column CMTE_ID\n",
    "maker_fx = maker_fx.drop('CMTE_ID',axis=1)\n",
    "\n",
    "# rename CMTE_NM to REC_NAME\n",
    "maker_fx = maker_fx.rename(columns={'CMTE_NM':'REC_NAME'}, inplace = False)\n",
    "\n",
    "maker_fx.sample(5)"
   ]
  },
  {
   "cell_type": "markdown",
   "metadata": {
    "slideshow": {
     "slide_type": "slide"
    }
   },
   "source": [
    "* Now that we have `maker_fx` and `receiver_fx` having same columns (by name and meaning), we can combine them into one DataFrame."
   ]
  },
  {
   "cell_type": "code",
   "execution_count": 85,
   "metadata": {
    "slideshow": {
     "slide_type": "fragment"
    }
   },
   "outputs": [
    {
     "name": "stdout",
     "output_type": "stream",
     "text": [
      "(1128830, 4)\n"
     ]
    },
    {
     "data": {
      "text/html": [
       "<div>\n",
       "<style scoped>\n",
       "    .dataframe tbody tr th:only-of-type {\n",
       "        vertical-align: middle;\n",
       "    }\n",
       "\n",
       "    .dataframe tbody tr th {\n",
       "        vertical-align: top;\n",
       "    }\n",
       "\n",
       "    .dataframe thead th {\n",
       "        text-align: right;\n",
       "    }\n",
       "</style>\n",
       "<table border=\"1\" class=\"dataframe\">\n",
       "  <thead>\n",
       "    <tr style=\"text-align: right;\">\n",
       "      <th></th>\n",
       "      <th>CAMPAIGN</th>\n",
       "      <th>TRANSACTION_AMT</th>\n",
       "      <th>REC_ID</th>\n",
       "      <th>REC_NAME</th>\n",
       "    </tr>\n",
       "  </thead>\n",
       "  <tbody>\n",
       "    <tr>\n",
       "      <th>16022</th>\n",
       "      <td>C00575795</td>\n",
       "      <td>10.0</td>\n",
       "      <td>NaN</td>\n",
       "      <td>LEWIS, JESSIE</td>\n",
       "    </tr>\n",
       "    <tr>\n",
       "      <th>882198</th>\n",
       "      <td>C00580100</td>\n",
       "      <td>20.0</td>\n",
       "      <td>NaN</td>\n",
       "      <td>BROCKMEIER, ROBERT S MR. JR.</td>\n",
       "    </tr>\n",
       "    <tr>\n",
       "      <th>570850</th>\n",
       "      <td>C00575795</td>\n",
       "      <td>250.0</td>\n",
       "      <td>NaN</td>\n",
       "      <td>FUSCO, JOHN</td>\n",
       "    </tr>\n",
       "    <tr>\n",
       "      <th>877256</th>\n",
       "      <td>C00580100</td>\n",
       "      <td>40.0</td>\n",
       "      <td>NaN</td>\n",
       "      <td>COCHRAN, BENJAMIN R MR.</td>\n",
       "    </tr>\n",
       "    <tr>\n",
       "      <th>333442</th>\n",
       "      <td>C00575795</td>\n",
       "      <td>65.0</td>\n",
       "      <td>NaN</td>\n",
       "      <td>ALLISON, AMY</td>\n",
       "    </tr>\n",
       "  </tbody>\n",
       "</table>\n",
       "</div>"
      ],
      "text/plain": [
       "         CAMPAIGN  TRANSACTION_AMT REC_ID                      REC_NAME\n",
       "16022   C00575795             10.0    NaN                 LEWIS, JESSIE\n",
       "882198  C00580100             20.0    NaN  BROCKMEIER, ROBERT S MR. JR.\n",
       "570850  C00575795            250.0    NaN                   FUSCO, JOHN\n",
       "877256  C00580100             40.0    NaN       COCHRAN, BENJAMIN R MR.\n",
       "333442  C00575795             65.0    NaN                  ALLISON, AMY"
      ]
     },
     "execution_count": 85,
     "metadata": {},
     "output_type": "execute_result"
    }
   ],
   "source": [
    "top_recipients = maker_fx.append(receiver_fx,ignore_index=True)\n",
    "print(top_recipients.shape)\n",
    "top_recipients.sample(5)"
   ]
  },
  {
   "cell_type": "markdown",
   "metadata": {
    "slideshow": {
     "slide_type": "slide"
    }
   },
   "source": [
    "* The **biggest recipients of both of the two camapigns** are shown below (20 are shown, can be adjust to any number). "
   ]
  },
  {
   "cell_type": "code",
   "execution_count": 86,
   "metadata": {
    "slideshow": {
     "slide_type": "fragment"
    }
   },
   "outputs": [
    {
     "data": {
      "text/html": [
       "<div>\n",
       "<style scoped>\n",
       "    .dataframe tbody tr th:only-of-type {\n",
       "        vertical-align: middle;\n",
       "    }\n",
       "\n",
       "    .dataframe tbody tr th {\n",
       "        vertical-align: top;\n",
       "    }\n",
       "\n",
       "    .dataframe thead th {\n",
       "        text-align: right;\n",
       "    }\n",
       "</style>\n",
       "<table border=\"1\" class=\"dataframe\">\n",
       "  <thead>\n",
       "    <tr style=\"text-align: right;\">\n",
       "      <th></th>\n",
       "      <th></th>\n",
       "      <th>TRANSACTION_AMT</th>\n",
       "    </tr>\n",
       "    <tr>\n",
       "      <th>REC_ID</th>\n",
       "      <th>REC_NAME</th>\n",
       "      <th></th>\n",
       "    </tr>\n",
       "  </thead>\n",
       "  <tbody>\n",
       "    <tr>\n",
       "      <th>C00586537</th>\n",
       "      <th>HILLARY VICTORY FUND</th>\n",
       "      <td>316400000.0</td>\n",
       "    </tr>\n",
       "    <tr>\n",
       "      <th>C00618371</th>\n",
       "      <th>TRUMP MAKE AMERICA GREAT AGAIN COMMITTEE</th>\n",
       "      <td>242487889.0</td>\n",
       "    </tr>\n",
       "    <tr>\n",
       "      <th>C00618389</th>\n",
       "      <th>TRUMP VICTORY</th>\n",
       "      <td>26942704.0</td>\n",
       "    </tr>\n",
       "    <tr>\n",
       "      <th>C00586537</th>\n",
       "      <th>HILLARY VICTORY FUND - UNITEMIZED</th>\n",
       "      <td>19001530.0</td>\n",
       "    </tr>\n",
       "    <tr>\n",
       "      <th>C00619411</th>\n",
       "      <th>HILLARY ACTION FUND</th>\n",
       "      <td>5120000.0</td>\n",
       "    </tr>\n",
       "    <tr>\n",
       "      <th>C00008227</th>\n",
       "      <th>ARIZONA REPUBLICAN PARTY</th>\n",
       "      <td>360350.0</td>\n",
       "    </tr>\n",
       "    <tr>\n",
       "      <th>C00034033</th>\n",
       "      <th>SOUTH CAROLINA REPUBLICAN PARTY</th>\n",
       "      <td>45000.0</td>\n",
       "    </tr>\n",
       "    <tr>\n",
       "      <th>C00002089</th>\n",
       "      <th>COMMUNICATIONS WORKERS OF AMERICA-COPE POLITICAL CONTRIBUTIONS COMMITTEE</th>\n",
       "      <td>44816.0</td>\n",
       "    </tr>\n",
       "    <tr>\n",
       "      <th>C00084954</th>\n",
       "      <th>REPUBLICAN PARTY OF ARKANSAS</th>\n",
       "      <td>25000.0</td>\n",
       "    </tr>\n",
       "    <tr>\n",
       "      <th>C00400333</th>\n",
       "      <th>INTERDIGITAL, INC., PAC</th>\n",
       "      <td>20000.0</td>\n",
       "    </tr>\n",
       "    <tr>\n",
       "      <th>C00004606</th>\n",
       "      <th>KANSAS REPUBLICAN PARTY</th>\n",
       "      <td>19470.0</td>\n",
       "    </tr>\n",
       "    <tr>\n",
       "      <th>C00202861</th>\n",
       "      <th>THE SENATE VICTORY FUND PAC</th>\n",
       "      <td>17700.0</td>\n",
       "    </tr>\n",
       "    <tr>\n",
       "      <th>C00014498</th>\n",
       "      <th>REPUBLICAN PARTY OF IOWA</th>\n",
       "      <td>16500.0</td>\n",
       "    </tr>\n",
       "    <tr>\n",
       "      <th>C00197863</th>\n",
       "      <th>CABLEVISION SYSTEMS CORPORATION POLITICAL ACTION COMMITTEE</th>\n",
       "      <td>15000.0</td>\n",
       "    </tr>\n",
       "    <tr>\n",
       "      <th>C00156810</th>\n",
       "      <th>REPUBLICAN PARTY OF KENTUCKY</th>\n",
       "      <td>15000.0</td>\n",
       "    </tr>\n",
       "    <tr>\n",
       "      <th>C00003111</th>\n",
       "      <th>MAINE REPUBLICAN PARTY</th>\n",
       "      <td>14500.0</td>\n",
       "    </tr>\n",
       "    <tr>\n",
       "      <th>C00143743</th>\n",
       "      <th>REPUBLICAN PARTY OF TEXAS</th>\n",
       "      <td>13500.0</td>\n",
       "    </tr>\n",
       "    <tr>\n",
       "      <th>C00225342</th>\n",
       "      <th>MCGUIREWOODS LLP</th>\n",
       "      <td>12700.0</td>\n",
       "    </tr>\n",
       "    <tr>\n",
       "      <th>C00082925</th>\n",
       "      <th>NEVADA REPUBLICAN CENTRAL COMMITTEE</th>\n",
       "      <td>12500.0</td>\n",
       "    </tr>\n",
       "    <tr>\n",
       "      <th>C00011262</th>\n",
       "      <th>BROTHERHOOD OF RAILROAD SIGNALMEN POLITICAL ACTION COMMITTEE</th>\n",
       "      <td>11000.0</td>\n",
       "    </tr>\n",
       "  </tbody>\n",
       "</table>\n",
       "</div>"
      ],
      "text/plain": [
       "                                                              TRANSACTION_AMT\n",
       "REC_ID    REC_NAME                                                           \n",
       "C00586537 HILLARY VICTORY FUND                                    316400000.0\n",
       "C00618371 TRUMP MAKE AMERICA GREAT AGAIN COMMITTEE                242487889.0\n",
       "C00618389 TRUMP VICTORY                                            26942704.0\n",
       "C00586537 HILLARY VICTORY FUND - UNITEMIZED                        19001530.0\n",
       "C00619411 HILLARY ACTION FUND                                       5120000.0\n",
       "C00008227 ARIZONA REPUBLICAN PARTY                                   360350.0\n",
       "C00034033 SOUTH CAROLINA REPUBLICAN PARTY                             45000.0\n",
       "C00002089 COMMUNICATIONS WORKERS OF AMERICA-COPE POLITICA...          44816.0\n",
       "C00084954 REPUBLICAN PARTY OF ARKANSAS                                25000.0\n",
       "C00400333 INTERDIGITAL, INC., PAC                                     20000.0\n",
       "C00004606 KANSAS REPUBLICAN PARTY                                     19470.0\n",
       "C00202861 THE SENATE VICTORY FUND PAC                                 17700.0\n",
       "C00014498 REPUBLICAN PARTY OF IOWA                                    16500.0\n",
       "C00197863 CABLEVISION SYSTEMS CORPORATION POLITICAL ACTIO...          15000.0\n",
       "C00156810 REPUBLICAN PARTY OF KENTUCKY                                15000.0\n",
       "C00003111 MAINE REPUBLICAN PARTY                                      14500.0\n",
       "C00143743 REPUBLICAN PARTY OF TEXAS                                   13500.0\n",
       "C00225342 MCGUIREWOODS LLP                                            12700.0\n",
       "C00082925 NEVADA REPUBLICAN CENTRAL COMMITTEE                         12500.0\n",
       "C00011262 BROTHERHOOD OF RAILROAD SIGNALMEN POLITICAL ACT...          11000.0"
      ]
     },
     "execution_count": 86,
     "metadata": {},
     "output_type": "execute_result"
    }
   ],
   "source": [
    "top_recipients.groupby(['REC_ID','REC_NAME'])\\\n",
    "              .sum('TRANSACTION_AMT')\\\n",
    "              .sort_values(by='TRANSACTION_AMT',ascending=False)\\\n",
    "              .head(20)"
   ]
  },
  {
   "cell_type": "markdown",
   "metadata": {
    "slideshow": {
     "slide_type": "slide"
    }
   },
   "source": [
    "* The **biggest recipients of D.Trump's camapign** are shown below (20 are shown, can be adjust to any number)."
   ]
  },
  {
   "cell_type": "code",
   "execution_count": 87,
   "metadata": {
    "slideshow": {
     "slide_type": "fragment"
    }
   },
   "outputs": [
    {
     "data": {
      "text/html": [
       "<div>\n",
       "<style scoped>\n",
       "    .dataframe tbody tr th:only-of-type {\n",
       "        vertical-align: middle;\n",
       "    }\n",
       "\n",
       "    .dataframe tbody tr th {\n",
       "        vertical-align: top;\n",
       "    }\n",
       "\n",
       "    .dataframe thead th {\n",
       "        text-align: right;\n",
       "    }\n",
       "</style>\n",
       "<table border=\"1\" class=\"dataframe\">\n",
       "  <thead>\n",
       "    <tr style=\"text-align: right;\">\n",
       "      <th></th>\n",
       "      <th></th>\n",
       "      <th>TRANSACTION_AMT</th>\n",
       "    </tr>\n",
       "    <tr>\n",
       "      <th>REC_ID</th>\n",
       "      <th>REC_NAME</th>\n",
       "      <th></th>\n",
       "    </tr>\n",
       "  </thead>\n",
       "  <tbody>\n",
       "    <tr>\n",
       "      <th>C00618371</th>\n",
       "      <th>TRUMP MAKE AMERICA GREAT AGAIN COMMITTEE</th>\n",
       "      <td>242487889.0</td>\n",
       "    </tr>\n",
       "    <tr>\n",
       "      <th>C00618389</th>\n",
       "      <th>TRUMP VICTORY</th>\n",
       "      <td>26942704.0</td>\n",
       "    </tr>\n",
       "    <tr>\n",
       "      <th>C00008227</th>\n",
       "      <th>ARIZONA REPUBLICAN PARTY</th>\n",
       "      <td>360350.0</td>\n",
       "    </tr>\n",
       "    <tr>\n",
       "      <th>C00034033</th>\n",
       "      <th>SOUTH CAROLINA REPUBLICAN PARTY</th>\n",
       "      <td>45000.0</td>\n",
       "    </tr>\n",
       "    <tr>\n",
       "      <th>C00084954</th>\n",
       "      <th>REPUBLICAN PARTY OF ARKANSAS</th>\n",
       "      <td>25000.0</td>\n",
       "    </tr>\n",
       "    <tr>\n",
       "      <th>C00004606</th>\n",
       "      <th>KANSAS REPUBLICAN PARTY</th>\n",
       "      <td>19470.0</td>\n",
       "    </tr>\n",
       "    <tr>\n",
       "      <th>C00202861</th>\n",
       "      <th>THE SENATE VICTORY FUND PAC</th>\n",
       "      <td>17700.0</td>\n",
       "    </tr>\n",
       "    <tr>\n",
       "      <th>C00014498</th>\n",
       "      <th>REPUBLICAN PARTY OF IOWA</th>\n",
       "      <td>16500.0</td>\n",
       "    </tr>\n",
       "    <tr>\n",
       "      <th>C00156810</th>\n",
       "      <th>REPUBLICAN PARTY OF KENTUCKY</th>\n",
       "      <td>15000.0</td>\n",
       "    </tr>\n",
       "    <tr>\n",
       "      <th>C00003111</th>\n",
       "      <th>MAINE REPUBLICAN PARTY</th>\n",
       "      <td>14500.0</td>\n",
       "    </tr>\n",
       "    <tr>\n",
       "      <th>C00143743</th>\n",
       "      <th>REPUBLICAN PARTY OF TEXAS</th>\n",
       "      <td>13500.0</td>\n",
       "    </tr>\n",
       "    <tr>\n",
       "      <th>C00082925</th>\n",
       "      <th>NEVADA REPUBLICAN CENTRAL COMMITTEE</th>\n",
       "      <td>12500.0</td>\n",
       "    </tr>\n",
       "    <tr>\n",
       "      <th>C00044776</th>\n",
       "      <th>ALABAMA REPUBLICAN PARTY</th>\n",
       "      <td>10300.0</td>\n",
       "    </tr>\n",
       "    <tr>\n",
       "      <th>C00400333</th>\n",
       "      <th>INTERDIGITAL, INC., PAC</th>\n",
       "      <td>10000.0</td>\n",
       "    </tr>\n",
       "    <tr>\n",
       "      <th>C00415208</th>\n",
       "      <th>LONE STAR LEADERSHIP PAC</th>\n",
       "      <td>10000.0</td>\n",
       "    </tr>\n",
       "    <tr>\n",
       "      <th>C00402602</th>\n",
       "      <th>LONGHORN PAC</th>\n",
       "      <td>9000.0</td>\n",
       "    </tr>\n",
       "    <tr>\n",
       "      <th>C00089482</th>\n",
       "      <th>UTAH REPUBLICAN PARTY</th>\n",
       "      <td>7500.0</td>\n",
       "    </tr>\n",
       "    <tr>\n",
       "      <th>C00033134</th>\n",
       "      <th>COLORADO REPUBLICAN COMMITTEE</th>\n",
       "      <td>6800.0</td>\n",
       "    </tr>\n",
       "    <tr>\n",
       "      <th>C00553313</th>\n",
       "      <th>CONSERVATIVE AMERICA NOW PAC</th>\n",
       "      <td>5175.0</td>\n",
       "    </tr>\n",
       "    <tr>\n",
       "      <th>C00177741</th>\n",
       "      <th>ASPLUNDH TREE EXPERT CO POLITICAL ACTION COMMITTEE (ATE PAC)</th>\n",
       "      <td>5000.0</td>\n",
       "    </tr>\n",
       "  </tbody>\n",
       "</table>\n",
       "</div>"
      ],
      "text/plain": [
       "                                                              TRANSACTION_AMT\n",
       "REC_ID    REC_NAME                                                           \n",
       "C00618371 TRUMP MAKE AMERICA GREAT AGAIN COMMITTEE                242487889.0\n",
       "C00618389 TRUMP VICTORY                                            26942704.0\n",
       "C00008227 ARIZONA REPUBLICAN PARTY                                   360350.0\n",
       "C00034033 SOUTH CAROLINA REPUBLICAN PARTY                             45000.0\n",
       "C00084954 REPUBLICAN PARTY OF ARKANSAS                                25000.0\n",
       "C00004606 KANSAS REPUBLICAN PARTY                                     19470.0\n",
       "C00202861 THE SENATE VICTORY FUND PAC                                 17700.0\n",
       "C00014498 REPUBLICAN PARTY OF IOWA                                    16500.0\n",
       "C00156810 REPUBLICAN PARTY OF KENTUCKY                                15000.0\n",
       "C00003111 MAINE REPUBLICAN PARTY                                      14500.0\n",
       "C00143743 REPUBLICAN PARTY OF TEXAS                                   13500.0\n",
       "C00082925 NEVADA REPUBLICAN CENTRAL COMMITTEE                         12500.0\n",
       "C00044776 ALABAMA REPUBLICAN PARTY                                    10300.0\n",
       "C00400333 INTERDIGITAL, INC., PAC                                     10000.0\n",
       "C00415208 LONE STAR LEADERSHIP PAC                                    10000.0\n",
       "C00402602 LONGHORN PAC                                                 9000.0\n",
       "C00089482 UTAH REPUBLICAN PARTY                                        7500.0\n",
       "C00033134 COLORADO REPUBLICAN COMMITTEE                                6800.0\n",
       "C00553313 CONSERVATIVE AMERICA NOW PAC                                 5175.0\n",
       "C00177741 ASPLUNDH TREE EXPERT CO POLITICAL ACTION COMMIT...           5000.0"
      ]
     },
     "execution_count": 87,
     "metadata": {},
     "output_type": "execute_result"
    }
   ],
   "source": [
    "top_recipients[top_recipients['CAMPAIGN']==trump_c[0]].groupby(['REC_ID','REC_NAME'])\\\n",
    "                                                      .sum('TRANSACTION_AMT')\\\n",
    "                                                      .sort_values(by='TRANSACTION_AMT',ascending=False)\\\n",
    "                                                      .head(20)"
   ]
  },
  {
   "cell_type": "markdown",
   "metadata": {
    "slideshow": {
     "slide_type": "slide"
    }
   },
   "source": [
    "* The **biggest recipients of H.Clinton's camapign** are shown below (20 are shown, can be adjust to any number)."
   ]
  },
  {
   "cell_type": "code",
   "execution_count": 88,
   "metadata": {
    "slideshow": {
     "slide_type": "fragment"
    }
   },
   "outputs": [
    {
     "data": {
      "text/html": [
       "<div>\n",
       "<style scoped>\n",
       "    .dataframe tbody tr th:only-of-type {\n",
       "        vertical-align: middle;\n",
       "    }\n",
       "\n",
       "    .dataframe tbody tr th {\n",
       "        vertical-align: top;\n",
       "    }\n",
       "\n",
       "    .dataframe thead th {\n",
       "        text-align: right;\n",
       "    }\n",
       "</style>\n",
       "<table border=\"1\" class=\"dataframe\">\n",
       "  <thead>\n",
       "    <tr style=\"text-align: right;\">\n",
       "      <th></th>\n",
       "      <th></th>\n",
       "      <th>TRANSACTION_AMT</th>\n",
       "    </tr>\n",
       "    <tr>\n",
       "      <th>REC_ID</th>\n",
       "      <th>REC_NAME</th>\n",
       "      <th></th>\n",
       "    </tr>\n",
       "  </thead>\n",
       "  <tbody>\n",
       "    <tr>\n",
       "      <th rowspan=\"2\" valign=\"top\">C00586537</th>\n",
       "      <th>HILLARY VICTORY FUND</th>\n",
       "      <td>316400000.0</td>\n",
       "    </tr>\n",
       "    <tr>\n",
       "      <th>HILLARY VICTORY FUND - UNITEMIZED</th>\n",
       "      <td>19001530.0</td>\n",
       "    </tr>\n",
       "    <tr>\n",
       "      <th>C00619411</th>\n",
       "      <th>HILLARY ACTION FUND</th>\n",
       "      <td>5120000.0</td>\n",
       "    </tr>\n",
       "    <tr>\n",
       "      <th>C00002089</th>\n",
       "      <th>COMMUNICATIONS WORKERS OF AMERICA-COPE POLITICAL CONTRIBUTIONS COMMITTEE</th>\n",
       "      <td>44816.0</td>\n",
       "    </tr>\n",
       "    <tr>\n",
       "      <th>C00197863</th>\n",
       "      <th>CABLEVISION SYSTEMS CORPORATION POLITICAL ACTION COMMITTEE</th>\n",
       "      <td>15000.0</td>\n",
       "    </tr>\n",
       "    <tr>\n",
       "      <th>C00011262</th>\n",
       "      <th>BROTHERHOOD OF RAILROAD SIGNALMEN POLITICAL ACTION COMMITTEE</th>\n",
       "      <td>11000.0</td>\n",
       "    </tr>\n",
       "    <tr>\n",
       "      <th>C00139659</th>\n",
       "      <th>JOINT ACTION COMMITTEE FOR POLITICAL AFFAIRS</th>\n",
       "      <td>10461.0</td>\n",
       "    </tr>\n",
       "    <tr>\n",
       "      <th>C00624171</th>\n",
       "      <th>AMERICAN MUSLIM WOMEN (AMW)</th>\n",
       "      <td>10400.0</td>\n",
       "    </tr>\n",
       "    <tr>\n",
       "      <th>C00410126</th>\n",
       "      <th>AMERICANS FOR THE ARTS ACTION FUND PAC</th>\n",
       "      <td>10400.0</td>\n",
       "    </tr>\n",
       "    <tr>\n",
       "      <th>C00331694</th>\n",
       "      <th>AMERICA WORKS PAC</th>\n",
       "      <td>10000.0</td>\n",
       "    </tr>\n",
       "    <tr>\n",
       "      <th>C00065219</th>\n",
       "      <th>WINE INSTITUTE PAC</th>\n",
       "      <td>10000.0</td>\n",
       "    </tr>\n",
       "    <tr>\n",
       "      <th>C00400333</th>\n",
       "      <th>INTERDIGITAL, INC., PAC</th>\n",
       "      <td>10000.0</td>\n",
       "    </tr>\n",
       "    <tr>\n",
       "      <th>C00403592</th>\n",
       "      <th>NARRAGANSETT BAY PAC</th>\n",
       "      <td>10000.0</td>\n",
       "    </tr>\n",
       "    <tr>\n",
       "      <th>C00342048</th>\n",
       "      <th>PAC FOR A CHANGE</th>\n",
       "      <td>10000.0</td>\n",
       "    </tr>\n",
       "    <tr>\n",
       "      <th>C00409730</th>\n",
       "      <th>NEW DEMOCRAT COALITION PAC</th>\n",
       "      <td>10000.0</td>\n",
       "    </tr>\n",
       "    <tr>\n",
       "      <th>C00392738</th>\n",
       "      <th>HOLDING ONTO OREGON'S PRIORITIES</th>\n",
       "      <td>10000.0</td>\n",
       "    </tr>\n",
       "    <tr>\n",
       "      <th>C00344325</th>\n",
       "      <th>POLITICAL ACTION COMMITTEE OF THE INTERNATIONAL ALLIANCE OF THEATRICAL STAGE EMPLOYEES</th>\n",
       "      <td>10000.0</td>\n",
       "    </tr>\n",
       "    <tr>\n",
       "      <th>C00385534</th>\n",
       "      <th>LEGPAC</th>\n",
       "      <td>10000.0</td>\n",
       "    </tr>\n",
       "    <tr>\n",
       "      <th>C00225342</th>\n",
       "      <th>MCGUIREWOODS LLP</th>\n",
       "      <td>10000.0</td>\n",
       "    </tr>\n",
       "    <tr>\n",
       "      <th>C00219642</th>\n",
       "      <th>ENTERPRISE HOLDINGS, INC. POLITICAL ACTION COMMITTEE</th>\n",
       "      <td>10000.0</td>\n",
       "    </tr>\n",
       "  </tbody>\n",
       "</table>\n",
       "</div>"
      ],
      "text/plain": [
       "                                                              TRANSACTION_AMT\n",
       "REC_ID    REC_NAME                                                           \n",
       "C00586537 HILLARY VICTORY FUND                                    316400000.0\n",
       "          HILLARY VICTORY FUND - UNITEMIZED                        19001530.0\n",
       "C00619411 HILLARY ACTION FUND                                       5120000.0\n",
       "C00002089 COMMUNICATIONS WORKERS OF AMERICA-COPE POLITICA...          44816.0\n",
       "C00197863 CABLEVISION SYSTEMS CORPORATION POLITICAL ACTIO...          15000.0\n",
       "C00011262 BROTHERHOOD OF RAILROAD SIGNALMEN POLITICAL ACT...          11000.0\n",
       "C00139659 JOINT ACTION COMMITTEE FOR POLITICAL AFFAIRS                10461.0\n",
       "C00624171 AMERICAN MUSLIM WOMEN (AMW)                                 10400.0\n",
       "C00410126 AMERICANS FOR THE ARTS ACTION FUND PAC                      10400.0\n",
       "C00331694 AMERICA WORKS PAC                                           10000.0\n",
       "C00065219 WINE INSTITUTE PAC                                          10000.0\n",
       "C00400333 INTERDIGITAL, INC., PAC                                     10000.0\n",
       "C00403592 NARRAGANSETT BAY PAC                                        10000.0\n",
       "C00342048 PAC FOR A CHANGE                                            10000.0\n",
       "C00409730 NEW DEMOCRAT COALITION PAC                                  10000.0\n",
       "C00392738 HOLDING ONTO OREGON'S PRIORITIES                            10000.0\n",
       "C00344325 POLITICAL ACTION COMMITTEE OF THE INTERNATIONAL...          10000.0\n",
       "C00385534 LEGPAC                                                      10000.0\n",
       "C00225342 MCGUIREWOODS LLP                                            10000.0\n",
       "C00219642 ENTERPRISE HOLDINGS, INC. POLITICAL ACTION COMM...          10000.0"
      ]
     },
     "execution_count": 88,
     "metadata": {},
     "output_type": "execute_result"
    }
   ],
   "source": [
    "top_recipients[top_recipients['CAMPAIGN']==hillary_c[0]].groupby(['REC_ID','REC_NAME'])\\\n",
    "                                                        .sum('TRANSACTION_AMT')\\\n",
    "                                                        .sort_values(by='TRANSACTION_AMT',ascending=False)\\\n",
    "                                                        .head(20)"
   ]
  },
  {
   "cell_type": "markdown",
   "metadata": {
    "slideshow": {
     "slide_type": "slide"
    }
   },
   "source": [
    "## Exercise 5\n",
    "* This exercise is divided into two main parts, getting the geographical distribution of the two campaigns' expenditures, and getting the geographical distribution of the two campaigns' expenditures per voter. \n",
    "* For the first part, all expenditures, including operating ones, will be examined.\n",
    "* For the second part, all expenditures made by people (i.e. individuals or candidates), as only those can vote.   "
   ]
  },
  {
   "cell_type": "markdown",
   "metadata": {
    "slideshow": {
     "slide_type": "slide"
    }
   },
   "source": [
    "* The DataFrames that will be used are :\n",
    "    * `total_ex_receiver`, which was defined in Exercise 3 and contains all operating expeditures and expenditures made to the two campaigns. It will be used only for the first part.`\n",
    "    * `ex_receiver`, which was defined in Exercise 3 and contains all expenditures made to the two campaigns, excluding the operating ones. It will be used only for the second part.\n",
    "    * `ex_maker`, which was defined in Exercise 3 and contains all expenditures made by the two campaigns. It will be used only for the first part."
   ]
  },
  {
   "cell_type": "code",
   "execution_count": 89,
   "metadata": {
    "slideshow": {
     "slide_type": "slide"
    }
   },
   "outputs": [
    {
     "name": "stdout",
     "output_type": "stream",
     "text": [
      "TOTAL_EX_RECEIVER\n",
      " Index(['CMTE_ID', 'TRANSACTION_TP', 'NAME', 'STATE', 'TRANSACTION_DT',\n",
      "       'TRANSACTION_AMT', 'OTHER_ID', 'TRAN_ID', 'FILE_NUM', 'SUB_ID'],\n",
      "      dtype='object') \n",
      "\n",
      " EX_RECEIVER\n",
      " Index(['CMTE_ID', 'TRANSACTION_TP', 'NAME', 'STATE', 'TRANSACTION_DT',\n",
      "       'TRANSACTION_AMT', 'OTHER_ID', 'TRAN_ID', 'FILE_NUM', 'SUB_ID'],\n",
      "      dtype='object') \n",
      "\n",
      " EX_MAKER\n",
      " Index(['CMTE_ID', 'TRANSACTION_TP', 'NAME', 'STATE', 'TRANSACTION_DT',\n",
      "       'TRANSACTION_AMT', 'OTHER_ID', 'TRAN_ID', 'FILE_NUM', 'SUB_ID'],\n",
      "      dtype='object') \n",
      "\n",
      "\n"
     ]
    }
   ],
   "source": [
    "print('TOTAL_EX_RECEIVER\\n',total_ex_receiver.columns,'\\n\\n',\n",
    "      'EX_RECEIVER\\n',ex_receiver.columns,'\\n\\n',\n",
    "      'EX_MAKER\\n',ex_maker.columns,'\\n\\n')"
   ]
  },
  {
   "cell_type": "markdown",
   "metadata": {
    "slideshow": {
     "slide_type": "slide"
    }
   },
   "source": [
    "* `total_ex_receiver` and `ex_receiver` have same columns by name and meaning (eg.`CMTE_ID` column is the campaigns' IDs and `NAME`,`OTHER_ID`,`STATE` are information of the recipient for both DataFrames)\n",
    "* `ex_maker` has the same columns as the other two DataFrames but only by name. The meaning of `CMTE_ID`,`OTHER_ID`,`NAME`,`STATE` are reverted (i.e. `CMTE_ID` column is the recipients' IDs while `NAME`,`OTHER_ID`,`STATE` are the campaigns' information).\n",
    "<br><br>\n",
    "* For the examination of the geographical distribution only the campaigns' IDs and each recipient's state will be needed, so all other information will be ignored."
   ]
  },
  {
   "cell_type": "code",
   "execution_count": 90,
   "metadata": {
    "slideshow": {
     "slide_type": "fragment"
    }
   },
   "outputs": [
    {
     "name": "stdout",
     "output_type": "stream",
     "text": [
      "TOTAL_EX_RECEIVER\n",
      " Index(['CMTE_ID', 'STATE', 'TRANSACTION_AMT'], dtype='object') \n",
      " (1127831, 3) \n",
      "\n",
      " EX_RECEIVER\n",
      " Index(['CMTE_ID', 'STATE', 'TRANSACTION_AMT', 'OTHER_ID'], dtype='object') \n",
      " (955967, 4) \n",
      "\n",
      " EX_MAKER\n",
      " Index(['CMTE_ID', 'TRANSACTION_AMT', 'OTHER_ID'], dtype='object') \n",
      " (999, 3) \n",
      "\n",
      "\n"
     ]
    }
   ],
   "source": [
    "# drop unneeded columns from total_ex_receiver, ex_receiver\n",
    "total_ex_receiver = total_ex_receiver.drop(['TRANSACTION_TP','NAME','TRANSACTION_DT',\n",
    "                                            'OTHER_ID','TRAN_ID','FILE_NUM','SUB_ID'],axis=1)\n",
    "\n",
    "# drop unneeded columns from ex_receiver\n",
    "ex_receiver = ex_receiver.drop(['TRANSACTION_TP', 'NAME', 'TRANSACTION_DT',\n",
    "                                 'TRAN_ID', 'FILE_NUM', 'SUB_ID'],axis=1)\n",
    "\n",
    "# drop unneeded columns from ex_maker (except recipients' IDs (CMTE_ID))\n",
    "ex_maker = ex_maker.drop(['TRANSACTION_TP', 'NAME', 'STATE', 'TRANSACTION_DT',\n",
    "       'TRAN_ID', 'FILE_NUM', 'SUB_ID'],axis=1)\n",
    "\n",
    "print('TOTAL_EX_RECEIVER\\n',total_ex_receiver.columns,'\\n',total_ex_receiver.shape,'\\n\\n',\n",
    "      'EX_RECEIVER\\n',ex_receiver.columns,'\\n',ex_receiver.shape,'\\n\\n',\n",
    "      'EX_MAKER\\n',ex_maker.columns,'\\n',ex_maker.shape,'\\n\\n',)"
   ]
  },
  {
   "cell_type": "markdown",
   "metadata": {
    "slideshow": {
     "slide_type": "slide"
    }
   },
   "source": [
    "* The reason we need recipients' IDs in `ex_receiver` is that it's the only way to identify whether the recipient is an individual, a candidate or another entity. Specifically, when the recipient is a person/voter, `OTHER_ID` column is either Null or has a candidate's ID."
   ]
  },
  {
   "cell_type": "code",
   "execution_count": 91,
   "metadata": {
    "slideshow": {
     "slide_type": "fragment"
    }
   },
   "outputs": [],
   "source": [
    "# recipients who are not persons\n",
    "notVoters = pd.merge(committees,\n",
    "                     ex_receiver,\n",
    "                     left_on='CMTE_ID',\n",
    "                     right_on='OTHER_ID',\n",
    "                     how='inner')\n",
    "\n",
    "# keep only persons\n",
    "ex_receiver = ex_receiver[~ex_receiver['OTHER_ID'].isin(notVoters['OTHER_ID'])]"
   ]
  },
  {
   "cell_type": "markdown",
   "metadata": {
    "slideshow": {
     "slide_type": "fragment"
    }
   },
   "source": [
    "* The reason why we need recipients' IDs in `ex_maker` is that it's the only connection we have to find all recipients' states. To do that, we execute an inner join with the `committees` DataFrame (defined in Exercise 1 and contains all committee information)"
   ]
  },
  {
   "cell_type": "code",
   "execution_count": 92,
   "metadata": {
    "slideshow": {
     "slide_type": "fragment"
    }
   },
   "outputs": [
    {
     "data": {
      "text/html": [
       "<div>\n",
       "<style scoped>\n",
       "    .dataframe tbody tr th:only-of-type {\n",
       "        vertical-align: middle;\n",
       "    }\n",
       "\n",
       "    .dataframe tbody tr th {\n",
       "        vertical-align: top;\n",
       "    }\n",
       "\n",
       "    .dataframe thead th {\n",
       "        text-align: right;\n",
       "    }\n",
       "</style>\n",
       "<table border=\"1\" class=\"dataframe\">\n",
       "  <thead>\n",
       "    <tr style=\"text-align: right;\">\n",
       "      <th></th>\n",
       "      <th>CMTE_ID</th>\n",
       "      <th>TRANSACTION_AMT</th>\n",
       "      <th>OTHER_ID</th>\n",
       "      <th>CMTE_ST</th>\n",
       "    </tr>\n",
       "  </thead>\n",
       "  <tbody>\n",
       "    <tr>\n",
       "      <th>303</th>\n",
       "      <td>C00252940</td>\n",
       "      <td>56.0</td>\n",
       "      <td>C00575795</td>\n",
       "      <td>DC</td>\n",
       "    </tr>\n",
       "    <tr>\n",
       "      <th>336</th>\n",
       "      <td>C00003111</td>\n",
       "      <td>1500.0</td>\n",
       "      <td>C00580100</td>\n",
       "      <td>ME</td>\n",
       "    </tr>\n",
       "    <tr>\n",
       "      <th>131</th>\n",
       "      <td>C00490904</td>\n",
       "      <td>2700.0</td>\n",
       "      <td>C00575795</td>\n",
       "      <td>PA</td>\n",
       "    </tr>\n",
       "    <tr>\n",
       "      <th>335</th>\n",
       "      <td>C00003111</td>\n",
       "      <td>1500.0</td>\n",
       "      <td>C00580100</td>\n",
       "      <td>ME</td>\n",
       "    </tr>\n",
       "    <tr>\n",
       "      <th>389</th>\n",
       "      <td>C00586537</td>\n",
       "      <td>4500000.0</td>\n",
       "      <td>C00575795</td>\n",
       "      <td>NY</td>\n",
       "    </tr>\n",
       "  </tbody>\n",
       "</table>\n",
       "</div>"
      ],
      "text/plain": [
       "       CMTE_ID  TRANSACTION_AMT   OTHER_ID CMTE_ST\n",
       "303  C00252940             56.0  C00575795      DC\n",
       "336  C00003111           1500.0  C00580100      ME\n",
       "131  C00490904           2700.0  C00575795      PA\n",
       "335  C00003111           1500.0  C00580100      ME\n",
       "389  C00586537        4500000.0  C00575795      NY"
      ]
     },
     "execution_count": 92,
     "metadata": {},
     "output_type": "execute_result"
    }
   ],
   "source": [
    "ex_maker = pd.merge(ex_maker,\n",
    "             committees[['CMTE_ID','CMTE_ST']],\n",
    "             on='CMTE_ID',\n",
    "             how='inner')\n",
    "ex_maker.sample(5)"
   ]
  },
  {
   "cell_type": "markdown",
   "metadata": {
    "slideshow": {
     "slide_type": "fragment"
    }
   },
   "source": [
    "* `CMTE_ID` of the `ex_maker` DataFrame is no longer needed so it is dropped."
   ]
  },
  {
   "cell_type": "code",
   "execution_count": 93,
   "metadata": {
    "slideshow": {
     "slide_type": "fragment"
    }
   },
   "outputs": [
    {
     "data": {
      "text/plain": [
       "Index(['TRANSACTION_AMT', 'OTHER_ID', 'CMTE_ST'], dtype='object')"
      ]
     },
     "execution_count": 93,
     "metadata": {},
     "output_type": "execute_result"
    }
   ],
   "source": [
    "ex_maker = ex_maker.drop('CMTE_ID', axis=1)\n",
    "ex_maker.columns"
   ]
  },
  {
   "cell_type": "markdown",
   "metadata": {
    "slideshow": {
     "slide_type": "slide"
    }
   },
   "source": [
    "* To make things easier, columns `OTHER_ID` and `CMTE_ST` will be renamed so as to match with the columns' names of the other two DataFrames."
   ]
  },
  {
   "cell_type": "code",
   "execution_count": 94,
   "metadata": {
    "slideshow": {
     "slide_type": "fragment"
    }
   },
   "outputs": [],
   "source": [
    "ex_maker = ex_maker.rename(columns={'OTHER_ID':'CMTE_ID',\n",
    "                      'CMTE_ST':'STATE'}, inplace=False)"
   ]
  },
  {
   "cell_type": "markdown",
   "metadata": {
    "slideshow": {
     "slide_type": "slide"
    }
   },
   "source": [
    "* As for the first part of the exercise, only `total_ex_receiver` and `ex_maker` DataFrames are needed.\n",
    "* As for the second part, only `ex_receiver` DataFrame is needed.\n",
    "* For each of the parts, we combine the data into one DataFrame."
   ]
  },
  {
   "cell_type": "code",
   "execution_count": 95,
   "metadata": {
    "slideshow": {
     "slide_type": "fragment"
    }
   },
   "outputs": [
    {
     "name": "stdout",
     "output_type": "stream",
     "text": [
      "(1128830, 3) \n",
      " (955691, 4)\n"
     ]
    }
   ],
   "source": [
    "part_1 = total_ex_receiver.append(ex_maker,ignore_index=True)\n",
    "\n",
    "part_2 = ex_receiver\n",
    "\n",
    "print(part_1.shape,'\\n',part_2.shape)"
   ]
  },
  {
   "cell_type": "markdown",
   "metadata": {
    "slideshow": {
     "slide_type": "slide"
    }
   },
   "source": [
    "* The entries in column `STATE` are abbreviations of the states, plus abbreviations of US territories. So isolate the states and have full names of the states we use a [table](https://www.downloadexcelfiles.com/sites/default/files/docs/list-states-us-36j.csv) which has the 50 states with their full names and their abbreviations."
   ]
  },
  {
   "cell_type": "code",
   "execution_count": 96,
   "metadata": {
    "scrolled": true,
    "slideshow": {
     "slide_type": "fragment"
    }
   },
   "outputs": [
    {
     "data": {
      "text/html": [
       "<div>\n",
       "<style scoped>\n",
       "    .dataframe tbody tr th:only-of-type {\n",
       "        vertical-align: middle;\n",
       "    }\n",
       "\n",
       "    .dataframe tbody tr th {\n",
       "        vertical-align: top;\n",
       "    }\n",
       "\n",
       "    .dataframe thead th {\n",
       "        text-align: right;\n",
       "    }\n",
       "</style>\n",
       "<table border=\"1\" class=\"dataframe\">\n",
       "  <thead>\n",
       "    <tr style=\"text-align: right;\">\n",
       "      <th></th>\n",
       "      <th>State</th>\n",
       "    </tr>\n",
       "    <tr>\n",
       "      <th>Abbr.</th>\n",
       "      <th></th>\n",
       "    </tr>\n",
       "  </thead>\n",
       "  <tbody>\n",
       "    <tr>\n",
       "      <th>AL</th>\n",
       "      <td>Alabama</td>\n",
       "    </tr>\n",
       "    <tr>\n",
       "      <th>AK</th>\n",
       "      <td>Alaska</td>\n",
       "    </tr>\n",
       "    <tr>\n",
       "      <th>AZ</th>\n",
       "      <td>Arizona</td>\n",
       "    </tr>\n",
       "    <tr>\n",
       "      <th>AR</th>\n",
       "      <td>Arkansas</td>\n",
       "    </tr>\n",
       "    <tr>\n",
       "      <th>CA</th>\n",
       "      <td>California</td>\n",
       "    </tr>\n",
       "    <tr>\n",
       "      <th>CO</th>\n",
       "      <td>Colorado</td>\n",
       "    </tr>\n",
       "    <tr>\n",
       "      <th>CT</th>\n",
       "      <td>Connecticut</td>\n",
       "    </tr>\n",
       "    <tr>\n",
       "      <th>DE</th>\n",
       "      <td>Delaware</td>\n",
       "    </tr>\n",
       "    <tr>\n",
       "      <th>FL</th>\n",
       "      <td>Florida</td>\n",
       "    </tr>\n",
       "    <tr>\n",
       "      <th>GA</th>\n",
       "      <td>Georgia</td>\n",
       "    </tr>\n",
       "    <tr>\n",
       "      <th>HI</th>\n",
       "      <td>Hawaii</td>\n",
       "    </tr>\n",
       "    <tr>\n",
       "      <th>ID</th>\n",
       "      <td>Idaho</td>\n",
       "    </tr>\n",
       "    <tr>\n",
       "      <th>IL</th>\n",
       "      <td>Illinois</td>\n",
       "    </tr>\n",
       "    <tr>\n",
       "      <th>IN</th>\n",
       "      <td>Indiana</td>\n",
       "    </tr>\n",
       "    <tr>\n",
       "      <th>IA</th>\n",
       "      <td>Iowa</td>\n",
       "    </tr>\n",
       "    <tr>\n",
       "      <th>KS</th>\n",
       "      <td>Kansas</td>\n",
       "    </tr>\n",
       "    <tr>\n",
       "      <th>KY</th>\n",
       "      <td>Kentucky</td>\n",
       "    </tr>\n",
       "    <tr>\n",
       "      <th>LA</th>\n",
       "      <td>Louisiana</td>\n",
       "    </tr>\n",
       "    <tr>\n",
       "      <th>ME</th>\n",
       "      <td>Maine</td>\n",
       "    </tr>\n",
       "    <tr>\n",
       "      <th>MD</th>\n",
       "      <td>Maryland</td>\n",
       "    </tr>\n",
       "    <tr>\n",
       "      <th>MA</th>\n",
       "      <td>Massachusetts</td>\n",
       "    </tr>\n",
       "    <tr>\n",
       "      <th>MI</th>\n",
       "      <td>Michigan</td>\n",
       "    </tr>\n",
       "    <tr>\n",
       "      <th>MN</th>\n",
       "      <td>Minnesota</td>\n",
       "    </tr>\n",
       "    <tr>\n",
       "      <th>MS</th>\n",
       "      <td>Mississippi</td>\n",
       "    </tr>\n",
       "    <tr>\n",
       "      <th>MO</th>\n",
       "      <td>Missouri</td>\n",
       "    </tr>\n",
       "    <tr>\n",
       "      <th>MT</th>\n",
       "      <td>Montana</td>\n",
       "    </tr>\n",
       "    <tr>\n",
       "      <th>NE</th>\n",
       "      <td>Nebraska</td>\n",
       "    </tr>\n",
       "    <tr>\n",
       "      <th>NV</th>\n",
       "      <td>Nevada</td>\n",
       "    </tr>\n",
       "    <tr>\n",
       "      <th>NH</th>\n",
       "      <td>New Hampshire</td>\n",
       "    </tr>\n",
       "    <tr>\n",
       "      <th>NJ</th>\n",
       "      <td>New Jersey</td>\n",
       "    </tr>\n",
       "    <tr>\n",
       "      <th>NM</th>\n",
       "      <td>New Mexico</td>\n",
       "    </tr>\n",
       "    <tr>\n",
       "      <th>NY</th>\n",
       "      <td>New York</td>\n",
       "    </tr>\n",
       "    <tr>\n",
       "      <th>NC</th>\n",
       "      <td>North Carolina</td>\n",
       "    </tr>\n",
       "    <tr>\n",
       "      <th>ND</th>\n",
       "      <td>North Dakota</td>\n",
       "    </tr>\n",
       "    <tr>\n",
       "      <th>OH</th>\n",
       "      <td>Ohio</td>\n",
       "    </tr>\n",
       "    <tr>\n",
       "      <th>OK</th>\n",
       "      <td>Oklahoma</td>\n",
       "    </tr>\n",
       "    <tr>\n",
       "      <th>OR</th>\n",
       "      <td>Oregon</td>\n",
       "    </tr>\n",
       "    <tr>\n",
       "      <th>PA</th>\n",
       "      <td>Pennsylvania</td>\n",
       "    </tr>\n",
       "    <tr>\n",
       "      <th>RI</th>\n",
       "      <td>Rhode Island</td>\n",
       "    </tr>\n",
       "    <tr>\n",
       "      <th>SC</th>\n",
       "      <td>South Carolina</td>\n",
       "    </tr>\n",
       "    <tr>\n",
       "      <th>SD</th>\n",
       "      <td>South Dakota</td>\n",
       "    </tr>\n",
       "    <tr>\n",
       "      <th>TN</th>\n",
       "      <td>Tennessee</td>\n",
       "    </tr>\n",
       "    <tr>\n",
       "      <th>TX</th>\n",
       "      <td>Texas</td>\n",
       "    </tr>\n",
       "    <tr>\n",
       "      <th>UT</th>\n",
       "      <td>Utah</td>\n",
       "    </tr>\n",
       "    <tr>\n",
       "      <th>VT</th>\n",
       "      <td>Vermont</td>\n",
       "    </tr>\n",
       "    <tr>\n",
       "      <th>VA</th>\n",
       "      <td>Virginia</td>\n",
       "    </tr>\n",
       "    <tr>\n",
       "      <th>WA</th>\n",
       "      <td>Washington</td>\n",
       "    </tr>\n",
       "    <tr>\n",
       "      <th>WV</th>\n",
       "      <td>West Virginia</td>\n",
       "    </tr>\n",
       "    <tr>\n",
       "      <th>WI</th>\n",
       "      <td>Wisconsin</td>\n",
       "    </tr>\n",
       "    <tr>\n",
       "      <th>WY</th>\n",
       "      <td>Wyoming</td>\n",
       "    </tr>\n",
       "  </tbody>\n",
       "</table>\n",
       "</div>"
      ],
      "text/plain": [
       "                State\n",
       "Abbr.                \n",
       "AL            Alabama\n",
       "AK             Alaska\n",
       "AZ            Arizona\n",
       "AR           Arkansas\n",
       "CA         California\n",
       "CO           Colorado\n",
       "CT        Connecticut\n",
       "DE           Delaware\n",
       "FL            Florida\n",
       "GA            Georgia\n",
       "HI             Hawaii\n",
       "ID              Idaho\n",
       "IL           Illinois\n",
       "IN            Indiana\n",
       "IA               Iowa\n",
       "KS             Kansas\n",
       "KY           Kentucky\n",
       "LA          Louisiana\n",
       "ME              Maine\n",
       "MD           Maryland\n",
       "MA      Massachusetts\n",
       "MI           Michigan\n",
       "MN          Minnesota\n",
       "MS        Mississippi\n",
       "MO           Missouri\n",
       "MT            Montana\n",
       "NE           Nebraska\n",
       "NV             Nevada\n",
       "NH      New Hampshire\n",
       "NJ         New Jersey\n",
       "NM         New Mexico\n",
       "NY           New York\n",
       "NC     North Carolina\n",
       "ND       North Dakota\n",
       "OH               Ohio\n",
       "OK           Oklahoma\n",
       "OR             Oregon\n",
       "PA       Pennsylvania\n",
       "RI       Rhode Island\n",
       "SC     South Carolina\n",
       "SD       South Dakota\n",
       "TN          Tennessee\n",
       "TX              Texas\n",
       "UT               Utah\n",
       "VT            Vermont\n",
       "VA           Virginia\n",
       "WA         Washington\n",
       "WV      West Virginia\n",
       "WI          Wisconsin\n",
       "WY            Wyoming"
      ]
     },
     "execution_count": 96,
     "metadata": {},
     "output_type": "execute_result"
    }
   ],
   "source": [
    "states = pd.read_csv('https://www.downloadexcelfiles.com/sites/default/files/docs/list-states-us-36j.csv',\n",
    "                      sep=\",\",\n",
    "                      index_col=1,\n",
    "                      skiprows=[2,53,54],\n",
    "                      usecols=[1,2],\n",
    "                      header=1)\n",
    "states"
   ]
  },
  {
   "cell_type": "markdown",
   "metadata": {
    "slideshow": {
     "slide_type": "fragment"
    }
   },
   "source": [
    "* To add to our data the full names of the states and to isolate the states from the territories, we execute an inner join."
   ]
  },
  {
   "cell_type": "code",
   "execution_count": 97,
   "metadata": {
    "slideshow": {
     "slide_type": "fragment"
    }
   },
   "outputs": [
    {
     "name": "stdout",
     "output_type": "stream",
     "text": [
      "['PA' 'NY' 'IL' 'CA' 'VA' 'NJ' 'IA' 'OR' 'TX' 'MN' 'CT' 'MD' 'FL' 'WA'\n",
      " 'CO' 'MA' 'NV' 'KY' 'SD' 'GA' 'AZ' 'NC' 'TN' 'AL' 'KS' 'WV' 'MI' 'OH'\n",
      " 'WI' 'NH' 'UT' 'OK' 'WY' 'NM' 'SC' 'DE' 'IN' 'MS' 'ME' 'MO' 'HI' 'NE'\n",
      " 'RI' 'LA' 'AR' 'VT' 'MT' 'AK' 'ID' 'ND'] \n",
      "\n",
      " ['NY' 'IL' 'CA' 'VA' 'NJ' 'IA' 'OR' 'TX' 'MN' 'CT' 'MD' 'FL' 'WA' 'CO'\n",
      " 'MA' 'NV' 'KY' 'SD' 'GA' 'AZ' 'NC' 'TN' 'AL' 'KS' 'WV' 'MI' 'OH' 'WI'\n",
      " 'NH' 'UT' 'PA' 'OK' 'WY' 'NM' 'SC' 'DE' 'IN' 'MS' 'ME' 'MO' 'HI' 'NE'\n",
      " 'RI' 'LA' 'AR' 'VT' 'MT' 'AK' 'ID' 'ND']\n"
     ]
    }
   ],
   "source": [
    "part_1 = pd.merge(part_1,\n",
    "             states,\n",
    "             left_on='STATE',\n",
    "             right_on='Abbr.',\n",
    "             how='inner')\n",
    "\n",
    "part_2 = pd.merge(part_2,\n",
    "             states,\n",
    "             left_on='STATE',\n",
    "             right_on='Abbr.',\n",
    "             how='inner')\n",
    "\n",
    "print(part_1['STATE'].unique(),'\\n\\n',\n",
    "      part_2['STATE'].unique())"
   ]
  },
  {
   "cell_type": "markdown",
   "metadata": {
    "slideshow": {
     "slide_type": "slide"
    }
   },
   "source": [
    "* To find the expenditures per state, we need to have only one entry per state.\n",
    "* `total` DataFrame contains all expenditures of the two campaigns per state, while `trump_hillary` contains all expenditures per state of each campaign separately.\n",
    "* Later, these DataFrames will be used to create bar-graphs using Pandas's [plot](https://pandas.pydata.org/pandas-docs/stable/reference/api/pandas.DataFrame.plot.html) method method"
   ]
  },
  {
   "cell_type": "code",
   "execution_count": 98,
   "metadata": {
    "slideshow": {
     "slide_type": "fragment"
    }
   },
   "outputs": [],
   "source": [
    "part_1 = part_1.rename(columns={'TRANSACTION_AMT':'Expenditures'},inplace=False)\n",
    "\n",
    "total = part_1.pivot_table(index='State',\n",
    "                           values='Expenditures',\n",
    "                           aggfunc='sum')\n",
    "\n",
    "trump_hillary = part_1.pivot_table(index='State',\n",
    "                                   columns=['CMTE_ID'],\n",
    "                                   values='Expenditures',\n",
    "                                   aggfunc='sum')"
   ]
  },
  {
   "cell_type": "markdown",
   "metadata": {
    "slideshow": {
     "slide_type": "slide"
    }
   },
   "source": [
    "* **The geographical distribution, at a state level, of both of the two camapigns' expenditures** is shown below."
   ]
  },
  {
   "cell_type": "code",
   "execution_count": 99,
   "metadata": {
    "slideshow": {
     "slide_type": "fragment"
    }
   },
   "outputs": [
    {
     "data": {
      "image/png": "[encoded data removed]",
      "text/plain": [
       "<Figure size 1080x720 with 1 Axes>"
      ]
     },
     "metadata": {
      "needs_background": "light"
     },
     "output_type": "display_data"
    }
   ],
   "source": [
    "g_both = total.plot(xlabel='State', \n",
    "                    ylabel='Expenditures(in 100 millions)',\n",
    "                    title=\"Geographical distribution, at a state level, of the expenditures of D.Trump's and H.Clinton's campaigns\",\n",
    "                    kind='bar', \n",
    "                    color=('orange'), \n",
    "                    figsize=(15, 10))"
   ]
  },
  {
   "cell_type": "markdown",
   "metadata": {
    "slideshow": {
     "slide_type": "slide"
    }
   },
   "source": [
    "* **The geographical distribution, at a state level, of D.Trump's and H.Clinton's campaigns' expenditures separately** is shown below."
   ]
  },
  {
   "cell_type": "code",
   "execution_count": 100,
   "metadata": {
    "slideshow": {
     "slide_type": "fragment"
    }
   },
   "outputs": [
    {
     "data": {
      "image/png": "[encoded data removed]",
      "text/plain": [
       "<Figure size 1080x720 with 1 Axes>"
      ]
     },
     "metadata": {
      "needs_background": "light"
     },
     "output_type": "display_data"
    }
   ],
   "source": [
    "comparison = trump_hillary.plot(xlabel='State', \n",
    "                                ylabel='Expenditures(in 100 millions)',\n",
    "                                title=\"Geographical distribution, at a state level, of the expenditures of D.Trump's and H.Clinton's campaigns as a comparison \\nC00575795: H.Clinton's campaign\\nC00580100: D.Trump's campaign\",\n",
    "                                kind='bar', \n",
    "                                color=('blue','red'), \n",
    "                                figsize=(15, 10))"
   ]
  },
  {
   "cell_type": "markdown",
   "metadata": {
    "slideshow": {
     "slide_type": "slide"
    }
   },
   "source": [
    "* To find the expenditures per voter per state, we need to know the number of registered voters by state. This information can be found at https://www2.census.gov/programs-surveys/cps/tables/p20/580/table04a.xlsx \n",
    "* As the information is stored in a xlsx file, Pandas' [read_excel](https://pandas.pydata.org/pandas-docs/stable/reference/api/pandas.read_excel.html) will be used to convert the data into a DataFrame.\n",
    "* The numbers stored in the xlsx file are in thousands, so it's neccessary to multiply them by 1000.\n",
    "* Moreover, to match the entries of `State` column with `part_2`'s entries of the same column, we capitalize each word's 1st letter using Pandas' s [str.title](https://pandas.pydata.org/pandas-docs/stable/reference/api/pandas.Series.str.title.html)"
   ]
  },
  {
   "cell_type": "code",
   "execution_count": 101,
   "metadata": {
    "slideshow": {
     "slide_type": "fragment"
    }
   },
   "outputs": [
    {
     "data": {
      "text/html": [
       "<div>\n",
       "<style scoped>\n",
       "    .dataframe tbody tr th:only-of-type {\n",
       "        vertical-align: middle;\n",
       "    }\n",
       "\n",
       "    .dataframe tbody tr th {\n",
       "        vertical-align: top;\n",
       "    }\n",
       "\n",
       "    .dataframe thead th {\n",
       "        text-align: right;\n",
       "    }\n",
       "</style>\n",
       "<table border=\"1\" class=\"dataframe\">\n",
       "  <thead>\n",
       "    <tr style=\"text-align: right;\">\n",
       "      <th></th>\n",
       "      <th>State</th>\n",
       "      <th>VotersNum</th>\n",
       "    </tr>\n",
       "  </thead>\n",
       "  <tbody>\n",
       "    <tr>\n",
       "      <th>30</th>\n",
       "      <td>New Jersey</td>\n",
       "      <td>3665000</td>\n",
       "    </tr>\n",
       "    <tr>\n",
       "      <th>17</th>\n",
       "      <td>Kentucky</td>\n",
       "      <td>1850000</td>\n",
       "    </tr>\n",
       "    <tr>\n",
       "      <th>47</th>\n",
       "      <td>Washington</td>\n",
       "      <td>3382000</td>\n",
       "    </tr>\n",
       "    <tr>\n",
       "      <th>29</th>\n",
       "      <td>New Hampshire</td>\n",
       "      <td>698000</td>\n",
       "    </tr>\n",
       "    <tr>\n",
       "      <th>22</th>\n",
       "      <td>Michigan</td>\n",
       "      <td>4713000</td>\n",
       "    </tr>\n",
       "  </tbody>\n",
       "</table>\n",
       "</div>"
      ],
      "text/plain": [
       "            State  VotersNum\n",
       "30     New Jersey    3665000\n",
       "17       Kentucky    1850000\n",
       "47     Washington    3382000\n",
       "29  New Hampshire     698000\n",
       "22       Michigan    4713000"
      ]
     },
     "execution_count": 101,
     "metadata": {},
     "output_type": "execute_result"
    }
   ],
   "source": [
    "voters = pd.read_excel('https://www2.census.gov/programs-surveys/cps/tables/p20/580/table04a.xlsx',\n",
    "                     index_col=False,\n",
    "                     names=['State','VotersNum'],\n",
    "                     usecols=[0,8],\n",
    "                     skiprows=[0,1,2,3,4,57,58,59,60,61,62,63],\n",
    "                     dtype={'State':np.str,'VotersNum':np.int})\n",
    "\n",
    "# multiply all entries of 'VotersNum' by 1000\n",
    "voters['VotersNum'] *= 1000\n",
    "\n",
    "# capitalize each word's 1st letter in entries of 'State'\n",
    "voters['State'] = (voters['State']).str.title()\n",
    "\n",
    "voters.sample(5)"
   ]
  },
  {
   "cell_type": "markdown",
   "metadata": {
    "slideshow": {
     "slide_type": "slide"
    }
   },
   "source": [
    "* To find expenditures per voter we have to make the division expendituresPerState/VotersNum and store the result in a new column.\n",
    "* First, we must find all expenditures by state\n",
    "    * `exPerState` DataFrame contains all expenditures by state for both campaigns \n",
    "    * `exPerStateCam` DataFrame contains all expenditures by state for each campaign separately"
   ]
  },
  {
   "cell_type": "code",
   "execution_count": 102,
   "metadata": {
    "slideshow": {
     "slide_type": "fragment"
    }
   },
   "outputs": [
    {
     "data": {
      "text/html": [
       "<div>\n",
       "<style scoped>\n",
       "    .dataframe tbody tr th:only-of-type {\n",
       "        vertical-align: middle;\n",
       "    }\n",
       "\n",
       "    .dataframe tbody tr th {\n",
       "        vertical-align: top;\n",
       "    }\n",
       "\n",
       "    .dataframe thead th {\n",
       "        text-align: right;\n",
       "    }\n",
       "</style>\n",
       "<table border=\"1\" class=\"dataframe\">\n",
       "  <thead>\n",
       "    <tr style=\"text-align: right;\">\n",
       "      <th></th>\n",
       "      <th>State</th>\n",
       "      <th>Expenditures/State</th>\n",
       "    </tr>\n",
       "  </thead>\n",
       "  <tbody>\n",
       "    <tr>\n",
       "      <th>0</th>\n",
       "      <td>Alabama</td>\n",
       "      <td>1341836.0</td>\n",
       "    </tr>\n",
       "    <tr>\n",
       "      <th>1</th>\n",
       "      <td>Alaska</td>\n",
       "      <td>280965.0</td>\n",
       "    </tr>\n",
       "    <tr>\n",
       "      <th>2</th>\n",
       "      <td>Arizona</td>\n",
       "      <td>2525522.0</td>\n",
       "    </tr>\n",
       "  </tbody>\n",
       "</table>\n",
       "</div>"
      ],
      "text/plain": [
       "     State  Expenditures/State\n",
       "0  Alabama           1341836.0\n",
       "1   Alaska            280965.0\n",
       "2  Arizona           2525522.0"
      ]
     },
     "metadata": {},
     "output_type": "display_data"
    },
    {
     "data": {
      "text/html": [
       "<div>\n",
       "<style scoped>\n",
       "    .dataframe tbody tr th:only-of-type {\n",
       "        vertical-align: middle;\n",
       "    }\n",
       "\n",
       "    .dataframe tbody tr th {\n",
       "        vertical-align: top;\n",
       "    }\n",
       "\n",
       "    .dataframe thead th {\n",
       "        text-align: right;\n",
       "    }\n",
       "</style>\n",
       "<table border=\"1\" class=\"dataframe\">\n",
       "  <thead>\n",
       "    <tr style=\"text-align: right;\">\n",
       "      <th></th>\n",
       "      <th>State</th>\n",
       "      <th>CMTE_ID</th>\n",
       "      <th>Expenditures/State</th>\n",
       "    </tr>\n",
       "  </thead>\n",
       "  <tbody>\n",
       "    <tr>\n",
       "      <th>0</th>\n",
       "      <td>Alabama</td>\n",
       "      <td>C00575795</td>\n",
       "      <td>646833.0</td>\n",
       "    </tr>\n",
       "    <tr>\n",
       "      <th>1</th>\n",
       "      <td>Alabama</td>\n",
       "      <td>C00580100</td>\n",
       "      <td>695003.0</td>\n",
       "    </tr>\n",
       "    <tr>\n",
       "      <th>2</th>\n",
       "      <td>Alaska</td>\n",
       "      <td>C00575795</td>\n",
       "      <td>177171.0</td>\n",
       "    </tr>\n",
       "    <tr>\n",
       "      <th>3</th>\n",
       "      <td>Alaska</td>\n",
       "      <td>C00580100</td>\n",
       "      <td>103794.0</td>\n",
       "    </tr>\n",
       "    <tr>\n",
       "      <th>4</th>\n",
       "      <td>Arizona</td>\n",
       "      <td>C00575795</td>\n",
       "      <td>1276068.0</td>\n",
       "    </tr>\n",
       "    <tr>\n",
       "      <th>5</th>\n",
       "      <td>Arizona</td>\n",
       "      <td>C00580100</td>\n",
       "      <td>1249454.0</td>\n",
       "    </tr>\n",
       "  </tbody>\n",
       "</table>\n",
       "</div>"
      ],
      "text/plain": [
       "     State    CMTE_ID  Expenditures/State\n",
       "0  Alabama  C00575795            646833.0\n",
       "1  Alabama  C00580100            695003.0\n",
       "2   Alaska  C00575795            177171.0\n",
       "3   Alaska  C00580100            103794.0\n",
       "4  Arizona  C00575795           1276068.0\n",
       "5  Arizona  C00580100           1249454.0"
      ]
     },
     "metadata": {},
     "output_type": "display_data"
    }
   ],
   "source": [
    "exPerState = (part_2.groupby(['State']).sum('TRANSACTION_AMT')).reset_index()\n",
    "exPerStateCom = (part_2.groupby(['State','CMTE_ID']).sum('TRANSACTION_AMT')).reset_index()\n",
    "\n",
    "exPerState = exPerState.rename(columns={'TRANSACTION_AMT':'Expenditures/State'})\n",
    "exPerStateCom =  exPerStateCom.rename(columns={'TRANSACTION_AMT':'Expenditures/State'})\n",
    "\n",
    "display(exPerState.head(3))\n",
    "display(exPerStateCom.head(6))"
   ]
  },
  {
   "cell_type": "markdown",
   "metadata": {
    "slideshow": {
     "slide_type": "fragment"
    }
   },
   "source": [
    "* Then, we need to execute an inner join of `exPerState` with `voters`, to combine the data we have collected and calculate the expenditures per voter by state.\n",
    "* Same goes for the `exPerStateCom`."
   ]
  },
  {
   "cell_type": "code",
   "execution_count": 103,
   "metadata": {
    "slideshow": {
     "slide_type": "fragment"
    }
   },
   "outputs": [
    {
     "data": {
      "text/html": [
       "<div>\n",
       "<style scoped>\n",
       "    .dataframe tbody tr th:only-of-type {\n",
       "        vertical-align: middle;\n",
       "    }\n",
       "\n",
       "    .dataframe tbody tr th {\n",
       "        vertical-align: top;\n",
       "    }\n",
       "\n",
       "    .dataframe thead th {\n",
       "        text-align: right;\n",
       "    }\n",
       "</style>\n",
       "<table border=\"1\" class=\"dataframe\">\n",
       "  <thead>\n",
       "    <tr style=\"text-align: right;\">\n",
       "      <th></th>\n",
       "      <th>State</th>\n",
       "      <th>Expenditures/Voter</th>\n",
       "    </tr>\n",
       "  </thead>\n",
       "  <tbody>\n",
       "    <tr>\n",
       "      <th>0</th>\n",
       "      <td>Alabama</td>\n",
       "      <td>0.640495</td>\n",
       "    </tr>\n",
       "    <tr>\n",
       "      <th>1</th>\n",
       "      <td>Alaska</td>\n",
       "      <td>0.912224</td>\n",
       "    </tr>\n",
       "    <tr>\n",
       "      <th>2</th>\n",
       "      <td>Arizona</td>\n",
       "      <td>0.912070</td>\n",
       "    </tr>\n",
       "  </tbody>\n",
       "</table>\n",
       "</div>"
      ],
      "text/plain": [
       "     State  Expenditures/Voter\n",
       "0  Alabama            0.640495\n",
       "1   Alaska            0.912224\n",
       "2  Arizona            0.912070"
      ]
     },
     "metadata": {},
     "output_type": "display_data"
    },
    {
     "data": {
      "text/html": [
       "<div>\n",
       "<style scoped>\n",
       "    .dataframe tbody tr th:only-of-type {\n",
       "        vertical-align: middle;\n",
       "    }\n",
       "\n",
       "    .dataframe tbody tr th {\n",
       "        vertical-align: top;\n",
       "    }\n",
       "\n",
       "    .dataframe thead th {\n",
       "        text-align: right;\n",
       "    }\n",
       "</style>\n",
       "<table border=\"1\" class=\"dataframe\">\n",
       "  <thead>\n",
       "    <tr style=\"text-align: right;\">\n",
       "      <th></th>\n",
       "      <th>State</th>\n",
       "      <th>CMTE_ID</th>\n",
       "      <th>Expenditures/State</th>\n",
       "      <th>Expenditures/Voter</th>\n",
       "      <th>VotersNum</th>\n",
       "    </tr>\n",
       "  </thead>\n",
       "  <tbody>\n",
       "    <tr>\n",
       "      <th>0</th>\n",
       "      <td>Alabama</td>\n",
       "      <td>C00575795</td>\n",
       "      <td>646833.0</td>\n",
       "      <td>0.308751</td>\n",
       "      <td>2095000</td>\n",
       "    </tr>\n",
       "    <tr>\n",
       "      <th>1</th>\n",
       "      <td>Alabama</td>\n",
       "      <td>C00580100</td>\n",
       "      <td>695003.0</td>\n",
       "      <td>0.331744</td>\n",
       "      <td>2095000</td>\n",
       "    </tr>\n",
       "    <tr>\n",
       "      <th>2</th>\n",
       "      <td>Alaska</td>\n",
       "      <td>C00575795</td>\n",
       "      <td>177171.0</td>\n",
       "      <td>0.575231</td>\n",
       "      <td>308000</td>\n",
       "    </tr>\n",
       "    <tr>\n",
       "      <th>3</th>\n",
       "      <td>Alaska</td>\n",
       "      <td>C00580100</td>\n",
       "      <td>103794.0</td>\n",
       "      <td>0.336994</td>\n",
       "      <td>308000</td>\n",
       "    </tr>\n",
       "    <tr>\n",
       "      <th>4</th>\n",
       "      <td>Arizona</td>\n",
       "      <td>C00575795</td>\n",
       "      <td>1276068.0</td>\n",
       "      <td>0.460841</td>\n",
       "      <td>2769000</td>\n",
       "    </tr>\n",
       "    <tr>\n",
       "      <th>5</th>\n",
       "      <td>Arizona</td>\n",
       "      <td>C00580100</td>\n",
       "      <td>1249454.0</td>\n",
       "      <td>0.451229</td>\n",
       "      <td>2769000</td>\n",
       "    </tr>\n",
       "  </tbody>\n",
       "</table>\n",
       "</div>"
      ],
      "text/plain": [
       "     State    CMTE_ID  Expenditures/State  Expenditures/Voter  VotersNum\n",
       "0  Alabama  C00575795            646833.0            0.308751    2095000\n",
       "1  Alabama  C00580100            695003.0            0.331744    2095000\n",
       "2   Alaska  C00575795            177171.0            0.575231     308000\n",
       "3   Alaska  C00580100            103794.0            0.336994     308000\n",
       "4  Arizona  C00575795           1276068.0            0.460841    2769000\n",
       "5  Arizona  C00580100           1249454.0            0.451229    2769000"
      ]
     },
     "execution_count": 103,
     "metadata": {},
     "output_type": "execute_result"
    }
   ],
   "source": [
    "exvoter_st = pd.merge(exPerState,\n",
    "                       voters,\n",
    "                       on='State',\n",
    "                       how='inner')\n",
    "exvoter_stcom = pd.merge(exPerStateCom,\n",
    "                         voters,\n",
    "                         on='State',\n",
    "                         how='inner')\n",
    "\n",
    "# calculate expenditures/voter by state\n",
    "division_st = exvoter_st['Expenditures/State']/exvoter_st['VotersNum']\n",
    "# calculate expenditures/voter by state for each campaign separetely\n",
    "division_com = exvoter_stcom['Expenditures/State']/exvoter_stcom['VotersNum']\n",
    "\n",
    "# insert data in right DataFrame\n",
    "exvoter_st.insert(3,'Expenditures/Voter',division_st,allow_duplicates=True)\n",
    "exvoter_stcom.insert(3,'Expenditures/Voter',division_com,allow_duplicates=True)\n",
    "\n",
    "# VotersNum and Expenditures/State are no longer needed\n",
    "exvoter_st = exvoter_st.drop(['Expenditures/State','VotersNum'],axis=1)\n",
    "\n",
    "display(exvoter_st.head(3))\n",
    "exvoter_stcom.head(6)"
   ]
  },
  {
   "cell_type": "markdown",
   "metadata": {
    "slideshow": {
     "slide_type": "slide"
    }
   },
   "source": [
    "* To have each campaign's data we need to merge `exvoter_stcom` with the data we stored in `part_2`(which contains the data).\n",
    "* The new DataFrame `trump_hillary` is then converted into a pivot table to be used later for graph"
   ]
  },
  {
   "cell_type": "code",
   "execution_count": 104,
   "metadata": {
    "slideshow": {
     "slide_type": "fragment"
    }
   },
   "outputs": [],
   "source": [
    "# rename column\n",
    "part_2 = part_2.rename(columns={'TRANSACTION_AMT':'Expenditures'},inplace=False)\n",
    "\n",
    "# merge the data\n",
    "trump_hillary = pd.merge(part_2,\n",
    "                         exvoter_stcom,\n",
    "                         on=['State','CMTE_ID'],\n",
    "                         how='inner')\n",
    "\n",
    "# create pivot to later create graph\n",
    "trump_hillary = trump_hillary.pivot_table(index='State',\n",
    "                                          columns=['CMTE_ID'],\n",
    "                                          values='Expenditures',\n",
    "                                          aggfunc='sum')"
   ]
  },
  {
   "cell_type": "markdown",
   "metadata": {
    "slideshow": {
     "slide_type": "slide"
    }
   },
   "source": [
    "* **The geographical distribution, at a state level, of both of D.Trump's and H.Clinton's campaigns' expenditures per voter** is shown below."
   ]
  },
  {
   "cell_type": "code",
   "execution_count": 105,
   "metadata": {
    "slideshow": {
     "slide_type": "fragment"
    }
   },
   "outputs": [
    {
     "data": {
      "image/png": "[encoded data removed]",
      "text/plain": [
       "<Figure size 1080x720 with 1 Axes>"
      ]
     },
     "metadata": {
      "needs_background": "light"
     },
     "output_type": "display_data"
    }
   ],
   "source": [
    "g_both = exvoter_st.set_index('State')\\\n",
    "                   .plot(xlabel='State', \n",
    "                         ylabel='Money',\n",
    "                         title=\"Geographical distribution, at a state level, of the expenditures of D.Trump's and H.Clinton's campaigns' expenditures per voter\",\n",
    "                         kind='bar', \n",
    "                         color=('orange'), \n",
    "                         figsize=(15, 10))"
   ]
  },
  {
   "cell_type": "markdown",
   "metadata": {
    "slideshow": {
     "slide_type": "slide"
    }
   },
   "source": [
    "* **The geographical distribution, at a state level, of D.Trump's campaign's expenditures per voter** is shown below."
   ]
  },
  {
   "cell_type": "code",
   "execution_count": 106,
   "metadata": {
    "slideshow": {
     "slide_type": "fragment"
    }
   },
   "outputs": [
    {
     "data": {
      "image/png": "[encoded data removed]",
      "text/plain": [
       "<Figure size 1080x720 with 1 Axes>"
      ]
     },
     "metadata": {
      "needs_background": "light"
     },
     "output_type": "display_data"
    }
   ],
   "source": [
    "comparison = trump_hillary.plot(xlabel='State', \n",
    "                         ylabel='Money',\n",
    "                         title=\"Geographical distribution, at a state level, of the expenditures of D.Trump's and H.Clinton's campaigns per voter as a comparison \\nC00575795: H.Clinton's campaign\\nC00580100: D.Trump's campaign\",\n",
    "                         kind='bar', \n",
    "                         color=('blue','red'), \n",
    "                         figsize=(15, 10))"
   ]
  },
  {
   "cell_type": "markdown",
   "metadata": {
    "slideshow": {
     "slide_type": "slide"
    }
   },
   "source": [
    "* According to [en.wikipedia.org](https://en.wikipedia.org/wiki/Swing_state#:~:text=Swing%20states%20and%20tipping%20point%20states%2C%202000%E2%80%932016%20,%20New%20Hampshire%20%208%20more%20rows%20), the swing states are Wisconsin, Pennsylvania, New Hampshire, Minnesota, Arizona, Georgia, Florida, Michigan, Nevada, North Carolina, and Maine. "
   ]
  },
  {
   "cell_type": "code",
   "execution_count": 107,
   "metadata": {
    "slideshow": {
     "slide_type": "fragment"
    }
   },
   "outputs": [],
   "source": [
    "swing_st = ['Wisconsin','Pennsylvania','New Hampshire','Minnesota','Arizona','Georgia','Florida',\n",
    "            'Michigan','Nevada','North Carolina','Maine']"
   ]
  },
  {
   "cell_type": "markdown",
   "metadata": {
    "slideshow": {
     "slide_type": "fragment"
    }
   },
   "source": [
    "* The **geographical distribution on all swing states of both of D.Trump's and H.Clinton's campaigns' expenditures per voter** are shown below."
   ]
  },
  {
   "cell_type": "code",
   "execution_count": 108,
   "metadata": {
    "slideshow": {
     "slide_type": "fragment"
    }
   },
   "outputs": [
    {
     "data": {
      "image/png": "[encoded data removed]",
      "text/plain": [
       "<Figure size 720x576 with 1 Axes>"
      ]
     },
     "metadata": {
      "needs_background": "light"
     },
     "output_type": "display_data"
    }
   ],
   "source": [
    "total_swing = exvoter_st[exvoter_st['State'].isin(swing_st)]\\\n",
    "                                            .set_index('State')\\\n",
    "                                            .plot(xlabel='Swing State', \n",
    "                                                  ylabel='Money',\n",
    "                                                  title=\"Geographical distribution on all swing states of the expenditures of D.Trump's and H.Clinton's campaigns' expenditures per voter\",\n",
    "                                                  kind='bar', \n",
    "                                                  color=('orange'), \n",
    "                                                  figsize=(10, 8))"
   ]
  },
  {
   "cell_type": "markdown",
   "metadata": {
    "slideshow": {
     "slide_type": "slide"
    }
   },
   "source": [
    "* The **geographical distribution on all swing states of D.Trump's and H.Clinton's campaigns' expenditures per voter separately** are shown below."
   ]
  },
  {
   "cell_type": "code",
   "execution_count": 109,
   "metadata": {
    "slideshow": {
     "slide_type": "fragment"
    }
   },
   "outputs": [
    {
     "data": {
      "image/png": "[encoded data removed]",
      "text/plain": [
       "<Figure size 864x720 with 1 Axes>"
      ]
     },
     "metadata": {
      "needs_background": "light"
     },
     "output_type": "display_data"
    }
   ],
   "source": [
    "comparison_swing = trump_hillary[trump_hillary.index\\\n",
    "                                              .isin(swing_st)]\\\n",
    "                                              .plot(xlabel='Swing State', \n",
    "                                                    ylabel='Expenditures/Voter',\n",
    "                                                    title=\"Geographical distribution on all swing states of the expenditures of D.Trump's and H.Clinton's campaigns per voter as a comparison \\nC00575795: H.Clinton's campaign\\nC00580100: D.Trump's campaign\",\n",
    "                                                    kind='bar', \n",
    "                                                    color=('blue','red'), \n",
    "                                                    figsize=(12, 10))"
   ]
  },
  {
   "cell_type": "markdown",
   "metadata": {
    "slideshow": {
     "slide_type": "slide"
    }
   },
   "source": [
    "* As a comparison between swing and non swing states, the **geographical distribution on all swing and non-swing states of both of D.Trump's and H.Clinton's campaigns' expenditures per voter** is shown below."
   ]
  },
  {
   "cell_type": "code",
   "execution_count": 110,
   "metadata": {
    "slideshow": {
     "slide_type": "fragment"
    }
   },
   "outputs": [
    {
     "data": {
      "image/png": "[encoded data removed]",
      "text/plain": [
       "<Figure size 1080x576 with 1 Axes>"
      ]
     },
     "metadata": {
      "needs_background": "light"
     },
     "output_type": "display_data"
    }
   ],
   "source": [
    "# insert column with boolean values of whether a state is swing or not\n",
    "exvoter_st.insert(2,'Swing',None,allow_duplicates=True)\n",
    "exvoter_st['Swing'] = exvoter_st['State'].isin(swing_st)\n",
    "\n",
    "# create pivot table to use on plot\n",
    "exvoter_st = exvoter_st.pivot_table(index='State',\n",
    "                      columns='Swing',\n",
    "                      values='Expenditures/Voter',\n",
    "                      aggfunc='sum')\n",
    "\n",
    "# create graph\n",
    "total_swing = exvoter_st.plot(xlabel='State', \n",
    "                            ylabel='Expenditures/Voter',\n",
    "                            title=\"Geographical distribution on all swing and non-swing states of the expenditures of D.Trump's and H.Clinton's campaigns' expenditures per voter\",\n",
    "                            kind='bar', \n",
    "                            color=('green','blue'), \n",
    "                            figsize=(15, 8))"
   ]
  }
 ],
 "metadata": {
  "celltoolbar": "Slideshow",
  "kernelspec": {
   "display_name": "Python 3",
   "language": "python",
   "name": "python3"
  },
  "language_info": {
   "codemirror_mode": {
    "name": "ipython",
    "version": 3
   },
   "file_extension": ".py",
   "mimetype": "text/x-python",
   "name": "python",
   "nbconvert_exporter": "python",
   "pygments_lexer": "ipython3",
   "version": "3.7.9"
  }
 },
 "nbformat": 4,
 "nbformat_minor": 4
}
